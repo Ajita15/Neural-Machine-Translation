{
 "cells": [
  {
   "cell_type": "code",
   "execution_count": 1,
   "metadata": {
    "collapsed": true
   },
   "outputs": [],
   "source": [
    "import numpy as np\n",
    "import matplotlib.pyplot as plt\n",
    "import pandas as pd"
   ]
  },
  {
   "cell_type": "code",
   "execution_count": 2,
   "metadata": {
    "collapsed": false
   },
   "outputs": [
    {
     "name": "stderr",
     "output_type": "stream",
     "text": [
      "Using TensorFlow backend.\n"
     ]
    }
   ],
   "source": [
    "from keras.models import Sequential,Model\n",
    "from keras.layers import Bidirectional,LSTM,Dense,Dropout,Activation,RepeatVector,Concatenate,Dot,Input"
   ]
  },
  {
   "cell_type": "code",
   "execution_count": 3,
   "metadata": {
    "collapsed": true
   },
   "outputs": [],
   "source": [
    "def loaddata(filename):\n",
    "    file=open(filename,mode='rt',encoding='utf-8')\n",
    "    text=file.read()\n",
    "    file.close()\n",
    "    return text"
   ]
  },
  {
   "cell_type": "code",
   "execution_count": 4,
   "metadata": {
    "collapsed": true
   },
   "outputs": [],
   "source": [
    "bilng_text=loaddata(\"deu.txt\")"
   ]
  },
  {
   "cell_type": "code",
   "execution_count": 5,
   "metadata": {
    "collapsed": false
   },
   "outputs": [],
   "source": [
    "def pairs(text):\n",
    "    lines=text.strip().split('\\n')\n",
    "    pairs=[line.split('\\t') for line in lines]\n",
    "    return pairs"
   ]
  },
  {
   "cell_type": "code",
   "execution_count": 6,
   "metadata": {
    "collapsed": true
   },
   "outputs": [],
   "source": [
    "bilng_pairs=pairs(bilng_text)"
   ]
  },
  {
   "cell_type": "code",
   "execution_count": 7,
   "metadata": {
    "collapsed": false
   },
   "outputs": [
    {
     "data": {
      "text/plain": [
       "169813"
      ]
     },
     "execution_count": 7,
     "metadata": {},
     "output_type": "execute_result"
    }
   ],
   "source": [
    "len(bilng_pairs)"
   ]
  },
  {
   "cell_type": "code",
   "execution_count": 8,
   "metadata": {
    "collapsed": false
   },
   "outputs": [
    {
     "data": {
      "text/plain": [
       "['I ran.', 'Ich rannte.']"
      ]
     },
     "execution_count": 8,
     "metadata": {},
     "output_type": "execute_result"
    }
   ],
   "source": [
    "bilng_pairs[10]"
   ]
  },
  {
   "cell_type": "code",
   "execution_count": 9,
   "metadata": {
    "collapsed": false
   },
   "outputs": [],
   "source": [
    "import re\n",
    "from unicodedata import normalize\n",
    "import string\n",
    "table=str.maketrans('','',string.punctuation)\n",
    "non_print=re.compile('[^%s]' % re.escape(string.printable))\n",
    "def clean_text(pairs):\n",
    "    cleaned=[]\n",
    "    for pair in pairs:\n",
    "        cleaned_pair=[]\n",
    "        for line in pair:\n",
    "            # normalize unicode characters\n",
    "            line = normalize('NFD', line).encode('ascii', 'ignore')\n",
    "            line = line.decode('UTF-8')\n",
    "            line=line.split()\n",
    "            line=[word.lower() for word in line]\n",
    "            line=[non_print.sub('',word) for word in line]\n",
    "            line=[word.translate(table) for word in line]\n",
    "            line=[word for word in line if word.isalpha()]\n",
    "            cleaned_pair.append(' '.join(line))\n",
    "        cleaned.append(cleaned_pair)\n",
    "    return np.array(cleaned)"
   ]
  },
  {
   "cell_type": "code",
   "execution_count": 10,
   "metadata": {
    "collapsed": false
   },
   "outputs": [],
   "source": [
    "bilng_cleaned_pairs=clean_text(bilng_pairs)"
   ]
  },
  {
   "cell_type": "code",
   "execution_count": 11,
   "metadata": {
    "collapsed": false
   },
   "outputs": [
    {
     "data": {
      "text/plain": [
       "169813"
      ]
     },
     "execution_count": 11,
     "metadata": {},
     "output_type": "execute_result"
    }
   ],
   "source": [
    "len(bilng_cleaned_pairs)"
   ]
  },
  {
   "cell_type": "code",
   "execution_count": 12,
   "metadata": {
    "collapsed": false
   },
   "outputs": [
    {
     "data": {
      "text/plain": [
       "array(['i ran', 'ich rannte'], dtype='<U291')"
      ]
     },
     "execution_count": 12,
     "metadata": {},
     "output_type": "execute_result"
    }
   ],
   "source": [
    "bilng_cleaned_pairs[10]"
   ]
  },
  {
   "cell_type": "code",
   "execution_count": 13,
   "metadata": {
    "collapsed": false
   },
   "outputs": [],
   "source": [
    "'''from pickle import dump\n",
    "# save a list of clean sentences to file\n",
    "def save_clean_data(sentences, filename):\n",
    "    dump(sentences, open(filename, 'wb'))\n",
    "    print('Saved: %s' % filename)'''"
   ]
  },
  {
   "cell_type": "code",
   "execution_count": 14,
   "metadata": {
    "collapsed": false
   },
   "outputs": [
    {
     "name": "stdout",
     "output_type": "stream",
     "text": [
      "Saved: english-german.pkl\n"
     ]
    }
   ],
   "source": [
    "#save_clean_data(bilng_cleaned_pairs, 'english-german.pkl')"
   ]
  },
  {
   "cell_type": "code",
   "execution_count": 16,
   "metadata": {
    "collapsed": true
   },
   "outputs": [],
   "source": [
    "#using the first 10000 examples for simple model\n",
    "from numpy.random import shuffle\n",
    "dataset=bilng_cleaned_pairs[:20000]\n",
    "shuffle(dataset)\n",
    "train=dataset[:18000]\n",
    "test=dataset[18000:]"
   ]
  },
  {
   "cell_type": "code",
   "execution_count": 17,
   "metadata": {
    "collapsed": false
   },
   "outputs": [
    {
     "data": {
      "text/plain": [
       "(18000, 2)"
      ]
     },
     "execution_count": 17,
     "metadata": {},
     "output_type": "execute_result"
    }
   ],
   "source": [
    "train.shape"
   ]
  },
  {
   "cell_type": "code",
   "execution_count": 18,
   "metadata": {
    "collapsed": false
   },
   "outputs": [
    {
     "data": {
      "text/plain": [
       "(2000, 2)"
      ]
     },
     "execution_count": 18,
     "metadata": {},
     "output_type": "execute_result"
    }
   ],
   "source": [
    "test.shape"
   ]
  },
  {
   "cell_type": "code",
   "execution_count": 19,
   "metadata": {
    "collapsed": true
   },
   "outputs": [],
   "source": [
    "from keras.preprocessing.text import Tokenizer\n",
    "\n",
    "def create_tokenizer(lines):\n",
    "    tokenizer=Tokenizer()\n",
    "    tokenizer.fit_on_texts(lines)\n",
    "    return tokenizer"
   ]
  },
  {
   "cell_type": "code",
   "execution_count": 20,
   "metadata": {
    "collapsed": true
   },
   "outputs": [],
   "source": [
    "# max sentence length\n",
    "def max_length(lines):\n",
    "    return max(len(line.split()) for line in lines)"
   ]
  },
  {
   "cell_type": "code",
   "execution_count": 21,
   "metadata": {
    "collapsed": true
   },
   "outputs": [],
   "source": [
    "from keras.preprocessing.sequence import pad_sequences\n",
    "def encode_seq(tokenizer,length,line):\n",
    "    seq=tokenizer.texts_to_sequences(line)\n",
    "    seq=pad_sequences(seq,maxlen=length,padding='post')\n",
    "    return seq"
   ]
  },
  {
   "cell_type": "code",
   "execution_count": 22,
   "metadata": {
    "collapsed": true
   },
   "outputs": [],
   "source": [
    "from keras.utils import to_categorical\n",
    "def encode_oh(seq,vocab_size):\n",
    "    y=[]\n",
    "    for line in seq:\n",
    "        line=to_categorical(line,num_classes=vocab_size)\n",
    "        y.append(line)\n",
    "    y=np.array(y)\n",
    "    y=np.reshape(y,(seq.shape[0],seq.shape[1],vocab_size))\n",
    "    return y"
   ]
  },
  {
   "cell_type": "code",
   "execution_count": 23,
   "metadata": {
    "collapsed": true
   },
   "outputs": [],
   "source": [
    "#prepare training data and validation data\n",
    "eng_tokenizer=create_tokenizer(dataset[:,0])\n",
    "ger_tokenizer=create_tokenizer(dataset[:,1])\n",
    "eng_vocab_size=len(eng_tokenizer.word_index)+1\n",
    "ger_vocab_size=len(ger_tokenizer.word_index)+1\n",
    "eng_len=max_length(dataset[:,0])\n",
    "ger_len=max_length(dataset[:,1])"
   ]
  },
  {
   "cell_type": "code",
   "execution_count": 24,
   "metadata": {
    "collapsed": false
   },
   "outputs": [
    {
     "name": "stdout",
     "output_type": "stream",
     "text": [
      "6\n",
      "10\n",
      "3753\n",
      "5814\n"
     ]
    }
   ],
   "source": [
    "print(eng_len)\n",
    "print(ger_len)\n",
    "print(eng_vocab_size)\n",
    "print(ger_vocab_size)"
   ]
  },
  {
   "cell_type": "code",
   "execution_count": 25,
   "metadata": {
    "collapsed": false
   },
   "outputs": [],
   "source": [
    "trainX=encode_seq(ger_tokenizer,ger_len,train[:,1])\n",
    "trainY=encode_seq(eng_tokenizer,eng_len,train[:,0])\n",
    "trainYoh=encode_oh(trainY,eng_vocab_size)\n",
    "trainXoh=encode_oh(trainX,ger_vocab_size)"
   ]
  },
  {
   "cell_type": "code",
   "execution_count": 26,
   "metadata": {
    "collapsed": false
   },
   "outputs": [
    {
     "name": "stdout",
     "output_type": "stream",
     "text": [
      "(18000, 10, 5814)\n",
      "(18000, 6, 3753)\n"
     ]
    }
   ],
   "source": [
    "print(trainXoh.shape)\n",
    "print(trainYoh.shape)"
   ]
  },
  {
   "cell_type": "code",
   "execution_count": 27,
   "metadata": {
    "collapsed": false
   },
   "outputs": [
    {
     "name": "stdout",
     "output_type": "stream",
     "text": [
      "who hired you\n",
      "[ 59 835   4   0   0   0]\n",
      "wer hat dich angestellt\n",
      "[  46   10   25 2244    0    0    0    0    0    0]\n"
     ]
    }
   ],
   "source": [
    "print(train[0,0])\n",
    "print(trainY[0])\n",
    "print(train[0,1])\n",
    "print(trainX[0])"
   ]
  },
  {
   "cell_type": "code",
   "execution_count": 27,
   "metadata": {
    "collapsed": false
   },
   "outputs": [],
   "source": [
    "inv_dict={v:k for k,v in eng_tokenizer.word_index.items()}"
   ]
  },
  {
   "cell_type": "code",
   "execution_count": 28,
   "metadata": {
    "collapsed": true
   },
   "outputs": [],
   "source": [
    "testX=encode_seq(ger_tokenizer,ger_len,test[:,1])\n",
    "testY=encode_seq(eng_tokenizer,eng_len,test[:,0])\n",
    "testYoh=encode_oh(testY,eng_vocab_size)\n",
    "testXoh=encode_oh(testX,ger_vocab_size)"
   ]
  },
  {
   "cell_type": "code",
   "execution_count": 29,
   "metadata": {
    "collapsed": true
   },
   "outputs": [],
   "source": [
    "import keras.backend as K\n",
    "def softmax(x, axis=1):\n",
    "    \"\"\"Softmax activation function.\n",
    "    # Arguments\n",
    "        x : Tensor.\n",
    "        axis: Integer, axis along which the softmax normalization is applied.\n",
    "    # Returns\n",
    "        Tensor, output of softmax transformation.\n",
    "    # Raises\n",
    "        ValueError: In case `dim(x) == 1`.\n",
    "    \"\"\"\n",
    "    ndim = K.ndim(x)\n",
    "    if ndim == 2:\n",
    "        return K.softmax(x)\n",
    "    elif ndim > 2:\n",
    "        e = K.exp(x - K.max(x, axis=axis, keepdims=True))\n",
    "        s = K.sum(e, axis=axis, keepdims=True)\n",
    "        return e / s\n",
    "    else:\n",
    "        raise ValueError('Cannot apply softmax to a tensor that is 1D')"
   ]
  },
  {
   "cell_type": "code",
   "execution_count": 32,
   "metadata": {
    "collapsed": true
   },
   "outputs": [],
   "source": [
    "Tx=ger_len\n",
    "Ty=eng_len\n",
    "n_a=32\n",
    "n_s=64"
   ]
  },
  {
   "cell_type": "code",
   "execution_count": 33,
   "metadata": {
    "collapsed": true
   },
   "outputs": [],
   "source": [
    "#global variables for attention part of the model\n",
    "repeator=RepeatVector(Tx)\n",
    "concat=Concatenate(axis=-1)\n",
    "dense1=Dense(10,activation='tanh')\n",
    "dense2=Dense(1,activation='relu')\n",
    "dense3=Activation(softmax)\n",
    "dot=Dot(axes=1)"
   ]
  },
  {
   "cell_type": "code",
   "execution_count": 34,
   "metadata": {
    "collapsed": true
   },
   "outputs": [],
   "source": [
    "def one_step_attention(a,s_prev):\n",
    "    s_prev=repeator(s_prev)\n",
    "    X=concat([s_prev,a])\n",
    "    X=dense1(X)\n",
    "    X=dense2(X)\n",
    "    X=dense3(X)\n",
    "    context=dot([X,a])\n",
    "    return context"
   ]
  },
  {
   "cell_type": "code",
   "execution_count": 35,
   "metadata": {
    "collapsed": true
   },
   "outputs": [],
   "source": [
    "#global variables for NMT model\n",
    "post_attention_LSTM=LSTM(n_s,return_state=True)\n",
    "output_layer=Dense(eng_vocab_size,activation=softmax)"
   ]
  },
  {
   "cell_type": "code",
   "execution_count": 36,
   "metadata": {
    "collapsed": true
   },
   "outputs": [],
   "source": [
    "def model(Tx,Ty,n_a,n_s,inp_len):\n",
    "    X=Input(shape=(Tx,inp_len))\n",
    "    s0=Input(shape=(n_s,),name='s0')\n",
    "    c0=Input(shape=(n_s,),name='c0')\n",
    "    s=s0\n",
    "    c=c0\n",
    "    a=Bidirectional(LSTM(n_a,return_sequences=True))(X)\n",
    "    output=[]\n",
    "    for _ in range(Ty):\n",
    "        context=one_step_attention(a,s)\n",
    "        s,_,c=post_attention_LSTM(context)\n",
    "        out=output_layer(s)\n",
    "        output.append(out)\n",
    "    model=Model(inputs=[X,s0,c0],outputs=output)\n",
    "    return model"
   ]
  },
  {
   "cell_type": "code",
   "execution_count": 37,
   "metadata": {
    "collapsed": false
   },
   "outputs": [],
   "source": [
    "model1=model(Tx,Ty,n_a,n_s,ger_vocab_size)"
   ]
  },
  {
   "cell_type": "code",
   "execution_count": 38,
   "metadata": {
    "collapsed": false,
    "scrolled": true
   },
   "outputs": [
    {
     "name": "stdout",
     "output_type": "stream",
     "text": [
      "__________________________________________________________________________________________________\n",
      "Layer (type)                    Output Shape         Param #     Connected to                     \n",
      "==================================================================================================\n",
      "s0 (InputLayer)                 (None, 64)           0                                            \n",
      "__________________________________________________________________________________________________\n",
      "input_1 (InputLayer)            (None, 10, 5814)     0                                            \n",
      "__________________________________________________________________________________________________\n",
      "repeat_vector_2 (RepeatVector)  (None, 10, 64)       0           s0[0][0]                         \n",
      "                                                                 lstm_1[0][0]                     \n",
      "                                                                 lstm_1[1][0]                     \n",
      "                                                                 lstm_1[2][0]                     \n",
      "                                                                 lstm_1[3][0]                     \n",
      "                                                                 lstm_1[4][0]                     \n",
      "__________________________________________________________________________________________________\n",
      "bidirectional_1 (Bidirectional) (None, 10, 64)       1496832     input_1[0][0]                    \n",
      "__________________________________________________________________________________________________\n",
      "concatenate_2 (Concatenate)     (None, 10, 128)      0           repeat_vector_2[0][0]            \n",
      "                                                                 bidirectional_1[0][0]            \n",
      "                                                                 repeat_vector_2[1][0]            \n",
      "                                                                 bidirectional_1[0][0]            \n",
      "                                                                 repeat_vector_2[2][0]            \n",
      "                                                                 bidirectional_1[0][0]            \n",
      "                                                                 repeat_vector_2[3][0]            \n",
      "                                                                 bidirectional_1[0][0]            \n",
      "                                                                 repeat_vector_2[4][0]            \n",
      "                                                                 bidirectional_1[0][0]            \n",
      "                                                                 repeat_vector_2[5][0]            \n",
      "                                                                 bidirectional_1[0][0]            \n",
      "__________________________________________________________________________________________________\n",
      "dense_3 (Dense)                 (None, 10, 10)       1290        concatenate_2[0][0]              \n",
      "                                                                 concatenate_2[1][0]              \n",
      "                                                                 concatenate_2[2][0]              \n",
      "                                                                 concatenate_2[3][0]              \n",
      "                                                                 concatenate_2[4][0]              \n",
      "                                                                 concatenate_2[5][0]              \n",
      "__________________________________________________________________________________________________\n",
      "dense_4 (Dense)                 (None, 10, 1)        11          dense_3[0][0]                    \n",
      "                                                                 dense_3[1][0]                    \n",
      "                                                                 dense_3[2][0]                    \n",
      "                                                                 dense_3[3][0]                    \n",
      "                                                                 dense_3[4][0]                    \n",
      "                                                                 dense_3[5][0]                    \n",
      "__________________________________________________________________________________________________\n",
      "activation_2 (Activation)       (None, 10, 1)        0           dense_4[0][0]                    \n",
      "                                                                 dense_4[1][0]                    \n",
      "                                                                 dense_4[2][0]                    \n",
      "                                                                 dense_4[3][0]                    \n",
      "                                                                 dense_4[4][0]                    \n",
      "                                                                 dense_4[5][0]                    \n",
      "__________________________________________________________________________________________________\n",
      "dot_2 (Dot)                     (None, 1, 64)        0           activation_2[0][0]               \n",
      "                                                                 bidirectional_1[0][0]            \n",
      "                                                                 activation_2[1][0]               \n",
      "                                                                 bidirectional_1[0][0]            \n",
      "                                                                 activation_2[2][0]               \n",
      "                                                                 bidirectional_1[0][0]            \n",
      "                                                                 activation_2[3][0]               \n",
      "                                                                 bidirectional_1[0][0]            \n",
      "                                                                 activation_2[4][0]               \n",
      "                                                                 bidirectional_1[0][0]            \n",
      "                                                                 activation_2[5][0]               \n",
      "                                                                 bidirectional_1[0][0]            \n",
      "__________________________________________________________________________________________________\n",
      "lstm_1 (LSTM)                   [(None, 64), (None,  33024       dot_2[0][0]                      \n",
      "                                                                 dot_2[1][0]                      \n",
      "                                                                 dot_2[2][0]                      \n",
      "                                                                 dot_2[3][0]                      \n",
      "                                                                 dot_2[4][0]                      \n",
      "                                                                 dot_2[5][0]                      \n",
      "__________________________________________________________________________________________________\n",
      "dense_5 (Dense)                 (None, 3753)         243945      lstm_1[0][0]                     \n",
      "                                                                 lstm_1[1][0]                     \n",
      "                                                                 lstm_1[2][0]                     \n",
      "                                                                 lstm_1[3][0]                     \n",
      "                                                                 lstm_1[4][0]                     \n",
      "                                                                 lstm_1[5][0]                     \n",
      "==================================================================================================\n",
      "Total params: 1,775,102\n",
      "Trainable params: 1,775,102\n",
      "Non-trainable params: 0\n",
      "__________________________________________________________________________________________________\n"
     ]
    }
   ],
   "source": [
    "model1.summary()"
   ]
  },
  {
   "cell_type": "code",
   "execution_count": 39,
   "metadata": {
    "collapsed": true
   },
   "outputs": [],
   "source": [
    "model1.compile(optimizer='adam',loss='categorical_crossentropy',metrics=['accuracy'])"
   ]
  },
  {
   "cell_type": "code",
   "execution_count": 40,
   "metadata": {
    "collapsed": true
   },
   "outputs": [],
   "source": [
    "m=trainX.shape[0]\n",
    "s0=np.zeros((m,n_s))\n",
    "c0=np.zeros((m,n_s))\n",
    "outputs=list(trainYoh.swapaxes(0,1))"
   ]
  },
  {
   "cell_type": "code",
   "execution_count": 41,
   "metadata": {
    "collapsed": false,
    "scrolled": true
   },
   "outputs": [
    {
     "name": "stdout",
     "output_type": "stream",
     "text": [
      "Epoch 1/500\n",
      " - 69s - loss: 30.8921 - dense_5_loss: 3.0136 - dense_5_acc: 0.0000e+00 - dense_5_acc_1: 0.0021 - dense_5_acc_2: 0.1346 - dense_5_acc_3: 0.6193 - dense_5_acc_4: 0.9555 - dense_5_acc_5: 0.9887\n",
      "Epoch 2/500\n",
      " - 20s - loss: 23.4186 - dense_5_loss: 0.7640 - dense_5_acc: 0.0000e+00 - dense_5_acc_1: 0.0021 - dense_5_acc_2: 0.1364 - dense_5_acc_3: 0.6267 - dense_5_acc_4: 0.9659 - dense_5_acc_5: 0.9998\n",
      "Epoch 3/500\n",
      " - 21s - loss: 22.8419 - dense_5_loss: 0.6856 - dense_5_acc: 0.0000e+00 - dense_5_acc_1: 0.0021 - dense_5_acc_2: 0.1364 - dense_5_acc_3: 0.6267 - dense_5_acc_4: 0.9659 - dense_5_acc_5: 0.9998\n",
      "Epoch 4/500\n",
      " - 21s - loss: 22.3270 - dense_5_loss: 0.6377 - dense_5_acc: 0.1858 - dense_5_acc_1: 0.0021 - dense_5_acc_2: 0.1364 - dense_5_acc_3: 0.6267 - dense_5_acc_4: 0.9659 - dense_5_acc_5: 0.9998\n",
      "Epoch 5/500\n",
      " - 20s - loss: 22.1009 - dense_5_loss: 0.6225 - dense_5_acc: 0.1953 - dense_5_acc_1: 0.0021 - dense_5_acc_2: 0.1364 - dense_5_acc_3: 0.6267 - dense_5_acc_4: 0.9659 - dense_5_acc_5: 0.9998\n",
      "Epoch 6/500\n",
      " - 20s - loss: 21.9790 - dense_5_loss: 0.6210 - dense_5_acc: 0.1953 - dense_5_acc_1: 0.0021 - dense_5_acc_2: 0.1364 - dense_5_acc_3: 0.6267 - dense_5_acc_4: 0.9659 - dense_5_acc_5: 0.9998\n",
      "Epoch 7/500\n",
      " - 20s - loss: 21.8954 - dense_5_loss: 0.6158 - dense_5_acc: 0.1953 - dense_5_acc_1: 0.0021 - dense_5_acc_2: 0.1364 - dense_5_acc_3: 0.6267 - dense_5_acc_4: 0.9659 - dense_5_acc_5: 0.9998\n",
      "Epoch 8/500\n",
      " - 21s - loss: 21.8403 - dense_5_loss: 0.6130 - dense_5_acc: 0.1953 - dense_5_acc_1: 0.0021 - dense_5_acc_2: 0.1364 - dense_5_acc_3: 0.6267 - dense_5_acc_4: 0.9659 - dense_5_acc_5: 0.9998\n",
      "Epoch 9/500\n",
      " - 21s - loss: 21.7055 - dense_5_loss: 0.6184 - dense_5_acc: 0.1953 - dense_5_acc_1: 0.0021 - dense_5_acc_2: 0.1364 - dense_5_acc_3: 0.6267 - dense_5_acc_4: 0.9659 - dense_5_acc_5: 0.9998\n",
      "Epoch 10/500\n",
      " - 21s - loss: 21.5005 - dense_5_loss: 0.6177 - dense_5_acc: 0.1937 - dense_5_acc_1: 0.0021 - dense_5_acc_2: 0.1358 - dense_5_acc_3: 0.6246 - dense_5_acc_4: 0.9639 - dense_5_acc_5: 0.9980\n",
      "Epoch 11/500\n",
      " - 20s - loss: 21.2321 - dense_5_loss: 0.6178 - dense_5_acc: 0.1947 - dense_5_acc_1: 0.0021 - dense_5_acc_2: 0.1364 - dense_5_acc_3: 0.6267 - dense_5_acc_4: 0.9659 - dense_5_acc_5: 0.9998\n",
      "Epoch 12/500\n",
      " - 22s - loss: 21.0742 - dense_5_loss: 0.6186 - dense_5_acc: 0.1949 - dense_5_acc_1: 0.0021 - dense_5_acc_2: 0.1364 - dense_5_acc_3: 0.6267 - dense_5_acc_4: 0.9659 - dense_5_acc_5: 0.9998\n",
      "Epoch 13/500\n",
      " - 23s - loss: 20.9625 - dense_5_loss: 0.6193 - dense_5_acc: 0.1948 - dense_5_acc_1: 0.0021 - dense_5_acc_2: 0.1364 - dense_5_acc_3: 0.6267 - dense_5_acc_4: 0.9659 - dense_5_acc_5: 0.9998\n",
      "Epoch 14/500\n",
      " - 23s - loss: 20.8800 - dense_5_loss: 0.6201 - dense_5_acc: 0.1949 - dense_5_acc_1: 0.0021 - dense_5_acc_2: 0.1364 - dense_5_acc_3: 0.6267 - dense_5_acc_4: 0.9659 - dense_5_acc_5: 0.9998\n",
      "Epoch 15/500\n",
      " - 23s - loss: 20.8088 - dense_5_loss: 0.6197 - dense_5_acc: 0.1949 - dense_5_acc_1: 0.0021 - dense_5_acc_2: 0.1364 - dense_5_acc_3: 0.6267 - dense_5_acc_4: 0.9659 - dense_5_acc_5: 0.9998\n",
      "Epoch 16/500\n",
      " - 23s - loss: 20.7454 - dense_5_loss: 0.6195 - dense_5_acc: 0.1949 - dense_5_acc_1: 0.0021 - dense_5_acc_2: 0.1364 - dense_5_acc_3: 0.6267 - dense_5_acc_4: 0.9659 - dense_5_acc_5: 0.9998\n",
      "Epoch 17/500\n",
      " - 21s - loss: 20.6793 - dense_5_loss: 0.6201 - dense_5_acc: 0.1950 - dense_5_acc_1: 0.0021 - dense_5_acc_2: 0.1364 - dense_5_acc_3: 0.6267 - dense_5_acc_4: 0.9659 - dense_5_acc_5: 0.9998\n",
      "Epoch 18/500\n",
      " - 23s - loss: 20.5727 - dense_5_loss: 0.6210 - dense_5_acc: 0.2112 - dense_5_acc_1: 0.0021 - dense_5_acc_2: 0.1364 - dense_5_acc_3: 0.6267 - dense_5_acc_4: 0.9659 - dense_5_acc_5: 0.9998\n",
      "Epoch 19/500\n",
      " - 23s - loss: 20.3853 - dense_5_loss: 0.6226 - dense_5_acc: 0.3189 - dense_5_acc_1: 0.0021 - dense_5_acc_2: 0.1364 - dense_5_acc_3: 0.6267 - dense_5_acc_4: 0.9659 - dense_5_acc_5: 0.9998\n",
      "Epoch 20/500\n",
      " - 23s - loss: 20.1415 - dense_5_loss: 0.6228 - dense_5_acc: 0.3258 - dense_5_acc_1: 0.0021 - dense_5_acc_2: 0.1364 - dense_5_acc_3: 0.6267 - dense_5_acc_4: 0.9659 - dense_5_acc_5: 0.9998\n",
      "Epoch 21/500\n",
      " - 23s - loss: 19.8965 - dense_5_loss: 0.6218 - dense_5_acc: 0.3248 - dense_5_acc_1: 0.0021 - dense_5_acc_2: 0.1364 - dense_5_acc_3: 0.6267 - dense_5_acc_4: 0.9659 - dense_5_acc_5: 0.9998\n",
      "Epoch 22/500\n",
      " - 21s - loss: 19.6345 - dense_5_loss: 0.6214 - dense_5_acc: 0.3280 - dense_5_acc_1: 0.0021 - dense_5_acc_2: 0.1364 - dense_5_acc_3: 0.6267 - dense_5_acc_4: 0.9659 - dense_5_acc_5: 0.9998\n",
      "Epoch 23/500\n",
      " - 25s - loss: 19.3842 - dense_5_loss: 0.6219 - dense_5_acc: 0.3426 - dense_5_acc_1: 0.0021 - dense_5_acc_2: 0.1364 - dense_5_acc_3: 0.6267 - dense_5_acc_4: 0.9659 - dense_5_acc_5: 0.9998\n",
      "Epoch 24/500\n",
      " - 26s - loss: 19.1495 - dense_5_loss: 0.6223 - dense_5_acc: 0.3558 - dense_5_acc_1: 0.0021 - dense_5_acc_2: 0.1364 - dense_5_acc_3: 0.6267 - dense_5_acc_4: 0.9659 - dense_5_acc_5: 0.9998\n",
      "Epoch 25/500\n",
      " - 23s - loss: 18.9270 - dense_5_loss: 0.6259 - dense_5_acc: 0.3608 - dense_5_acc_1: 0.0021 - dense_5_acc_2: 0.1364 - dense_5_acc_3: 0.6267 - dense_5_acc_4: 0.9659 - dense_5_acc_5: 0.9998\n",
      "Epoch 26/500\n",
      " - 22s - loss: 18.7001 - dense_5_loss: 0.6269 - dense_5_acc: 0.3655 - dense_5_acc_1: 0.0021 - dense_5_acc_2: 0.1364 - dense_5_acc_3: 0.6267 - dense_5_acc_4: 0.9659 - dense_5_acc_5: 0.9998\n",
      "Epoch 27/500\n",
      " - 21s - loss: 18.4880 - dense_5_loss: 0.6284 - dense_5_acc: 0.3802 - dense_5_acc_1: 0.0021 - dense_5_acc_2: 0.1364 - dense_5_acc_3: 0.6267 - dense_5_acc_4: 0.9659 - dense_5_acc_5: 0.9998\n",
      "Epoch 28/500\n",
      " - 21s - loss: 18.2758 - dense_5_loss: 0.6294 - dense_5_acc: 0.3939 - dense_5_acc_1: 0.0021 - dense_5_acc_2: 0.1364 - dense_5_acc_3: 0.6267 - dense_5_acc_4: 0.9659 - dense_5_acc_5: 0.9998\n",
      "Epoch 29/500\n",
      " - 21s - loss: 18.0670 - dense_5_loss: 0.6305 - dense_5_acc: 0.4066 - dense_5_acc_1: 0.0021 - dense_5_acc_2: 0.1364 - dense_5_acc_3: 0.6267 - dense_5_acc_4: 0.9659 - dense_5_acc_5: 0.9998\n",
      "Epoch 30/500\n",
      " - 21s - loss: 17.8522 - dense_5_loss: 0.6302 - dense_5_acc: 0.4268 - dense_5_acc_1: 0.0021 - dense_5_acc_2: 0.1364 - dense_5_acc_3: 0.6267 - dense_5_acc_4: 0.9659 - dense_5_acc_5: 0.9997\n",
      "Epoch 31/500\n",
      " - 20s - loss: 17.6333 - dense_5_loss: 0.6307 - dense_5_acc: 0.4427 - dense_5_acc_1: 0.0021 - dense_5_acc_2: 0.1364 - dense_5_acc_3: 0.6267 - dense_5_acc_4: 0.9659 - dense_5_acc_5: 0.9997\n",
      "Epoch 32/500\n",
      " - 20s - loss: 17.4119 - dense_5_loss: 0.6309 - dense_5_acc: 0.4705 - dense_5_acc_1: 0.0022 - dense_5_acc_2: 0.1364 - dense_5_acc_3: 0.6267 - dense_5_acc_4: 0.9659 - dense_5_acc_5: 0.9996\n",
      "Epoch 33/500\n",
      " - 20s - loss: 17.1967 - dense_5_loss: 0.6322 - dense_5_acc: 0.4916 - dense_5_acc_1: 0.0022 - dense_5_acc_2: 0.1366 - dense_5_acc_3: 0.6267 - dense_5_acc_4: 0.9658 - dense_5_acc_5: 0.9994\n",
      "Epoch 34/500\n",
      " - 20s - loss: 16.9727 - dense_5_loss: 0.6324 - dense_5_acc: 0.5094 - dense_5_acc_1: 0.0022 - dense_5_acc_2: 0.1367 - dense_5_acc_3: 0.6267 - dense_5_acc_4: 0.9656 - dense_5_acc_5: 0.9992\n",
      "Epoch 35/500\n",
      " - 20s - loss: 16.7534 - dense_5_loss: 0.6322 - dense_5_acc: 0.5277 - dense_5_acc_1: 0.0022 - dense_5_acc_2: 0.1367 - dense_5_acc_3: 0.6267 - dense_5_acc_4: 0.9657 - dense_5_acc_5: 0.9993\n",
      "Epoch 36/500\n",
      " - 20s - loss: 16.5282 - dense_5_loss: 0.6330 - dense_5_acc: 0.5443 - dense_5_acc_1: 0.0021 - dense_5_acc_2: 0.1365 - dense_5_acc_3: 0.6267 - dense_5_acc_4: 0.9659 - dense_5_acc_5: 0.9997\n",
      "Epoch 37/500\n",
      " - 20s - loss: 16.3141 - dense_5_loss: 0.6328 - dense_5_acc: 0.5577 - dense_5_acc_1: 0.0023 - dense_5_acc_2: 0.1368 - dense_5_acc_3: 0.6268 - dense_5_acc_4: 0.9656 - dense_5_acc_5: 0.9991\n",
      "Epoch 38/500\n",
      " - 20s - loss: 16.1114 - dense_5_loss: 0.6324 - dense_5_acc: 0.5753 - dense_5_acc_1: 0.0024 - dense_5_acc_2: 0.1369 - dense_5_acc_3: 0.6266 - dense_5_acc_4: 0.9654 - dense_5_acc_5: 0.9989\n",
      "Epoch 39/500\n",
      " - 20s - loss: 15.9226 - dense_5_loss: 0.6323 - dense_5_acc: 0.5840 - dense_5_acc_1: 0.0022 - dense_5_acc_2: 0.1372 - dense_5_acc_3: 0.6267 - dense_5_acc_4: 0.9653 - dense_5_acc_5: 0.9988\n",
      "Epoch 40/500\n",
      " - 20s - loss: 15.7307 - dense_5_loss: 0.6324 - dense_5_acc: 0.6007 - dense_5_acc_1: 0.0023 - dense_5_acc_2: 0.1374 - dense_5_acc_3: 0.6267 - dense_5_acc_4: 0.9652 - dense_5_acc_5: 0.9986\n",
      "Epoch 41/500\n",
      " - 20s - loss: 15.5558 - dense_5_loss: 0.6324 - dense_5_acc: 0.6078 - dense_5_acc_1: 0.0026 - dense_5_acc_2: 0.1376 - dense_5_acc_3: 0.6268 - dense_5_acc_4: 0.9647 - dense_5_acc_5: 0.9978\n",
      "Epoch 42/500\n",
      " - 20s - loss: 15.3859 - dense_5_loss: 0.6326 - dense_5_acc: 0.6198 - dense_5_acc_1: 0.0027 - dense_5_acc_2: 0.1380 - dense_5_acc_3: 0.6271 - dense_5_acc_4: 0.9642 - dense_5_acc_5: 0.9967\n",
      "Epoch 43/500\n",
      " - 20s - loss: 15.2330 - dense_5_loss: 0.6332 - dense_5_acc: 0.6289 - dense_5_acc_1: 0.0030 - dense_5_acc_2: 0.1384 - dense_5_acc_3: 0.6269 - dense_5_acc_4: 0.9640 - dense_5_acc_5: 0.9962\n",
      "Epoch 44/500\n",
      " - 20s - loss: 15.0719 - dense_5_loss: 0.6317 - dense_5_acc: 0.6386 - dense_5_acc_1: 0.0033 - dense_5_acc_2: 0.1382 - dense_5_acc_3: 0.6271 - dense_5_acc_4: 0.9642 - dense_5_acc_5: 0.9964\n",
      "Epoch 45/500\n",
      " - 21s - loss: 14.9208 - dense_5_loss: 0.6325 - dense_5_acc: 0.6488 - dense_5_acc_1: 0.0048 - dense_5_acc_2: 0.1388 - dense_5_acc_3: 0.6272 - dense_5_acc_4: 0.9633 - dense_5_acc_5: 0.9952\n",
      "Epoch 46/500\n",
      " - 22s - loss: 14.7498 - dense_5_loss: 0.6236 - dense_5_acc: 0.6531 - dense_5_acc_1: 0.0192 - dense_5_acc_2: 0.1388 - dense_5_acc_3: 0.6276 - dense_5_acc_4: 0.9638 - dense_5_acc_5: 0.9953\n",
      "Epoch 47/500\n",
      " - 20s - loss: 14.2803 - dense_5_loss: 0.5161 - dense_5_acc: 0.6521 - dense_5_acc_1: 0.1519 - dense_5_acc_2: 0.1491 - dense_5_acc_3: 0.6263 - dense_5_acc_4: 0.9577 - dense_5_acc_5: 0.9903\n",
      "Epoch 48/500\n",
      " - 21s - loss: 13.2352 - dense_5_loss: 0.2426 - dense_5_acc: 0.6442 - dense_5_acc_1: 0.2770 - dense_5_acc_2: 0.1970 - dense_5_acc_3: 0.6287 - dense_5_acc_4: 0.9591 - dense_5_acc_5: 0.9954\n",
      "Epoch 49/500\n",
      " - 21s - loss: 12.3959 - dense_5_loss: 0.0991 - dense_5_acc: 0.6488 - dense_5_acc_1: 0.3217 - dense_5_acc_2: 0.2511 - dense_5_acc_3: 0.6333 - dense_5_acc_4: 0.9621 - dense_5_acc_5: 0.9982\n",
      "Epoch 50/500\n",
      " - 21s - loss: 11.9030 - dense_5_loss: 0.0572 - dense_5_acc: 0.6571 - dense_5_acc_1: 0.3392 - dense_5_acc_2: 0.2729 - dense_5_acc_3: 0.6369 - dense_5_acc_4: 0.9637 - dense_5_acc_5: 0.9987\n",
      "Epoch 51/500\n",
      " - 21s - loss: 11.5732 - dense_5_loss: 0.0413 - dense_5_acc: 0.6627 - dense_5_acc_1: 0.3538 - dense_5_acc_2: 0.2843 - dense_5_acc_3: 0.6407 - dense_5_acc_4: 0.9645 - dense_5_acc_5: 0.9989\n",
      "Epoch 52/500\n",
      " - 21s - loss: 11.2725 - dense_5_loss: 0.0320 - dense_5_acc: 0.6673 - dense_5_acc_1: 0.3595 - dense_5_acc_2: 0.2961 - dense_5_acc_3: 0.6451 - dense_5_acc_4: 0.9648 - dense_5_acc_5: 0.9994\n",
      "Epoch 53/500\n",
      " - 21s - loss: 11.0323 - dense_5_loss: 0.0262 - dense_5_acc: 0.6726 - dense_5_acc_1: 0.3673 - dense_5_acc_2: 0.3019 - dense_5_acc_3: 0.6491 - dense_5_acc_4: 0.9656 - dense_5_acc_5: 0.9994\n",
      "Epoch 54/500\n",
      " - 21s - loss: 10.8146 - dense_5_loss: 0.0223 - dense_5_acc: 0.6768 - dense_5_acc_1: 0.3763 - dense_5_acc_2: 0.3086 - dense_5_acc_3: 0.6522 - dense_5_acc_4: 0.9654 - dense_5_acc_5: 0.9994\n",
      "Epoch 55/500\n",
      " - 21s - loss: 10.6172 - dense_5_loss: 0.0201 - dense_5_acc: 0.6788 - dense_5_acc_1: 0.3824 - dense_5_acc_2: 0.3118 - dense_5_acc_3: 0.6557 - dense_5_acc_4: 0.9658 - dense_5_acc_5: 0.9994\n",
      "Epoch 56/500\n",
      " - 21s - loss: 10.4193 - dense_5_loss: 0.0170 - dense_5_acc: 0.6861 - dense_5_acc_1: 0.3930 - dense_5_acc_2: 0.3177 - dense_5_acc_3: 0.6583 - dense_5_acc_4: 0.9664 - dense_5_acc_5: 0.9995\n",
      "Epoch 57/500\n",
      " - 21s - loss: 10.2670 - dense_5_loss: 0.0170 - dense_5_acc: 0.6884 - dense_5_acc_1: 0.3994 - dense_5_acc_2: 0.3239 - dense_5_acc_3: 0.6587 - dense_5_acc_4: 0.9668 - dense_5_acc_5: 0.9994\n",
      "Epoch 58/500\n",
      " - 21s - loss: 10.1185 - dense_5_loss: 0.0171 - dense_5_acc: 0.6919 - dense_5_acc_1: 0.4057 - dense_5_acc_2: 0.3276 - dense_5_acc_3: 0.6591 - dense_5_acc_4: 0.9667 - dense_5_acc_5: 0.9992\n",
      "Epoch 59/500\n",
      " - 21s - loss: 9.9252 - dense_5_loss: 0.0144 - dense_5_acc: 0.6972 - dense_5_acc_1: 0.4131 - dense_5_acc_2: 0.3346 - dense_5_acc_3: 0.6631 - dense_5_acc_4: 0.9668 - dense_5_acc_5: 0.9996\n",
      "Epoch 60/500\n",
      " - 21s - loss: 9.7824 - dense_5_loss: 0.0145 - dense_5_acc: 0.7017 - dense_5_acc_1: 0.4177 - dense_5_acc_2: 0.3372 - dense_5_acc_3: 0.6653 - dense_5_acc_4: 0.9663 - dense_5_acc_5: 0.9993\n",
      "Epoch 61/500\n",
      " - 21s - loss: 9.6055 - dense_5_loss: 0.0133 - dense_5_acc: 0.7036 - dense_5_acc_1: 0.4263 - dense_5_acc_2: 0.3419 - dense_5_acc_3: 0.6685 - dense_5_acc_4: 0.9672 - dense_5_acc_5: 0.9993\n",
      "Epoch 62/500\n",
      " - 21s - loss: 9.4619 - dense_5_loss: 0.0126 - dense_5_acc: 0.7076 - dense_5_acc_1: 0.4333 - dense_5_acc_2: 0.3466 - dense_5_acc_3: 0.6709 - dense_5_acc_4: 0.9675 - dense_5_acc_5: 0.9994\n",
      "Epoch 63/500\n",
      " - 21s - loss: 9.3285 - dense_5_loss: 0.0125 - dense_5_acc: 0.7108 - dense_5_acc_1: 0.4409 - dense_5_acc_2: 0.3497 - dense_5_acc_3: 0.6714 - dense_5_acc_4: 0.9672 - dense_5_acc_5: 0.9993\n",
      "Epoch 64/500\n",
      " - 21s - loss: 9.1820 - dense_5_loss: 0.0111 - dense_5_acc: 0.7136 - dense_5_acc_1: 0.4446 - dense_5_acc_2: 0.3539 - dense_5_acc_3: 0.6754 - dense_5_acc_4: 0.9682 - dense_5_acc_5: 0.9994\n",
      "Epoch 65/500\n",
      " - 21s - loss: 9.0616 - dense_5_loss: 0.0118 - dense_5_acc: 0.7178 - dense_5_acc_1: 0.4512 - dense_5_acc_2: 0.3596 - dense_5_acc_3: 0.6759 - dense_5_acc_4: 0.9681 - dense_5_acc_5: 0.9993\n",
      "Epoch 66/500\n",
      " - 21s - loss: 8.9261 - dense_5_loss: 0.0114 - dense_5_acc: 0.7228 - dense_5_acc_1: 0.4563 - dense_5_acc_2: 0.3641 - dense_5_acc_3: 0.6787 - dense_5_acc_4: 0.9685 - dense_5_acc_5: 0.9994\n",
      "Epoch 67/500\n",
      " - 21s - loss: 8.7717 - dense_5_loss: 0.0101 - dense_5_acc: 0.7249 - dense_5_acc_1: 0.4628 - dense_5_acc_2: 0.3676 - dense_5_acc_3: 0.6826 - dense_5_acc_4: 0.9691 - dense_5_acc_5: 0.9994\n",
      "Epoch 68/500\n",
      " - 21s - loss: 8.6379 - dense_5_loss: 0.0096 - dense_5_acc: 0.7284 - dense_5_acc_1: 0.4694 - dense_5_acc_2: 0.3740 - dense_5_acc_3: 0.6837 - dense_5_acc_4: 0.9693 - dense_5_acc_5: 0.9994\n",
      "Epoch 69/500\n",
      " - 21s - loss: 8.5238 - dense_5_loss: 0.0089 - dense_5_acc: 0.7327 - dense_5_acc_1: 0.4740 - dense_5_acc_2: 0.3790 - dense_5_acc_3: 0.6854 - dense_5_acc_4: 0.9689 - dense_5_acc_5: 0.9995\n",
      "Epoch 70/500\n",
      " - 21s - loss: 8.4046 - dense_5_loss: 0.0098 - dense_5_acc: 0.7336 - dense_5_acc_1: 0.4811 - dense_5_acc_2: 0.3856 - dense_5_acc_3: 0.6874 - dense_5_acc_4: 0.9699 - dense_5_acc_5: 0.9994\n",
      "Epoch 71/500\n",
      " - 20s - loss: 8.2705 - dense_5_loss: 0.0091 - dense_5_acc: 0.7367 - dense_5_acc_1: 0.4880 - dense_5_acc_2: 0.3907 - dense_5_acc_3: 0.6899 - dense_5_acc_4: 0.9702 - dense_5_acc_5: 0.9993\n",
      "Epoch 72/500\n",
      " - 21s - loss: 8.1648 - dense_5_loss: 0.0087 - dense_5_acc: 0.7411 - dense_5_acc_1: 0.4944 - dense_5_acc_2: 0.3941 - dense_5_acc_3: 0.6919 - dense_5_acc_4: 0.9700 - dense_5_acc_5: 0.9996\n",
      "Epoch 73/500\n",
      " - 21s - loss: 8.0598 - dense_5_loss: 0.0082 - dense_5_acc: 0.7436 - dense_5_acc_1: 0.4945 - dense_5_acc_2: 0.3984 - dense_5_acc_3: 0.6941 - dense_5_acc_4: 0.9694 - dense_5_acc_5: 0.9994\n",
      "Epoch 74/500\n",
      " - 21s - loss: 7.9312 - dense_5_loss: 0.0088 - dense_5_acc: 0.7461 - dense_5_acc_1: 0.5037 - dense_5_acc_2: 0.4051 - dense_5_acc_3: 0.6986 - dense_5_acc_4: 0.9707 - dense_5_acc_5: 0.9993\n",
      "Epoch 75/500\n",
      " - 21s - loss: 7.8046 - dense_5_loss: 0.0071 - dense_5_acc: 0.7478 - dense_5_acc_1: 0.5078 - dense_5_acc_2: 0.4103 - dense_5_acc_3: 0.6989 - dense_5_acc_4: 0.9709 - dense_5_acc_5: 0.9996\n",
      "Epoch 76/500\n",
      " - 21s - loss: 7.7050 - dense_5_loss: 0.0076 - dense_5_acc: 0.7500 - dense_5_acc_1: 0.5147 - dense_5_acc_2: 0.4186 - dense_5_acc_3: 0.7019 - dense_5_acc_4: 0.9710 - dense_5_acc_5: 0.9994\n",
      "Epoch 77/500\n",
      " - 21s - loss: 7.5870 - dense_5_loss: 0.0070 - dense_5_acc: 0.7544 - dense_5_acc_1: 0.5215 - dense_5_acc_2: 0.4226 - dense_5_acc_3: 0.7037 - dense_5_acc_4: 0.9708 - dense_5_acc_5: 0.9996\n",
      "Epoch 78/500\n",
      " - 21s - loss: 7.4806 - dense_5_loss: 0.0074 - dense_5_acc: 0.7592 - dense_5_acc_1: 0.5275 - dense_5_acc_2: 0.4288 - dense_5_acc_3: 0.7069 - dense_5_acc_4: 0.9711 - dense_5_acc_5: 0.9993\n",
      "Epoch 79/500\n",
      " - 21s - loss: 7.3788 - dense_5_loss: 0.0076 - dense_5_acc: 0.7580 - dense_5_acc_1: 0.5353 - dense_5_acc_2: 0.4353 - dense_5_acc_3: 0.7080 - dense_5_acc_4: 0.9721 - dense_5_acc_5: 0.9993\n",
      "Epoch 80/500\n",
      " - 21s - loss: 7.2828 - dense_5_loss: 0.0067 - dense_5_acc: 0.7619 - dense_5_acc_1: 0.5384 - dense_5_acc_2: 0.4390 - dense_5_acc_3: 0.7095 - dense_5_acc_4: 0.9722 - dense_5_acc_5: 0.9995\n",
      "Epoch 81/500\n",
      " - 20s - loss: 7.1917 - dense_5_loss: 0.0073 - dense_5_acc: 0.7633 - dense_5_acc_1: 0.5423 - dense_5_acc_2: 0.4463 - dense_5_acc_3: 0.7121 - dense_5_acc_4: 0.9721 - dense_5_acc_5: 0.9991\n",
      "Epoch 82/500\n",
      " - 21s - loss: 7.0680 - dense_5_loss: 0.0053 - dense_5_acc: 0.7671 - dense_5_acc_1: 0.5513 - dense_5_acc_2: 0.4546 - dense_5_acc_3: 0.7148 - dense_5_acc_4: 0.9721 - dense_5_acc_5: 0.9997\n",
      "Epoch 83/500\n",
      " - 21s - loss: 6.9873 - dense_5_loss: 0.0058 - dense_5_acc: 0.7684 - dense_5_acc_1: 0.5587 - dense_5_acc_2: 0.4571 - dense_5_acc_3: 0.7177 - dense_5_acc_4: 0.9726 - dense_5_acc_5: 0.9996\n",
      "Epoch 84/500\n",
      " - 21s - loss: 6.8704 - dense_5_loss: 0.0061 - dense_5_acc: 0.7731 - dense_5_acc_1: 0.5642 - dense_5_acc_2: 0.4668 - dense_5_acc_3: 0.7212 - dense_5_acc_4: 0.9730 - dense_5_acc_5: 0.9994\n",
      "Epoch 85/500\n",
      " - 21s - loss: 6.7797 - dense_5_loss: 0.0055 - dense_5_acc: 0.7716 - dense_5_acc_1: 0.5688 - dense_5_acc_2: 0.4694 - dense_5_acc_3: 0.7227 - dense_5_acc_4: 0.9736 - dense_5_acc_5: 0.9996\n",
      "Epoch 86/500\n",
      " - 21s - loss: 6.7036 - dense_5_loss: 0.0057 - dense_5_acc: 0.7748 - dense_5_acc_1: 0.5739 - dense_5_acc_2: 0.4803 - dense_5_acc_3: 0.7244 - dense_5_acc_4: 0.9724 - dense_5_acc_5: 0.9994\n",
      "Epoch 87/500\n",
      " - 21s - loss: 6.6182 - dense_5_loss: 0.0062 - dense_5_acc: 0.7792 - dense_5_acc_1: 0.5760 - dense_5_acc_2: 0.4836 - dense_5_acc_3: 0.7269 - dense_5_acc_4: 0.9727 - dense_5_acc_5: 0.9994\n",
      "Epoch 88/500\n",
      " - 21s - loss: 6.5033 - dense_5_loss: 0.0050 - dense_5_acc: 0.7818 - dense_5_acc_1: 0.5848 - dense_5_acc_2: 0.4910 - dense_5_acc_3: 0.7294 - dense_5_acc_4: 0.9738 - dense_5_acc_5: 0.9997\n",
      "Epoch 89/500\n",
      " - 21s - loss: 6.4362 - dense_5_loss: 0.0064 - dense_5_acc: 0.7832 - dense_5_acc_1: 0.5885 - dense_5_acc_2: 0.4971 - dense_5_acc_3: 0.7310 - dense_5_acc_4: 0.9728 - dense_5_acc_5: 0.9991\n",
      "Epoch 90/500\n",
      " - 21s - loss: 6.3228 - dense_5_loss: 0.0055 - dense_5_acc: 0.7851 - dense_5_acc_1: 0.5979 - dense_5_acc_2: 0.5028 - dense_5_acc_3: 0.7371 - dense_5_acc_4: 0.9742 - dense_5_acc_5: 0.9996\n",
      "Epoch 91/500\n",
      " - 21s - loss: 6.2408 - dense_5_loss: 0.0047 - dense_5_acc: 0.7847 - dense_5_acc_1: 0.6006 - dense_5_acc_2: 0.5142 - dense_5_acc_3: 0.7394 - dense_5_acc_4: 0.9743 - dense_5_acc_5: 0.9996\n",
      "Epoch 92/500\n",
      " - 21s - loss: 6.1588 - dense_5_loss: 0.0049 - dense_5_acc: 0.7900 - dense_5_acc_1: 0.6052 - dense_5_acc_2: 0.5159 - dense_5_acc_3: 0.7413 - dense_5_acc_4: 0.9737 - dense_5_acc_5: 0.9995\n",
      "Epoch 93/500\n",
      " - 20s - loss: 6.0714 - dense_5_loss: 0.0053 - dense_5_acc: 0.7923 - dense_5_acc_1: 0.6128 - dense_5_acc_2: 0.5263 - dense_5_acc_3: 0.7447 - dense_5_acc_4: 0.9745 - dense_5_acc_5: 0.9996\n",
      "Epoch 94/500\n",
      " - 21s - loss: 5.9834 - dense_5_loss: 0.0042 - dense_5_acc: 0.7931 - dense_5_acc_1: 0.6162 - dense_5_acc_2: 0.5319 - dense_5_acc_3: 0.7487 - dense_5_acc_4: 0.9752 - dense_5_acc_5: 0.9997\n",
      "Epoch 95/500\n",
      " - 22s - loss: 5.9145 - dense_5_loss: 0.0048 - dense_5_acc: 0.7930 - dense_5_acc_1: 0.6230 - dense_5_acc_2: 0.5365 - dense_5_acc_3: 0.7475 - dense_5_acc_4: 0.9747 - dense_5_acc_5: 0.9996\n",
      "Epoch 96/500\n",
      " - 20s - loss: 5.8525 - dense_5_loss: 0.0045 - dense_5_acc: 0.7963 - dense_5_acc_1: 0.6243 - dense_5_acc_2: 0.5437 - dense_5_acc_3: 0.7511 - dense_5_acc_4: 0.9749 - dense_5_acc_5: 0.9996\n",
      "Epoch 97/500\n",
      " - 21s - loss: 5.7770 - dense_5_loss: 0.0046 - dense_5_acc: 0.7980 - dense_5_acc_1: 0.6297 - dense_5_acc_2: 0.5473 - dense_5_acc_3: 0.7531 - dense_5_acc_4: 0.9751 - dense_5_acc_5: 0.9996\n",
      "Epoch 98/500\n",
      " - 22s - loss: 5.6740 - dense_5_loss: 0.0043 - dense_5_acc: 0.8017 - dense_5_acc_1: 0.6381 - dense_5_acc_2: 0.5551 - dense_5_acc_3: 0.7552 - dense_5_acc_4: 0.9754 - dense_5_acc_5: 0.9996\n",
      "Epoch 99/500\n",
      " - 21s - loss: 5.6195 - dense_5_loss: 0.0048 - dense_5_acc: 0.8025 - dense_5_acc_1: 0.6380 - dense_5_acc_2: 0.5617 - dense_5_acc_3: 0.7594 - dense_5_acc_4: 0.9752 - dense_5_acc_5: 0.9995\n",
      "Epoch 100/500\n",
      " - 22s - loss: 5.5489 - dense_5_loss: 0.0048 - dense_5_acc: 0.8057 - dense_5_acc_1: 0.6440 - dense_5_acc_2: 0.5654 - dense_5_acc_3: 0.7591 - dense_5_acc_4: 0.9753 - dense_5_acc_5: 0.9994\n",
      "Epoch 101/500\n",
      " - 22s - loss: 5.4966 - dense_5_loss: 0.0041 - dense_5_acc: 0.8053 - dense_5_acc_1: 0.6457 - dense_5_acc_2: 0.5712 - dense_5_acc_3: 0.7624 - dense_5_acc_4: 0.9741 - dense_5_acc_5: 0.9996\n",
      "Epoch 102/500\n",
      " - 21s - loss: 5.3785 - dense_5_loss: 0.0042 - dense_5_acc: 0.8091 - dense_5_acc_1: 0.6530 - dense_5_acc_2: 0.5788 - dense_5_acc_3: 0.7699 - dense_5_acc_4: 0.9769 - dense_5_acc_5: 0.9995\n",
      "Epoch 103/500\n",
      " - 21s - loss: 5.3137 - dense_5_loss: 0.0037 - dense_5_acc: 0.8127 - dense_5_acc_1: 0.6594 - dense_5_acc_2: 0.5861 - dense_5_acc_3: 0.7703 - dense_5_acc_4: 0.9759 - dense_5_acc_5: 0.9997\n",
      "Epoch 104/500\n",
      " - 21s - loss: 5.2480 - dense_5_loss: 0.0042 - dense_5_acc: 0.8113 - dense_5_acc_1: 0.6612 - dense_5_acc_2: 0.5890 - dense_5_acc_3: 0.7733 - dense_5_acc_4: 0.9758 - dense_5_acc_5: 0.9996\n",
      "Epoch 105/500\n",
      " - 21s - loss: 5.1785 - dense_5_loss: 0.0042 - dense_5_acc: 0.8148 - dense_5_acc_1: 0.6683 - dense_5_acc_2: 0.5961 - dense_5_acc_3: 0.7731 - dense_5_acc_4: 0.9768 - dense_5_acc_5: 0.9994\n",
      "Epoch 106/500\n",
      " - 23s - loss: 5.1262 - dense_5_loss: 0.0035 - dense_5_acc: 0.8153 - dense_5_acc_1: 0.6693 - dense_5_acc_2: 0.5987 - dense_5_acc_3: 0.7773 - dense_5_acc_4: 0.9775 - dense_5_acc_5: 0.9996\n",
      "Epoch 107/500\n",
      " - 23s - loss: 5.0641 - dense_5_loss: 0.0045 - dense_5_acc: 0.8180 - dense_5_acc_1: 0.6757 - dense_5_acc_2: 0.6063 - dense_5_acc_3: 0.7793 - dense_5_acc_4: 0.9768 - dense_5_acc_5: 0.9995\n",
      "Epoch 108/500\n",
      " - 23s - loss: 5.0122 - dense_5_loss: 0.0042 - dense_5_acc: 0.8174 - dense_5_acc_1: 0.6765 - dense_5_acc_2: 0.6073 - dense_5_acc_3: 0.7811 - dense_5_acc_4: 0.9766 - dense_5_acc_5: 0.9996\n",
      "Epoch 109/500\n",
      " - 24s - loss: 4.9361 - dense_5_loss: 0.0039 - dense_5_acc: 0.8213 - dense_5_acc_1: 0.6817 - dense_5_acc_2: 0.6147 - dense_5_acc_3: 0.7861 - dense_5_acc_4: 0.9773 - dense_5_acc_5: 0.9996\n",
      "Epoch 110/500\n",
      " - 24s - loss: 4.8712 - dense_5_loss: 0.0043 - dense_5_acc: 0.8212 - dense_5_acc_1: 0.6831 - dense_5_acc_2: 0.6185 - dense_5_acc_3: 0.7879 - dense_5_acc_4: 0.9771 - dense_5_acc_5: 0.9994\n",
      "Epoch 111/500\n",
      " - 24s - loss: 4.8286 - dense_5_loss: 0.0037 - dense_5_acc: 0.8248 - dense_5_acc_1: 0.6874 - dense_5_acc_2: 0.6243 - dense_5_acc_3: 0.7869 - dense_5_acc_4: 0.9770 - dense_5_acc_5: 0.9995\n",
      "Epoch 112/500\n",
      " - 23s - loss: 4.7631 - dense_5_loss: 0.0039 - dense_5_acc: 0.8241 - dense_5_acc_1: 0.6912 - dense_5_acc_2: 0.6267 - dense_5_acc_3: 0.7932 - dense_5_acc_4: 0.9777 - dense_5_acc_5: 0.9996\n",
      "Epoch 113/500\n",
      " - 23s - loss: 4.6967 - dense_5_loss: 0.0033 - dense_5_acc: 0.8277 - dense_5_acc_1: 0.6978 - dense_5_acc_2: 0.6344 - dense_5_acc_3: 0.7954 - dense_5_acc_4: 0.9780 - dense_5_acc_5: 0.9997\n",
      "Epoch 114/500\n",
      " - 22s - loss: 4.6851 - dense_5_loss: 0.0053 - dense_5_acc: 0.8275 - dense_5_acc_1: 0.6986 - dense_5_acc_2: 0.6382 - dense_5_acc_3: 0.7916 - dense_5_acc_4: 0.9769 - dense_5_acc_5: 0.9992\n",
      "Epoch 115/500\n",
      " - 23s - loss: 4.5924 - dense_5_loss: 0.0035 - dense_5_acc: 0.8281 - dense_5_acc_1: 0.7038 - dense_5_acc_2: 0.6441 - dense_5_acc_3: 0.7967 - dense_5_acc_4: 0.9783 - dense_5_acc_5: 0.9997\n",
      "Epoch 116/500\n",
      " - 23s - loss: 4.5509 - dense_5_loss: 0.0039 - dense_5_acc: 0.8299 - dense_5_acc_1: 0.7075 - dense_5_acc_2: 0.6484 - dense_5_acc_3: 0.7968 - dense_5_acc_4: 0.9776 - dense_5_acc_5: 0.9995\n",
      "Epoch 117/500\n",
      " - 24s - loss: 4.4809 - dense_5_loss: 0.0035 - dense_5_acc: 0.8322 - dense_5_acc_1: 0.7092 - dense_5_acc_2: 0.6530 - dense_5_acc_3: 0.8042 - dense_5_acc_4: 0.9792 - dense_5_acc_5: 0.9996\n",
      "Epoch 118/500\n",
      " - 23s - loss: 4.4255 - dense_5_loss: 0.0038 - dense_5_acc: 0.8337 - dense_5_acc_1: 0.7097 - dense_5_acc_2: 0.6553 - dense_5_acc_3: 0.8012 - dense_5_acc_4: 0.9790 - dense_5_acc_5: 0.9996\n",
      "Epoch 119/500\n",
      " - 24s - loss: 4.3766 - dense_5_loss: 0.0036 - dense_5_acc: 0.8351 - dense_5_acc_1: 0.7152 - dense_5_acc_2: 0.6609 - dense_5_acc_3: 0.8046 - dense_5_acc_4: 0.9785 - dense_5_acc_5: 0.9994\n",
      "Epoch 120/500\n",
      " - 23s - loss: 4.3303 - dense_5_loss: 0.0034 - dense_5_acc: 0.8376 - dense_5_acc_1: 0.7179 - dense_5_acc_2: 0.6642 - dense_5_acc_3: 0.8057 - dense_5_acc_4: 0.9789 - dense_5_acc_5: 0.9996\n",
      "Epoch 121/500\n",
      " - 23s - loss: 4.2957 - dense_5_loss: 0.0041 - dense_5_acc: 0.8378 - dense_5_acc_1: 0.7202 - dense_5_acc_2: 0.6661 - dense_5_acc_3: 0.8074 - dense_5_acc_4: 0.9798 - dense_5_acc_5: 0.9994\n",
      "Epoch 122/500\n",
      " - 24s - loss: 4.2244 - dense_5_loss: 0.0030 - dense_5_acc: 0.8409 - dense_5_acc_1: 0.7217 - dense_5_acc_2: 0.6724 - dense_5_acc_3: 0.8087 - dense_5_acc_4: 0.9797 - dense_5_acc_5: 0.9996\n",
      "Epoch 123/500\n",
      " - 23s - loss: 4.1904 - dense_5_loss: 0.0036 - dense_5_acc: 0.8425 - dense_5_acc_1: 0.7240 - dense_5_acc_2: 0.6729 - dense_5_acc_3: 0.8106 - dense_5_acc_4: 0.9796 - dense_5_acc_5: 0.9995\n",
      "Epoch 124/500\n",
      " - 24s - loss: 4.1414 - dense_5_loss: 0.0035 - dense_5_acc: 0.8400 - dense_5_acc_1: 0.7303 - dense_5_acc_2: 0.6786 - dense_5_acc_3: 0.8154 - dense_5_acc_4: 0.9798 - dense_5_acc_5: 0.9996\n",
      "Epoch 125/500\n",
      " - 23s - loss: 4.0927 - dense_5_loss: 0.0040 - dense_5_acc: 0.8444 - dense_5_acc_1: 0.7318 - dense_5_acc_2: 0.6827 - dense_5_acc_3: 0.8154 - dense_5_acc_4: 0.9796 - dense_5_acc_5: 0.9994\n",
      "Epoch 126/500\n",
      " - 23s - loss: 4.0413 - dense_5_loss: 0.0032 - dense_5_acc: 0.8465 - dense_5_acc_1: 0.7341 - dense_5_acc_2: 0.6903 - dense_5_acc_3: 0.8166 - dense_5_acc_4: 0.9804 - dense_5_acc_5: 0.9995\n",
      "Epoch 127/500\n",
      " - 24s - loss: 3.9941 - dense_5_loss: 0.0041 - dense_5_acc: 0.8480 - dense_5_acc_1: 0.7362 - dense_5_acc_2: 0.6923 - dense_5_acc_3: 0.8182 - dense_5_acc_4: 0.9801 - dense_5_acc_5: 0.9994\n",
      "Epoch 128/500\n",
      " - 23s - loss: 3.9550 - dense_5_loss: 0.0037 - dense_5_acc: 0.8482 - dense_5_acc_1: 0.7391 - dense_5_acc_2: 0.6958 - dense_5_acc_3: 0.8229 - dense_5_acc_4: 0.9807 - dense_5_acc_5: 0.9994\n",
      "Epoch 129/500\n",
      " - 24s - loss: 3.9117 - dense_5_loss: 0.0030 - dense_5_acc: 0.8467 - dense_5_acc_1: 0.7403 - dense_5_acc_2: 0.6978 - dense_5_acc_3: 0.8229 - dense_5_acc_4: 0.9812 - dense_5_acc_5: 0.9997\n",
      "Epoch 130/500\n",
      " - 23s - loss: 3.8578 - dense_5_loss: 0.0032 - dense_5_acc: 0.8504 - dense_5_acc_1: 0.7456 - dense_5_acc_2: 0.7032 - dense_5_acc_3: 0.8262 - dense_5_acc_4: 0.9809 - dense_5_acc_5: 0.9994\n",
      "Epoch 131/500\n",
      " - 21s - loss: 3.8164 - dense_5_loss: 0.0034 - dense_5_acc: 0.8516 - dense_5_acc_1: 0.7486 - dense_5_acc_2: 0.7042 - dense_5_acc_3: 0.8278 - dense_5_acc_4: 0.9817 - dense_5_acc_5: 0.9995\n",
      "Epoch 132/500\n",
      " - 21s - loss: 3.7801 - dense_5_loss: 0.0036 - dense_5_acc: 0.8518 - dense_5_acc_1: 0.7496 - dense_5_acc_2: 0.7083 - dense_5_acc_3: 0.8274 - dense_5_acc_4: 0.9810 - dense_5_acc_5: 0.9993\n",
      "Epoch 133/500\n",
      " - 20s - loss: 3.7384 - dense_5_loss: 0.0033 - dense_5_acc: 0.8516 - dense_5_acc_1: 0.7500 - dense_5_acc_2: 0.7137 - dense_5_acc_3: 0.8312 - dense_5_acc_4: 0.9821 - dense_5_acc_5: 0.9994\n",
      "Epoch 134/500\n",
      " - 21s - loss: 3.6999 - dense_5_loss: 0.0033 - dense_5_acc: 0.8537 - dense_5_acc_1: 0.7541 - dense_5_acc_2: 0.7164 - dense_5_acc_3: 0.8318 - dense_5_acc_4: 0.9819 - dense_5_acc_5: 0.9994\n",
      "Epoch 135/500\n",
      " - 21s - loss: 3.6785 - dense_5_loss: 0.0035 - dense_5_acc: 0.8547 - dense_5_acc_1: 0.7554 - dense_5_acc_2: 0.7173 - dense_5_acc_3: 0.8312 - dense_5_acc_4: 0.9814 - dense_5_acc_5: 0.9995\n",
      "Epoch 136/500\n",
      " - 21s - loss: 3.6098 - dense_5_loss: 0.0025 - dense_5_acc: 0.8576 - dense_5_acc_1: 0.7599 - dense_5_acc_2: 0.7223 - dense_5_acc_3: 0.8367 - dense_5_acc_4: 0.9829 - dense_5_acc_5: 0.9997\n",
      "Epoch 137/500\n",
      " - 20s - loss: 3.5885 - dense_5_loss: 0.0026 - dense_5_acc: 0.8579 - dense_5_acc_1: 0.7572 - dense_5_acc_2: 0.7230 - dense_5_acc_3: 0.8358 - dense_5_acc_4: 0.9820 - dense_5_acc_5: 0.9997\n",
      "Epoch 138/500\n",
      " - 22s - loss: 3.5426 - dense_5_loss: 0.0032 - dense_5_acc: 0.8607 - dense_5_acc_1: 0.7602 - dense_5_acc_2: 0.7263 - dense_5_acc_3: 0.8379 - dense_5_acc_4: 0.9827 - dense_5_acc_5: 0.9996\n",
      "Epoch 139/500\n",
      " - 22s - loss: 3.5097 - dense_5_loss: 0.0029 - dense_5_acc: 0.8606 - dense_5_acc_1: 0.7630 - dense_5_acc_2: 0.7319 - dense_5_acc_3: 0.8404 - dense_5_acc_4: 0.9824 - dense_5_acc_5: 0.9996\n",
      "Epoch 140/500\n",
      " - 23s - loss: 3.4902 - dense_5_loss: 0.0033 - dense_5_acc: 0.8588 - dense_5_acc_1: 0.7648 - dense_5_acc_2: 0.7298 - dense_5_acc_3: 0.8403 - dense_5_acc_4: 0.9828 - dense_5_acc_5: 0.9996\n",
      "Epoch 141/500\n",
      " - 23s - loss: 3.4420 - dense_5_loss: 0.0029 - dense_5_acc: 0.8608 - dense_5_acc_1: 0.7674 - dense_5_acc_2: 0.7336 - dense_5_acc_3: 0.8417 - dense_5_acc_4: 0.9829 - dense_5_acc_5: 0.9998\n",
      "Epoch 142/500\n",
      " - 23s - loss: 3.4018 - dense_5_loss: 0.0029 - dense_5_acc: 0.8643 - dense_5_acc_1: 0.7719 - dense_5_acc_2: 0.7358 - dense_5_acc_3: 0.8445 - dense_5_acc_4: 0.9833 - dense_5_acc_5: 0.9996\n",
      "Epoch 143/500\n",
      " - 23s - loss: 3.3603 - dense_5_loss: 0.0032 - dense_5_acc: 0.8630 - dense_5_acc_1: 0.7740 - dense_5_acc_2: 0.7404 - dense_5_acc_3: 0.8479 - dense_5_acc_4: 0.9839 - dense_5_acc_5: 0.9995\n",
      "Epoch 144/500\n",
      " - 22s - loss: 3.3356 - dense_5_loss: 0.0033 - dense_5_acc: 0.8664 - dense_5_acc_1: 0.7763 - dense_5_acc_2: 0.7418 - dense_5_acc_3: 0.8479 - dense_5_acc_4: 0.9826 - dense_5_acc_5: 0.9995\n",
      "Epoch 145/500\n",
      " - 23s - loss: 3.3039 - dense_5_loss: 0.0031 - dense_5_acc: 0.8647 - dense_5_acc_1: 0.7737 - dense_5_acc_2: 0.7443 - dense_5_acc_3: 0.8497 - dense_5_acc_4: 0.9839 - dense_5_acc_5: 0.9995\n",
      "Epoch 146/500\n",
      " - 23s - loss: 3.2658 - dense_5_loss: 0.0032 - dense_5_acc: 0.8671 - dense_5_acc_1: 0.7777 - dense_5_acc_2: 0.7499 - dense_5_acc_3: 0.8509 - dense_5_acc_4: 0.9838 - dense_5_acc_5: 0.9996\n",
      "Epoch 147/500\n",
      " - 22s - loss: 3.2592 - dense_5_loss: 0.0032 - dense_5_acc: 0.8686 - dense_5_acc_1: 0.7798 - dense_5_acc_2: 0.7480 - dense_5_acc_3: 0.8501 - dense_5_acc_4: 0.9834 - dense_5_acc_5: 0.9997\n",
      "Epoch 148/500\n",
      " - 23s - loss: 3.2022 - dense_5_loss: 0.0028 - dense_5_acc: 0.8677 - dense_5_acc_1: 0.7831 - dense_5_acc_2: 0.7519 - dense_5_acc_3: 0.8541 - dense_5_acc_4: 0.9836 - dense_5_acc_5: 0.9997\n",
      "Epoch 149/500\n",
      " - 23s - loss: 3.1781 - dense_5_loss: 0.0025 - dense_5_acc: 0.8705 - dense_5_acc_1: 0.7850 - dense_5_acc_2: 0.7532 - dense_5_acc_3: 0.8532 - dense_5_acc_4: 0.9837 - dense_5_acc_5: 0.9997\n",
      "Epoch 150/500\n",
      " - 22s - loss: 3.1634 - dense_5_loss: 0.0037 - dense_5_acc: 0.8688 - dense_5_acc_1: 0.7818 - dense_5_acc_2: 0.7554 - dense_5_acc_3: 0.8551 - dense_5_acc_4: 0.9838 - dense_5_acc_5: 0.9992\n",
      "Epoch 151/500\n",
      " - 23s - loss: 3.1117 - dense_5_loss: 0.0029 - dense_5_acc: 0.8722 - dense_5_acc_1: 0.7884 - dense_5_acc_2: 0.7576 - dense_5_acc_3: 0.8577 - dense_5_acc_4: 0.9845 - dense_5_acc_5: 0.9996\n",
      "Epoch 152/500\n",
      " - 22s - loss: 3.0945 - dense_5_loss: 0.0030 - dense_5_acc: 0.8716 - dense_5_acc_1: 0.7868 - dense_5_acc_2: 0.7609 - dense_5_acc_3: 0.8612 - dense_5_acc_4: 0.9843 - dense_5_acc_5: 0.9996\n",
      "Epoch 153/500\n",
      " - 22s - loss: 3.0631 - dense_5_loss: 0.0023 - dense_5_acc: 0.8696 - dense_5_acc_1: 0.7885 - dense_5_acc_2: 0.7620 - dense_5_acc_3: 0.8596 - dense_5_acc_4: 0.9838 - dense_5_acc_5: 0.9998\n",
      "Epoch 154/500\n",
      " - 23s - loss: 3.0425 - dense_5_loss: 0.0029 - dense_5_acc: 0.8743 - dense_5_acc_1: 0.7896 - dense_5_acc_2: 0.7612 - dense_5_acc_3: 0.8588 - dense_5_acc_4: 0.9844 - dense_5_acc_5: 0.9997\n",
      "Epoch 155/500\n",
      " - 22s - loss: 2.9928 - dense_5_loss: 0.0025 - dense_5_acc: 0.8744 - dense_5_acc_1: 0.7955 - dense_5_acc_2: 0.7643 - dense_5_acc_3: 0.8652 - dense_5_acc_4: 0.9849 - dense_5_acc_5: 0.9998\n",
      "Epoch 156/500\n",
      " - 23s - loss: 2.9723 - dense_5_loss: 0.0034 - dense_5_acc: 0.8755 - dense_5_acc_1: 0.7952 - dense_5_acc_2: 0.7698 - dense_5_acc_3: 0.8641 - dense_5_acc_4: 0.9844 - dense_5_acc_5: 0.9994\n",
      "Epoch 157/500\n",
      " - 22s - loss: 2.9444 - dense_5_loss: 0.0027 - dense_5_acc: 0.8747 - dense_5_acc_1: 0.7966 - dense_5_acc_2: 0.7717 - dense_5_acc_3: 0.8656 - dense_5_acc_4: 0.9851 - dense_5_acc_5: 0.9997\n",
      "Epoch 158/500\n",
      " - 23s - loss: 2.9128 - dense_5_loss: 0.0033 - dense_5_acc: 0.8764 - dense_5_acc_1: 0.7982 - dense_5_acc_2: 0.7724 - dense_5_acc_3: 0.8662 - dense_5_acc_4: 0.9840 - dense_5_acc_5: 0.9996\n",
      "Epoch 159/500\n",
      " - 24s - loss: 2.8882 - dense_5_loss: 0.0030 - dense_5_acc: 0.8790 - dense_5_acc_1: 0.8004 - dense_5_acc_2: 0.7744 - dense_5_acc_3: 0.8638 - dense_5_acc_4: 0.9858 - dense_5_acc_5: 0.9995\n",
      "Epoch 160/500\n",
      " - 23s - loss: 2.8673 - dense_5_loss: 0.0020 - dense_5_acc: 0.8770 - dense_5_acc_1: 0.7997 - dense_5_acc_2: 0.7734 - dense_5_acc_3: 0.8699 - dense_5_acc_4: 0.9852 - dense_5_acc_5: 0.9998\n",
      "Epoch 161/500\n",
      " - 23s - loss: 2.8284 - dense_5_loss: 0.0026 - dense_5_acc: 0.8804 - dense_5_acc_1: 0.8042 - dense_5_acc_2: 0.7783 - dense_5_acc_3: 0.8709 - dense_5_acc_4: 0.9852 - dense_5_acc_5: 0.9998\n",
      "Epoch 162/500\n",
      " - 23s - loss: 2.8147 - dense_5_loss: 0.0028 - dense_5_acc: 0.8784 - dense_5_acc_1: 0.8020 - dense_5_acc_2: 0.7787 - dense_5_acc_3: 0.8718 - dense_5_acc_4: 0.9852 - dense_5_acc_5: 0.9997\n",
      "Epoch 163/500\n",
      " - 23s - loss: 2.8097 - dense_5_loss: 0.0034 - dense_5_acc: 0.8794 - dense_5_acc_1: 0.8032 - dense_5_acc_2: 0.7753 - dense_5_acc_3: 0.8697 - dense_5_acc_4: 0.9851 - dense_5_acc_5: 0.9994\n",
      "Epoch 164/500\n",
      " - 23s - loss: 2.7658 - dense_5_loss: 0.0024 - dense_5_acc: 0.8824 - dense_5_acc_1: 0.8062 - dense_5_acc_2: 0.7808 - dense_5_acc_3: 0.8726 - dense_5_acc_4: 0.9857 - dense_5_acc_5: 0.9998\n",
      "Epoch 165/500\n",
      " - 23s - loss: 2.7189 - dense_5_loss: 0.0021 - dense_5_acc: 0.8829 - dense_5_acc_1: 0.8113 - dense_5_acc_2: 0.7842 - dense_5_acc_3: 0.8739 - dense_5_acc_4: 0.9864 - dense_5_acc_5: 0.9997\n",
      "Epoch 166/500\n",
      " - 22s - loss: 2.7016 - dense_5_loss: 0.0025 - dense_5_acc: 0.8822 - dense_5_acc_1: 0.8111 - dense_5_acc_2: 0.7872 - dense_5_acc_3: 0.8771 - dense_5_acc_4: 0.9852 - dense_5_acc_5: 0.9997\n",
      "Epoch 167/500\n",
      " - 22s - loss: 2.6740 - dense_5_loss: 0.0023 - dense_5_acc: 0.8831 - dense_5_acc_1: 0.8102 - dense_5_acc_2: 0.7892 - dense_5_acc_3: 0.8773 - dense_5_acc_4: 0.9861 - dense_5_acc_5: 0.9997\n",
      "Epoch 168/500\n",
      " - 21s - loss: 2.6534 - dense_5_loss: 0.0021 - dense_5_acc: 0.8842 - dense_5_acc_1: 0.8122 - dense_5_acc_2: 0.7899 - dense_5_acc_3: 0.8784 - dense_5_acc_4: 0.9857 - dense_5_acc_5: 0.9998\n",
      "Epoch 169/500\n",
      " - 21s - loss: 2.6542 - dense_5_loss: 0.0032 - dense_5_acc: 0.8851 - dense_5_acc_1: 0.8143 - dense_5_acc_2: 0.7872 - dense_5_acc_3: 0.8781 - dense_5_acc_4: 0.9862 - dense_5_acc_5: 0.9997\n",
      "Epoch 170/500\n",
      " - 21s - loss: 2.6215 - dense_5_loss: 0.0027 - dense_5_acc: 0.8876 - dense_5_acc_1: 0.8147 - dense_5_acc_2: 0.7924 - dense_5_acc_3: 0.8813 - dense_5_acc_4: 0.9869 - dense_5_acc_5: 0.9997\n",
      "Epoch 171/500\n",
      " - 21s - loss: 2.6127 - dense_5_loss: 0.0032 - dense_5_acc: 0.8871 - dense_5_acc_1: 0.8157 - dense_5_acc_2: 0.7922 - dense_5_acc_3: 0.8765 - dense_5_acc_4: 0.9865 - dense_5_acc_5: 0.9993\n",
      "Epoch 172/500\n",
      " - 21s - loss: 2.6270 - dense_5_loss: 0.0030 - dense_5_acc: 0.8864 - dense_5_acc_1: 0.8171 - dense_5_acc_2: 0.7903 - dense_5_acc_3: 0.8762 - dense_5_acc_4: 0.9846 - dense_5_acc_5: 0.9995\n",
      "Epoch 173/500\n",
      " - 23s - loss: 2.5545 - dense_5_loss: 0.0026 - dense_5_acc: 0.8878 - dense_5_acc_1: 0.8170 - dense_5_acc_2: 0.7939 - dense_5_acc_3: 0.8809 - dense_5_acc_4: 0.9861 - dense_5_acc_5: 0.9998\n",
      "Epoch 174/500\n",
      " - 22s - loss: 2.5429 - dense_5_loss: 0.0034 - dense_5_acc: 0.8872 - dense_5_acc_1: 0.8209 - dense_5_acc_2: 0.7969 - dense_5_acc_3: 0.8831 - dense_5_acc_4: 0.9854 - dense_5_acc_5: 0.9993\n",
      "Epoch 175/500\n",
      " - 22s - loss: 2.5185 - dense_5_loss: 0.0024 - dense_5_acc: 0.8868 - dense_5_acc_1: 0.8194 - dense_5_acc_2: 0.8011 - dense_5_acc_3: 0.8814 - dense_5_acc_4: 0.9860 - dense_5_acc_5: 0.9997\n",
      "Epoch 176/500\n",
      " - 21s - loss: 2.4745 - dense_5_loss: 0.0026 - dense_5_acc: 0.8917 - dense_5_acc_1: 0.8251 - dense_5_acc_2: 0.8034 - dense_5_acc_3: 0.8856 - dense_5_acc_4: 0.9873 - dense_5_acc_5: 0.9996\n",
      "Epoch 177/500\n",
      " - 20s - loss: 2.4502 - dense_5_loss: 0.0024 - dense_5_acc: 0.8900 - dense_5_acc_1: 0.8271 - dense_5_acc_2: 0.8028 - dense_5_acc_3: 0.8880 - dense_5_acc_4: 0.9872 - dense_5_acc_5: 0.9996\n",
      "Epoch 178/500\n",
      " - 21s - loss: 2.4578 - dense_5_loss: 0.0023 - dense_5_acc: 0.8914 - dense_5_acc_1: 0.8233 - dense_5_acc_2: 0.8027 - dense_5_acc_3: 0.8862 - dense_5_acc_4: 0.9860 - dense_5_acc_5: 0.9999\n",
      "Epoch 179/500\n",
      " - 20s - loss: 2.4629 - dense_5_loss: 0.0029 - dense_5_acc: 0.8920 - dense_5_acc_1: 0.8246 - dense_5_acc_2: 0.8005 - dense_5_acc_3: 0.8853 - dense_5_acc_4: 0.9862 - dense_5_acc_5: 0.9997\n",
      "Epoch 180/500\n",
      " - 20s - loss: 2.4022 - dense_5_loss: 0.0025 - dense_5_acc: 0.8933 - dense_5_acc_1: 0.8282 - dense_5_acc_2: 0.8082 - dense_5_acc_3: 0.8879 - dense_5_acc_4: 0.9874 - dense_5_acc_5: 0.9996\n",
      "Epoch 181/500\n",
      " - 21s - loss: 2.3943 - dense_5_loss: 0.0028 - dense_5_acc: 0.8913 - dense_5_acc_1: 0.8273 - dense_5_acc_2: 0.8059 - dense_5_acc_3: 0.8878 - dense_5_acc_4: 0.9877 - dense_5_acc_5: 0.9996\n",
      "Epoch 182/500\n",
      " - 22s - loss: 2.3897 - dense_5_loss: 0.0027 - dense_5_acc: 0.8908 - dense_5_acc_1: 0.8283 - dense_5_acc_2: 0.8063 - dense_5_acc_3: 0.8882 - dense_5_acc_4: 0.9875 - dense_5_acc_5: 0.9997\n",
      "Epoch 183/500\n",
      " - 22s - loss: 2.3654 - dense_5_loss: 0.0029 - dense_5_acc: 0.8945 - dense_5_acc_1: 0.8316 - dense_5_acc_2: 0.8094 - dense_5_acc_3: 0.8908 - dense_5_acc_4: 0.9866 - dense_5_acc_5: 0.9995\n",
      "Epoch 184/500\n",
      " - 23s - loss: 2.3370 - dense_5_loss: 0.0019 - dense_5_acc: 0.8935 - dense_5_acc_1: 0.8331 - dense_5_acc_2: 0.8116 - dense_5_acc_3: 0.8917 - dense_5_acc_4: 0.9876 - dense_5_acc_5: 0.9999\n",
      "Epoch 185/500\n",
      " - 22s - loss: 2.3317 - dense_5_loss: 0.0022 - dense_5_acc: 0.8958 - dense_5_acc_1: 0.8324 - dense_5_acc_2: 0.8103 - dense_5_acc_3: 0.8896 - dense_5_acc_4: 0.9879 - dense_5_acc_5: 0.9998\n",
      "Epoch 186/500\n",
      " - 22s - loss: 2.3076 - dense_5_loss: 0.0025 - dense_5_acc: 0.8944 - dense_5_acc_1: 0.8346 - dense_5_acc_2: 0.8129 - dense_5_acc_3: 0.8911 - dense_5_acc_4: 0.9875 - dense_5_acc_5: 0.9997\n",
      "Epoch 187/500\n",
      " - 23s - loss: 2.2827 - dense_5_loss: 0.0025 - dense_5_acc: 0.8966 - dense_5_acc_1: 0.8363 - dense_5_acc_2: 0.8158 - dense_5_acc_3: 0.8927 - dense_5_acc_4: 0.9874 - dense_5_acc_5: 0.9996\n",
      "Epoch 188/500\n",
      " - 23s - loss: 2.2481 - dense_5_loss: 0.0024 - dense_5_acc: 0.8976 - dense_5_acc_1: 0.8385 - dense_5_acc_2: 0.8176 - dense_5_acc_3: 0.8955 - dense_5_acc_4: 0.9883 - dense_5_acc_5: 0.9997\n",
      "Epoch 189/500\n",
      " - 23s - loss: 2.2739 - dense_5_loss: 0.0031 - dense_5_acc: 0.8986 - dense_5_acc_1: 0.8371 - dense_5_acc_2: 0.8178 - dense_5_acc_3: 0.8921 - dense_5_acc_4: 0.9878 - dense_5_acc_5: 0.9996\n",
      "Epoch 190/500\n",
      " - 22s - loss: 2.2363 - dense_5_loss: 0.0028 - dense_5_acc: 0.8977 - dense_5_acc_1: 0.8381 - dense_5_acc_2: 0.8161 - dense_5_acc_3: 0.8961 - dense_5_acc_4: 0.9874 - dense_5_acc_5: 0.9996\n",
      "Epoch 191/500\n",
      " - 23s - loss: 2.2124 - dense_5_loss: 0.0027 - dense_5_acc: 0.8977 - dense_5_acc_1: 0.8399 - dense_5_acc_2: 0.8185 - dense_5_acc_3: 0.8967 - dense_5_acc_4: 0.9877 - dense_5_acc_5: 0.9996\n",
      "Epoch 192/500\n",
      " - 22s - loss: 2.1906 - dense_5_loss: 0.0025 - dense_5_acc: 0.9011 - dense_5_acc_1: 0.8413 - dense_5_acc_2: 0.8243 - dense_5_acc_3: 0.8979 - dense_5_acc_4: 0.9885 - dense_5_acc_5: 0.9997\n",
      "Epoch 193/500\n",
      " - 21s - loss: 2.1852 - dense_5_loss: 0.0020 - dense_5_acc: 0.8996 - dense_5_acc_1: 0.8396 - dense_5_acc_2: 0.8217 - dense_5_acc_3: 0.8997 - dense_5_acc_4: 0.9879 - dense_5_acc_5: 0.9998\n",
      "Epoch 194/500\n",
      " - 21s - loss: 2.1593 - dense_5_loss: 0.0023 - dense_5_acc: 0.9011 - dense_5_acc_1: 0.8429 - dense_5_acc_2: 0.8231 - dense_5_acc_3: 0.8979 - dense_5_acc_4: 0.9885 - dense_5_acc_5: 0.9997\n",
      "Epoch 195/500\n",
      " - 21s - loss: 2.1643 - dense_5_loss: 0.0028 - dense_5_acc: 0.8993 - dense_5_acc_1: 0.8429 - dense_5_acc_2: 0.8224 - dense_5_acc_3: 0.8987 - dense_5_acc_4: 0.9884 - dense_5_acc_5: 0.9996\n",
      "Epoch 196/500\n",
      " - 21s - loss: 2.1514 - dense_5_loss: 0.0018 - dense_5_acc: 0.8993 - dense_5_acc_1: 0.8444 - dense_5_acc_2: 0.8225 - dense_5_acc_3: 0.8991 - dense_5_acc_4: 0.9882 - dense_5_acc_5: 0.9999\n",
      "Epoch 197/500\n",
      " - 21s - loss: 2.1391 - dense_5_loss: 0.0023 - dense_5_acc: 0.9021 - dense_5_acc_1: 0.8414 - dense_5_acc_2: 0.8236 - dense_5_acc_3: 0.9021 - dense_5_acc_4: 0.9884 - dense_5_acc_5: 0.9997\n",
      "Epoch 198/500\n",
      " - 21s - loss: 2.1259 - dense_5_loss: 0.0034 - dense_5_acc: 0.9026 - dense_5_acc_1: 0.8456 - dense_5_acc_2: 0.8247 - dense_5_acc_3: 0.8993 - dense_5_acc_4: 0.9879 - dense_5_acc_5: 0.9996\n",
      "Epoch 199/500\n",
      " - 21s - loss: 2.1064 - dense_5_loss: 0.0031 - dense_5_acc: 0.9018 - dense_5_acc_1: 0.8462 - dense_5_acc_2: 0.8268 - dense_5_acc_3: 0.9003 - dense_5_acc_4: 0.9883 - dense_5_acc_5: 0.9995\n",
      "Epoch 200/500\n",
      " - 21s - loss: 2.0650 - dense_5_loss: 0.0024 - dense_5_acc: 0.9049 - dense_5_acc_1: 0.8483 - dense_5_acc_2: 0.8267 - dense_5_acc_3: 0.9033 - dense_5_acc_4: 0.9886 - dense_5_acc_5: 0.9997\n",
      "Epoch 201/500\n",
      " - 21s - loss: 2.0696 - dense_5_loss: 0.0022 - dense_5_acc: 0.9028 - dense_5_acc_1: 0.8465 - dense_5_acc_2: 0.8303 - dense_5_acc_3: 0.9028 - dense_5_acc_4: 0.9892 - dense_5_acc_5: 0.9997\n",
      "Epoch 202/500\n",
      " - 21s - loss: 2.0631 - dense_5_loss: 0.0026 - dense_5_acc: 0.9023 - dense_5_acc_1: 0.8489 - dense_5_acc_2: 0.8281 - dense_5_acc_3: 0.9034 - dense_5_acc_4: 0.9887 - dense_5_acc_5: 0.9996\n",
      "Epoch 203/500\n",
      " - 21s - loss: 2.0609 - dense_5_loss: 0.0026 - dense_5_acc: 0.9043 - dense_5_acc_1: 0.8486 - dense_5_acc_2: 0.8302 - dense_5_acc_3: 0.9028 - dense_5_acc_4: 0.9884 - dense_5_acc_5: 0.9996\n",
      "Epoch 204/500\n",
      " - 21s - loss: 2.0126 - dense_5_loss: 0.0019 - dense_5_acc: 0.9043 - dense_5_acc_1: 0.8509 - dense_5_acc_2: 0.8319 - dense_5_acc_3: 0.9053 - dense_5_acc_4: 0.9893 - dense_5_acc_5: 0.9997\n",
      "Epoch 205/500\n",
      " - 21s - loss: 2.0033 - dense_5_loss: 0.0030 - dense_5_acc: 0.9052 - dense_5_acc_1: 0.8518 - dense_5_acc_2: 0.8335 - dense_5_acc_3: 0.9071 - dense_5_acc_4: 0.9892 - dense_5_acc_5: 0.9996\n",
      "Epoch 206/500\n",
      " - 22s - loss: 2.0078 - dense_5_loss: 0.0024 - dense_5_acc: 0.9069 - dense_5_acc_1: 0.8512 - dense_5_acc_2: 0.8327 - dense_5_acc_3: 0.9039 - dense_5_acc_4: 0.9886 - dense_5_acc_5: 0.9996\n",
      "Epoch 207/500\n",
      " - 23s - loss: 2.0072 - dense_5_loss: 0.0028 - dense_5_acc: 0.9054 - dense_5_acc_1: 0.8527 - dense_5_acc_2: 0.8323 - dense_5_acc_3: 0.9057 - dense_5_acc_4: 0.9883 - dense_5_acc_5: 0.9996\n",
      "Epoch 208/500\n",
      " - 23s - loss: 1.9681 - dense_5_loss: 0.0022 - dense_5_acc: 0.9067 - dense_5_acc_1: 0.8549 - dense_5_acc_2: 0.8371 - dense_5_acc_3: 0.9059 - dense_5_acc_4: 0.9888 - dense_5_acc_5: 0.9997\n",
      "Epoch 209/500\n",
      " - 23s - loss: 1.9469 - dense_5_loss: 0.0020 - dense_5_acc: 0.9069 - dense_5_acc_1: 0.8542 - dense_5_acc_2: 0.8396 - dense_5_acc_3: 0.9084 - dense_5_acc_4: 0.9897 - dense_5_acc_5: 0.9998\n",
      "Epoch 210/500\n",
      " - 22s - loss: 1.9333 - dense_5_loss: 0.0024 - dense_5_acc: 0.9067 - dense_5_acc_1: 0.8545 - dense_5_acc_2: 0.8379 - dense_5_acc_3: 0.9069 - dense_5_acc_4: 0.9899 - dense_5_acc_5: 0.9997\n",
      "Epoch 211/500\n",
      " - 24s - loss: 1.9198 - dense_5_loss: 0.0034 - dense_5_acc: 0.9086 - dense_5_acc_1: 0.8558 - dense_5_acc_2: 0.8395 - dense_5_acc_3: 0.9094 - dense_5_acc_4: 0.9898 - dense_5_acc_5: 0.9993\n",
      "Epoch 212/500\n",
      " - 25s - loss: 1.9329 - dense_5_loss: 0.0023 - dense_5_acc: 0.9067 - dense_5_acc_1: 0.8554 - dense_5_acc_2: 0.8382 - dense_5_acc_3: 0.9087 - dense_5_acc_4: 0.9883 - dense_5_acc_5: 0.9997\n",
      "Epoch 213/500\n",
      " - 22s - loss: 1.9205 - dense_5_loss: 0.0028 - dense_5_acc: 0.9083 - dense_5_acc_1: 0.8559 - dense_5_acc_2: 0.8381 - dense_5_acc_3: 0.9079 - dense_5_acc_4: 0.9890 - dense_5_acc_5: 0.9995\n",
      "Epoch 214/500\n",
      " - 21s - loss: 1.8891 - dense_5_loss: 0.0019 - dense_5_acc: 0.9106 - dense_5_acc_1: 0.8603 - dense_5_acc_2: 0.8412 - dense_5_acc_3: 0.9097 - dense_5_acc_4: 0.9902 - dense_5_acc_5: 0.9997\n",
      "Epoch 215/500\n",
      " - 21s - loss: 1.8991 - dense_5_loss: 0.0027 - dense_5_acc: 0.9091 - dense_5_acc_1: 0.8556 - dense_5_acc_2: 0.8403 - dense_5_acc_3: 0.9090 - dense_5_acc_4: 0.9897 - dense_5_acc_5: 0.9996\n",
      "Epoch 216/500\n",
      " - 21s - loss: 1.8721 - dense_5_loss: 0.0022 - dense_5_acc: 0.9096 - dense_5_acc_1: 0.8611 - dense_5_acc_2: 0.8424 - dense_5_acc_3: 0.9099 - dense_5_acc_4: 0.9894 - dense_5_acc_5: 0.9997\n",
      "Epoch 217/500\n",
      " - 21s - loss: 1.8811 - dense_5_loss: 0.0029 - dense_5_acc: 0.9108 - dense_5_acc_1: 0.8575 - dense_5_acc_2: 0.8408 - dense_5_acc_3: 0.9084 - dense_5_acc_4: 0.9891 - dense_5_acc_5: 0.9994\n",
      "Epoch 218/500\n",
      " - 21s - loss: 1.8471 - dense_5_loss: 0.0019 - dense_5_acc: 0.9103 - dense_5_acc_1: 0.8616 - dense_5_acc_2: 0.8438 - dense_5_acc_3: 0.9117 - dense_5_acc_4: 0.9902 - dense_5_acc_5: 0.9998\n",
      "Epoch 219/500\n",
      " - 22s - loss: 1.8471 - dense_5_loss: 0.0025 - dense_5_acc: 0.9087 - dense_5_acc_1: 0.8590 - dense_5_acc_2: 0.8452 - dense_5_acc_3: 0.9106 - dense_5_acc_4: 0.9904 - dense_5_acc_5: 0.9997\n",
      "Epoch 220/500\n",
      " - 21s - loss: 1.8417 - dense_5_loss: 0.0019 - dense_5_acc: 0.9119 - dense_5_acc_1: 0.8611 - dense_5_acc_2: 0.8456 - dense_5_acc_3: 0.9122 - dense_5_acc_4: 0.9898 - dense_5_acc_5: 0.9998\n",
      "Epoch 221/500\n",
      " - 21s - loss: 1.8190 - dense_5_loss: 0.0028 - dense_5_acc: 0.9130 - dense_5_acc_1: 0.8619 - dense_5_acc_2: 0.8449 - dense_5_acc_3: 0.9126 - dense_5_acc_4: 0.9898 - dense_5_acc_5: 0.9996\n",
      "Epoch 222/500\n",
      " - 23s - loss: 1.8015 - dense_5_loss: 0.0024 - dense_5_acc: 0.9104 - dense_5_acc_1: 0.8634 - dense_5_acc_2: 0.8474 - dense_5_acc_3: 0.9137 - dense_5_acc_4: 0.9897 - dense_5_acc_5: 0.9996\n",
      "Epoch 223/500\n",
      " - 23s - loss: 1.8053 - dense_5_loss: 0.0023 - dense_5_acc: 0.9123 - dense_5_acc_1: 0.8618 - dense_5_acc_2: 0.8471 - dense_5_acc_3: 0.9119 - dense_5_acc_4: 0.9903 - dense_5_acc_5: 0.9997\n",
      "Epoch 224/500\n",
      " - 22s - loss: 1.7661 - dense_5_loss: 0.0021 - dense_5_acc: 0.9117 - dense_5_acc_1: 0.8651 - dense_5_acc_2: 0.8516 - dense_5_acc_3: 0.9166 - dense_5_acc_4: 0.9907 - dense_5_acc_5: 0.9998\n",
      "Epoch 225/500\n",
      " - 21s - loss: 1.7414 - dense_5_loss: 0.0024 - dense_5_acc: 0.9162 - dense_5_acc_1: 0.8659 - dense_5_acc_2: 0.8517 - dense_5_acc_3: 0.9163 - dense_5_acc_4: 0.9907 - dense_5_acc_5: 0.9996\n",
      "Epoch 226/500\n",
      " - 22s - loss: 1.7444 - dense_5_loss: 0.0024 - dense_5_acc: 0.9134 - dense_5_acc_1: 0.8632 - dense_5_acc_2: 0.8509 - dense_5_acc_3: 0.9167 - dense_5_acc_4: 0.9902 - dense_5_acc_5: 0.9996\n",
      "Epoch 227/500\n",
      " - 23s - loss: 1.7396 - dense_5_loss: 0.0025 - dense_5_acc: 0.9136 - dense_5_acc_1: 0.8667 - dense_5_acc_2: 0.8512 - dense_5_acc_3: 0.9170 - dense_5_acc_4: 0.9908 - dense_5_acc_5: 0.9997\n",
      "Epoch 228/500\n",
      " - 24s - loss: 1.7580 - dense_5_loss: 0.0026 - dense_5_acc: 0.9137 - dense_5_acc_1: 0.8651 - dense_5_acc_2: 0.8536 - dense_5_acc_3: 0.9154 - dense_5_acc_4: 0.9896 - dense_5_acc_5: 0.9996\n",
      "Epoch 229/500\n",
      " - 23s - loss: 1.7496 - dense_5_loss: 0.0024 - dense_5_acc: 0.9144 - dense_5_acc_1: 0.8647 - dense_5_acc_2: 0.8470 - dense_5_acc_3: 0.9149 - dense_5_acc_4: 0.9892 - dense_5_acc_5: 0.9994\n",
      "Epoch 230/500\n",
      " - 23s - loss: 1.7168 - dense_5_loss: 0.0027 - dense_5_acc: 0.9146 - dense_5_acc_1: 0.8673 - dense_5_acc_2: 0.8527 - dense_5_acc_3: 0.9177 - dense_5_acc_4: 0.9903 - dense_5_acc_5: 0.9995\n",
      "Epoch 231/500\n",
      " - 23s - loss: 1.6980 - dense_5_loss: 0.0022 - dense_5_acc: 0.9149 - dense_5_acc_1: 0.8683 - dense_5_acc_2: 0.8536 - dense_5_acc_3: 0.9187 - dense_5_acc_4: 0.9899 - dense_5_acc_5: 0.9997\n",
      "Epoch 232/500\n",
      " - 23s - loss: 1.7072 - dense_5_loss: 0.0022 - dense_5_acc: 0.9156 - dense_5_acc_1: 0.8649 - dense_5_acc_2: 0.8526 - dense_5_acc_3: 0.9178 - dense_5_acc_4: 0.9902 - dense_5_acc_5: 0.9998\n",
      "Epoch 233/500\n",
      " - 23s - loss: 1.7069 - dense_5_loss: 0.0028 - dense_5_acc: 0.9131 - dense_5_acc_1: 0.8698 - dense_5_acc_2: 0.8546 - dense_5_acc_3: 0.9172 - dense_5_acc_4: 0.9896 - dense_5_acc_5: 0.9995\n",
      "Epoch 234/500\n",
      " - 23s - loss: 1.7346 - dense_5_loss: 0.0027 - dense_5_acc: 0.9147 - dense_5_acc_1: 0.8657 - dense_5_acc_2: 0.8526 - dense_5_acc_3: 0.9131 - dense_5_acc_4: 0.9893 - dense_5_acc_5: 0.9996\n",
      "Epoch 235/500\n",
      " - 22s - loss: 1.6838 - dense_5_loss: 0.0022 - dense_5_acc: 0.9164 - dense_5_acc_1: 0.8670 - dense_5_acc_2: 0.8539 - dense_5_acc_3: 0.9183 - dense_5_acc_4: 0.9904 - dense_5_acc_5: 0.9997\n",
      "Epoch 236/500\n",
      " - 23s - loss: 1.6434 - dense_5_loss: 0.0016 - dense_5_acc: 0.9168 - dense_5_acc_1: 0.8702 - dense_5_acc_2: 0.8578 - dense_5_acc_3: 0.9204 - dense_5_acc_4: 0.9907 - dense_5_acc_5: 0.9999\n",
      "Epoch 237/500\n",
      " - 22s - loss: 1.6372 - dense_5_loss: 0.0014 - dense_5_acc: 0.9188 - dense_5_acc_1: 0.8695 - dense_5_acc_2: 0.8587 - dense_5_acc_3: 0.9231 - dense_5_acc_4: 0.9903 - dense_5_acc_5: 0.9999\n",
      "Epoch 238/500\n",
      " - 23s - loss: 1.6251 - dense_5_loss: 0.0017 - dense_5_acc: 0.9194 - dense_5_acc_1: 0.8733 - dense_5_acc_2: 0.8585 - dense_5_acc_3: 0.9224 - dense_5_acc_4: 0.9912 - dense_5_acc_5: 0.9999\n",
      "Epoch 239/500\n",
      " - 23s - loss: 1.6257 - dense_5_loss: 0.0020 - dense_5_acc: 0.9172 - dense_5_acc_1: 0.8717 - dense_5_acc_2: 0.8584 - dense_5_acc_3: 0.9211 - dense_5_acc_4: 0.9909 - dense_5_acc_5: 0.9998\n",
      "Epoch 240/500\n",
      " - 22s - loss: 1.6159 - dense_5_loss: 0.0028 - dense_5_acc: 0.9183 - dense_5_acc_1: 0.8718 - dense_5_acc_2: 0.8598 - dense_5_acc_3: 0.9220 - dense_5_acc_4: 0.9901 - dense_5_acc_5: 0.9998\n",
      "Epoch 241/500\n",
      " - 22s - loss: 1.6048 - dense_5_loss: 0.0026 - dense_5_acc: 0.9193 - dense_5_acc_1: 0.8752 - dense_5_acc_2: 0.8606 - dense_5_acc_3: 0.9223 - dense_5_acc_4: 0.9910 - dense_5_acc_5: 0.9996\n",
      "Epoch 242/500\n",
      " - 22s - loss: 1.6116 - dense_5_loss: 0.0034 - dense_5_acc: 0.9170 - dense_5_acc_1: 0.8761 - dense_5_acc_2: 0.8583 - dense_5_acc_3: 0.9209 - dense_5_acc_4: 0.9901 - dense_5_acc_5: 0.9993\n",
      "Epoch 243/500\n",
      " - 22s - loss: 1.5967 - dense_5_loss: 0.0026 - dense_5_acc: 0.9200 - dense_5_acc_1: 0.8727 - dense_5_acc_2: 0.8611 - dense_5_acc_3: 0.9230 - dense_5_acc_4: 0.9906 - dense_5_acc_5: 0.9996\n",
      "Epoch 244/500\n",
      " - 22s - loss: 1.5899 - dense_5_loss: 0.0019 - dense_5_acc: 0.9178 - dense_5_acc_1: 0.8739 - dense_5_acc_2: 0.8616 - dense_5_acc_3: 0.9246 - dense_5_acc_4: 0.9914 - dense_5_acc_5: 0.9998\n",
      "Epoch 245/500\n",
      " - 22s - loss: 1.5742 - dense_5_loss: 0.0022 - dense_5_acc: 0.9204 - dense_5_acc_1: 0.8738 - dense_5_acc_2: 0.8631 - dense_5_acc_3: 0.9227 - dense_5_acc_4: 0.9911 - dense_5_acc_5: 0.9997\n",
      "Epoch 246/500\n",
      " - 22s - loss: 1.5780 - dense_5_loss: 0.0032 - dense_5_acc: 0.9191 - dense_5_acc_1: 0.8741 - dense_5_acc_2: 0.8631 - dense_5_acc_3: 0.9229 - dense_5_acc_4: 0.9908 - dense_5_acc_5: 0.9994\n",
      "Epoch 247/500\n",
      " - 22s - loss: 1.5762 - dense_5_loss: 0.0022 - dense_5_acc: 0.9188 - dense_5_acc_1: 0.8771 - dense_5_acc_2: 0.8626 - dense_5_acc_3: 0.9215 - dense_5_acc_4: 0.9903 - dense_5_acc_5: 0.9996\n",
      "Epoch 248/500\n",
      " - 23s - loss: 1.5695 - dense_5_loss: 0.0025 - dense_5_acc: 0.9208 - dense_5_acc_1: 0.8769 - dense_5_acc_2: 0.8616 - dense_5_acc_3: 0.9221 - dense_5_acc_4: 0.9903 - dense_5_acc_5: 0.9994\n",
      "Epoch 249/500\n",
      " - 21s - loss: 1.5283 - dense_5_loss: 0.0015 - dense_5_acc: 0.9217 - dense_5_acc_1: 0.8791 - dense_5_acc_2: 0.8674 - dense_5_acc_3: 0.9239 - dense_5_acc_4: 0.9914 - dense_5_acc_5: 0.9998\n",
      "Epoch 250/500\n",
      " - 20s - loss: 1.5202 - dense_5_loss: 0.0024 - dense_5_acc: 0.9198 - dense_5_acc_1: 0.8781 - dense_5_acc_2: 0.8641 - dense_5_acc_3: 0.9270 - dense_5_acc_4: 0.9917 - dense_5_acc_5: 0.9997\n",
      "Epoch 251/500\n",
      " - 22s - loss: 1.5445 - dense_5_loss: 0.0023 - dense_5_acc: 0.9200 - dense_5_acc_1: 0.8755 - dense_5_acc_2: 0.8620 - dense_5_acc_3: 0.9253 - dense_5_acc_4: 0.9915 - dense_5_acc_5: 0.9997\n",
      "Epoch 252/500\n",
      " - 23s - loss: 1.5350 - dense_5_loss: 0.0024 - dense_5_acc: 0.9212 - dense_5_acc_1: 0.8747 - dense_5_acc_2: 0.8624 - dense_5_acc_3: 0.9242 - dense_5_acc_4: 0.9914 - dense_5_acc_5: 0.9996\n",
      "Epoch 253/500\n",
      " - 22s - loss: 1.5037 - dense_5_loss: 0.0020 - dense_5_acc: 0.9244 - dense_5_acc_1: 0.8774 - dense_5_acc_2: 0.8688 - dense_5_acc_3: 0.9268 - dense_5_acc_4: 0.9918 - dense_5_acc_5: 0.9997\n",
      "Epoch 254/500\n",
      " - 21s - loss: 1.4895 - dense_5_loss: 0.0025 - dense_5_acc: 0.9238 - dense_5_acc_1: 0.8808 - dense_5_acc_2: 0.8677 - dense_5_acc_3: 0.9269 - dense_5_acc_4: 0.9918 - dense_5_acc_5: 0.9994\n",
      "Epoch 255/500\n",
      " - 21s - loss: 1.4827 - dense_5_loss: 0.0022 - dense_5_acc: 0.9230 - dense_5_acc_1: 0.8783 - dense_5_acc_2: 0.8697 - dense_5_acc_3: 0.9283 - dense_5_acc_4: 0.9916 - dense_5_acc_5: 0.9998\n",
      "Epoch 256/500\n",
      " - 20s - loss: 1.4825 - dense_5_loss: 0.0023 - dense_5_acc: 0.9218 - dense_5_acc_1: 0.8794 - dense_5_acc_2: 0.8689 - dense_5_acc_3: 0.9277 - dense_5_acc_4: 0.9918 - dense_5_acc_5: 0.9996\n",
      "Epoch 257/500\n",
      " - 20s - loss: 1.4768 - dense_5_loss: 0.0013 - dense_5_acc: 0.9226 - dense_5_acc_1: 0.8823 - dense_5_acc_2: 0.8665 - dense_5_acc_3: 0.9271 - dense_5_acc_4: 0.9918 - dense_5_acc_5: 0.9999\n",
      "Epoch 258/500\n",
      " - 20s - loss: 1.4916 - dense_5_loss: 0.0019 - dense_5_acc: 0.9202 - dense_5_acc_1: 0.8791 - dense_5_acc_2: 0.8683 - dense_5_acc_3: 0.9256 - dense_5_acc_4: 0.9905 - dense_5_acc_5: 0.9999\n",
      "Epoch 259/500\n",
      " - 20s - loss: 1.4808 - dense_5_loss: 0.0028 - dense_5_acc: 0.9239 - dense_5_acc_1: 0.8818 - dense_5_acc_2: 0.8665 - dense_5_acc_3: 0.9256 - dense_5_acc_4: 0.9917 - dense_5_acc_5: 0.9997\n",
      "Epoch 260/500\n",
      " - 20s - loss: 1.4916 - dense_5_loss: 0.0030 - dense_5_acc: 0.9244 - dense_5_acc_1: 0.8773 - dense_5_acc_2: 0.8679 - dense_5_acc_3: 0.9251 - dense_5_acc_4: 0.9909 - dense_5_acc_5: 0.9994\n",
      "Epoch 261/500\n",
      " - 21s - loss: 1.4561 - dense_5_loss: 0.0024 - dense_5_acc: 0.9239 - dense_5_acc_1: 0.8796 - dense_5_acc_2: 0.8706 - dense_5_acc_3: 0.9284 - dense_5_acc_4: 0.9912 - dense_5_acc_5: 0.9996\n",
      "Epoch 262/500\n",
      " - 21s - loss: 1.4339 - dense_5_loss: 0.0021 - dense_5_acc: 0.9239 - dense_5_acc_1: 0.8816 - dense_5_acc_2: 0.8738 - dense_5_acc_3: 0.9297 - dense_5_acc_4: 0.9921 - dense_5_acc_5: 0.9997\n",
      "Epoch 263/500\n",
      " - 22s - loss: 1.4457 - dense_5_loss: 0.0022 - dense_5_acc: 0.9227 - dense_5_acc_1: 0.8803 - dense_5_acc_2: 0.8704 - dense_5_acc_3: 0.9293 - dense_5_acc_4: 0.9917 - dense_5_acc_5: 0.9996\n",
      "Epoch 264/500\n",
      " - 22s - loss: 1.4428 - dense_5_loss: 0.0031 - dense_5_acc: 0.9251 - dense_5_acc_1: 0.8832 - dense_5_acc_2: 0.8724 - dense_5_acc_3: 0.9278 - dense_5_acc_4: 0.9909 - dense_5_acc_5: 0.9995\n",
      "Epoch 265/500\n",
      " - 20s - loss: 1.4147 - dense_5_loss: 0.0019 - dense_5_acc: 0.9244 - dense_5_acc_1: 0.8841 - dense_5_acc_2: 0.8740 - dense_5_acc_3: 0.9294 - dense_5_acc_4: 0.9918 - dense_5_acc_5: 0.9998\n",
      "Epoch 266/500\n",
      " - 20s - loss: 1.4076 - dense_5_loss: 0.0026 - dense_5_acc: 0.9254 - dense_5_acc_1: 0.8844 - dense_5_acc_2: 0.8739 - dense_5_acc_3: 0.9288 - dense_5_acc_4: 0.9919 - dense_5_acc_5: 0.9995\n",
      "Epoch 267/500\n",
      " - 20s - loss: 1.3991 - dense_5_loss: 0.0018 - dense_5_acc: 0.9259 - dense_5_acc_1: 0.8851 - dense_5_acc_2: 0.8731 - dense_5_acc_3: 0.9311 - dense_5_acc_4: 0.9926 - dense_5_acc_5: 0.9997\n",
      "Epoch 268/500\n",
      " - 20s - loss: 1.4157 - dense_5_loss: 0.0020 - dense_5_acc: 0.9267 - dense_5_acc_1: 0.8837 - dense_5_acc_2: 0.8733 - dense_5_acc_3: 0.9281 - dense_5_acc_4: 0.9914 - dense_5_acc_5: 0.9997\n",
      "Epoch 269/500\n",
      " - 20s - loss: 1.3941 - dense_5_loss: 0.0020 - dense_5_acc: 0.9276 - dense_5_acc_1: 0.8827 - dense_5_acc_2: 0.8736 - dense_5_acc_3: 0.9324 - dense_5_acc_4: 0.9922 - dense_5_acc_5: 0.9997\n",
      "Epoch 270/500\n",
      " - 20s - loss: 1.3941 - dense_5_loss: 0.0020 - dense_5_acc: 0.9241 - dense_5_acc_1: 0.8866 - dense_5_acc_2: 0.8752 - dense_5_acc_3: 0.9299 - dense_5_acc_4: 0.9919 - dense_5_acc_5: 0.9997\n",
      "Epoch 271/500\n",
      " - 20s - loss: 1.3756 - dense_5_loss: 0.0020 - dense_5_acc: 0.9266 - dense_5_acc_1: 0.8861 - dense_5_acc_2: 0.8745 - dense_5_acc_3: 0.9318 - dense_5_acc_4: 0.9927 - dense_5_acc_5: 0.9997\n",
      "Epoch 272/500\n",
      " - 20s - loss: 1.3770 - dense_5_loss: 0.0023 - dense_5_acc: 0.9258 - dense_5_acc_1: 0.8883 - dense_5_acc_2: 0.8745 - dense_5_acc_3: 0.9306 - dense_5_acc_4: 0.9918 - dense_5_acc_5: 0.9997\n",
      "Epoch 273/500\n",
      " - 20s - loss: 1.3788 - dense_5_loss: 0.0020 - dense_5_acc: 0.9287 - dense_5_acc_1: 0.8859 - dense_5_acc_2: 0.8765 - dense_5_acc_3: 0.9298 - dense_5_acc_4: 0.9913 - dense_5_acc_5: 0.9996\n",
      "Epoch 274/500\n",
      " - 20s - loss: 1.3679 - dense_5_loss: 0.0021 - dense_5_acc: 0.9271 - dense_5_acc_1: 0.8865 - dense_5_acc_2: 0.8792 - dense_5_acc_3: 0.9314 - dense_5_acc_4: 0.9921 - dense_5_acc_5: 0.9997\n",
      "Epoch 275/500\n",
      " - 20s - loss: 1.3402 - dense_5_loss: 0.0016 - dense_5_acc: 0.9268 - dense_5_acc_1: 0.8881 - dense_5_acc_2: 0.8773 - dense_5_acc_3: 0.9338 - dense_5_acc_4: 0.9924 - dense_5_acc_5: 0.9998\n",
      "Epoch 276/500\n",
      " - 20s - loss: 1.3766 - dense_5_loss: 0.0024 - dense_5_acc: 0.9252 - dense_5_acc_1: 0.8866 - dense_5_acc_2: 0.8749 - dense_5_acc_3: 0.9312 - dense_5_acc_4: 0.9909 - dense_5_acc_5: 0.9996\n",
      "Epoch 277/500\n",
      " - 20s - loss: 1.3430 - dense_5_loss: 0.0014 - dense_5_acc: 0.9277 - dense_5_acc_1: 0.8872 - dense_5_acc_2: 0.8777 - dense_5_acc_3: 0.9339 - dense_5_acc_4: 0.9924 - dense_5_acc_5: 0.9998\n",
      "Epoch 278/500\n",
      " - 20s - loss: 1.3266 - dense_5_loss: 0.0026 - dense_5_acc: 0.9293 - dense_5_acc_1: 0.8891 - dense_5_acc_2: 0.8802 - dense_5_acc_3: 0.9344 - dense_5_acc_4: 0.9925 - dense_5_acc_5: 0.9996\n",
      "Epoch 279/500\n",
      " - 20s - loss: 1.3331 - dense_5_loss: 0.0025 - dense_5_acc: 0.9290 - dense_5_acc_1: 0.8874 - dense_5_acc_2: 0.8760 - dense_5_acc_3: 0.9321 - dense_5_acc_4: 0.9920 - dense_5_acc_5: 0.9996\n",
      "Epoch 280/500\n",
      " - 20s - loss: 1.3228 - dense_5_loss: 0.0019 - dense_5_acc: 0.9277 - dense_5_acc_1: 0.8865 - dense_5_acc_2: 0.8791 - dense_5_acc_3: 0.9355 - dense_5_acc_4: 0.9923 - dense_5_acc_5: 0.9997\n",
      "Epoch 281/500\n",
      " - 20s - loss: 1.3098 - dense_5_loss: 0.0032 - dense_5_acc: 0.9297 - dense_5_acc_1: 0.8914 - dense_5_acc_2: 0.8797 - dense_5_acc_3: 0.9337 - dense_5_acc_4: 0.9924 - dense_5_acc_5: 0.9996\n",
      "Epoch 282/500\n",
      " - 20s - loss: 1.2989 - dense_5_loss: 0.0023 - dense_5_acc: 0.9287 - dense_5_acc_1: 0.8893 - dense_5_acc_2: 0.8803 - dense_5_acc_3: 0.9354 - dense_5_acc_4: 0.9928 - dense_5_acc_5: 0.9997\n",
      "Epoch 283/500\n",
      " - 20s - loss: 1.3046 - dense_5_loss: 0.0028 - dense_5_acc: 0.9288 - dense_5_acc_1: 0.8893 - dense_5_acc_2: 0.8800 - dense_5_acc_3: 0.9339 - dense_5_acc_4: 0.9927 - dense_5_acc_5: 0.9996\n",
      "Epoch 284/500\n",
      " - 20s - loss: 1.2952 - dense_5_loss: 0.0013 - dense_5_acc: 0.9296 - dense_5_acc_1: 0.8926 - dense_5_acc_2: 0.8818 - dense_5_acc_3: 0.9354 - dense_5_acc_4: 0.9920 - dense_5_acc_5: 0.9999\n",
      "Epoch 285/500\n",
      " - 20s - loss: 1.2927 - dense_5_loss: 0.0030 - dense_5_acc: 0.9286 - dense_5_acc_1: 0.8917 - dense_5_acc_2: 0.8822 - dense_5_acc_3: 0.9352 - dense_5_acc_4: 0.9922 - dense_5_acc_5: 0.9997\n",
      "Epoch 286/500\n",
      " - 20s - loss: 1.2941 - dense_5_loss: 0.0022 - dense_5_acc: 0.9292 - dense_5_acc_1: 0.8908 - dense_5_acc_2: 0.8807 - dense_5_acc_3: 0.9344 - dense_5_acc_4: 0.9923 - dense_5_acc_5: 0.9996\n",
      "Epoch 287/500\n",
      " - 20s - loss: 1.2853 - dense_5_loss: 0.0015 - dense_5_acc: 0.9296 - dense_5_acc_1: 0.8890 - dense_5_acc_2: 0.8822 - dense_5_acc_3: 0.9355 - dense_5_acc_4: 0.9923 - dense_5_acc_5: 0.9998\n",
      "Epoch 288/500\n",
      " - 20s - loss: 1.2793 - dense_5_loss: 0.0023 - dense_5_acc: 0.9301 - dense_5_acc_1: 0.8916 - dense_5_acc_2: 0.8821 - dense_5_acc_3: 0.9333 - dense_5_acc_4: 0.9926 - dense_5_acc_5: 0.9996\n",
      "Epoch 289/500\n",
      " - 20s - loss: 1.2777 - dense_5_loss: 0.0020 - dense_5_acc: 0.9309 - dense_5_acc_1: 0.8919 - dense_5_acc_2: 0.8825 - dense_5_acc_3: 0.9357 - dense_5_acc_4: 0.9927 - dense_5_acc_5: 0.9998\n",
      "Epoch 290/500\n",
      " - 20s - loss: 1.2636 - dense_5_loss: 0.0018 - dense_5_acc: 0.9307 - dense_5_acc_1: 0.8934 - dense_5_acc_2: 0.8835 - dense_5_acc_3: 0.9361 - dense_5_acc_4: 0.9929 - dense_5_acc_5: 0.9998\n",
      "Epoch 291/500\n",
      " - 20s - loss: 1.2450 - dense_5_loss: 0.0022 - dense_5_acc: 0.9296 - dense_5_acc_1: 0.8938 - dense_5_acc_2: 0.8839 - dense_5_acc_3: 0.9384 - dense_5_acc_4: 0.9921 - dense_5_acc_5: 0.9997\n",
      "Epoch 292/500\n",
      " - 20s - loss: 1.2527 - dense_5_loss: 0.0015 - dense_5_acc: 0.9312 - dense_5_acc_1: 0.8936 - dense_5_acc_2: 0.8846 - dense_5_acc_3: 0.9369 - dense_5_acc_4: 0.9921 - dense_5_acc_5: 0.9998\n",
      "Epoch 293/500\n",
      " - 20s - loss: 1.2451 - dense_5_loss: 0.0015 - dense_5_acc: 0.9317 - dense_5_acc_1: 0.8909 - dense_5_acc_2: 0.8834 - dense_5_acc_3: 0.9371 - dense_5_acc_4: 0.9927 - dense_5_acc_5: 0.9999\n",
      "Epoch 294/500\n",
      " - 20s - loss: 1.2450 - dense_5_loss: 0.0016 - dense_5_acc: 0.9301 - dense_5_acc_1: 0.8943 - dense_5_acc_2: 0.8832 - dense_5_acc_3: 0.9371 - dense_5_acc_4: 0.9927 - dense_5_acc_5: 0.9996\n",
      "Epoch 295/500\n",
      " - 20s - loss: 1.2707 - dense_5_loss: 0.0020 - dense_5_acc: 0.9298 - dense_5_acc_1: 0.8918 - dense_5_acc_2: 0.8825 - dense_5_acc_3: 0.9332 - dense_5_acc_4: 0.9922 - dense_5_acc_5: 0.9998\n",
      "Epoch 296/500\n",
      " - 21s - loss: 1.2437 - dense_5_loss: 0.0021 - dense_5_acc: 0.9306 - dense_5_acc_1: 0.8936 - dense_5_acc_2: 0.8857 - dense_5_acc_3: 0.9371 - dense_5_acc_4: 0.9926 - dense_5_acc_5: 0.9996\n",
      "Epoch 297/500\n",
      " - 22s - loss: 1.2143 - dense_5_loss: 0.0014 - dense_5_acc: 0.9320 - dense_5_acc_1: 0.8954 - dense_5_acc_2: 0.8865 - dense_5_acc_3: 0.9388 - dense_5_acc_4: 0.9927 - dense_5_acc_5: 0.9999\n",
      "Epoch 298/500\n",
      " - 20s - loss: 1.2141 - dense_5_loss: 0.0024 - dense_5_acc: 0.9324 - dense_5_acc_1: 0.8958 - dense_5_acc_2: 0.8846 - dense_5_acc_3: 0.9387 - dense_5_acc_4: 0.9933 - dense_5_acc_5: 0.9996\n",
      "Epoch 299/500\n",
      " - 20s - loss: 1.2100 - dense_5_loss: 0.0017 - dense_5_acc: 0.9324 - dense_5_acc_1: 0.8938 - dense_5_acc_2: 0.8857 - dense_5_acc_3: 0.9401 - dense_5_acc_4: 0.9929 - dense_5_acc_5: 0.9998\n",
      "Epoch 300/500\n",
      " - 20s - loss: 1.1990 - dense_5_loss: 0.0017 - dense_5_acc: 0.9343 - dense_5_acc_1: 0.8961 - dense_5_acc_2: 0.8881 - dense_5_acc_3: 0.9385 - dense_5_acc_4: 0.9921 - dense_5_acc_5: 0.9997\n",
      "Epoch 301/500\n",
      " - 20s - loss: 1.1954 - dense_5_loss: 0.0023 - dense_5_acc: 0.9330 - dense_5_acc_1: 0.8956 - dense_5_acc_2: 0.8863 - dense_5_acc_3: 0.9383 - dense_5_acc_4: 0.9929 - dense_5_acc_5: 0.9996\n",
      "Epoch 302/500\n",
      " - 20s - loss: 1.1961 - dense_5_loss: 0.0016 - dense_5_acc: 0.9319 - dense_5_acc_1: 0.8964 - dense_5_acc_2: 0.8872 - dense_5_acc_3: 0.9403 - dense_5_acc_4: 0.9924 - dense_5_acc_5: 0.9998\n",
      "Epoch 303/500\n",
      " - 20s - loss: 1.1985 - dense_5_loss: 0.0018 - dense_5_acc: 0.9328 - dense_5_acc_1: 0.8943 - dense_5_acc_2: 0.8879 - dense_5_acc_3: 0.9384 - dense_5_acc_4: 0.9928 - dense_5_acc_5: 0.9998\n",
      "Epoch 304/500\n",
      " - 20s - loss: 1.2076 - dense_5_loss: 0.0017 - dense_5_acc: 0.9309 - dense_5_acc_1: 0.8938 - dense_5_acc_2: 0.8864 - dense_5_acc_3: 0.9387 - dense_5_acc_4: 0.9937 - dense_5_acc_5: 0.9997\n",
      "Epoch 305/500\n",
      " - 20s - loss: 1.2137 - dense_5_loss: 0.0025 - dense_5_acc: 0.9317 - dense_5_acc_1: 0.8932 - dense_5_acc_2: 0.8866 - dense_5_acc_3: 0.9377 - dense_5_acc_4: 0.9925 - dense_5_acc_5: 0.9995\n",
      "Epoch 306/500\n",
      " - 20s - loss: 1.1861 - dense_5_loss: 0.0022 - dense_5_acc: 0.9314 - dense_5_acc_1: 0.8963 - dense_5_acc_2: 0.8876 - dense_5_acc_3: 0.9404 - dense_5_acc_4: 0.9927 - dense_5_acc_5: 0.9994\n",
      "Epoch 307/500\n",
      " - 20s - loss: 1.1636 - dense_5_loss: 0.0017 - dense_5_acc: 0.9326 - dense_5_acc_1: 0.8969 - dense_5_acc_2: 0.8911 - dense_5_acc_3: 0.9431 - dense_5_acc_4: 0.9933 - dense_5_acc_5: 0.9998\n",
      "Epoch 308/500\n",
      " - 20s - loss: 1.1572 - dense_5_loss: 0.0016 - dense_5_acc: 0.9347 - dense_5_acc_1: 0.8972 - dense_5_acc_2: 0.8906 - dense_5_acc_3: 0.9407 - dense_5_acc_4: 0.9933 - dense_5_acc_5: 0.9997\n",
      "Epoch 309/500\n",
      " - 20s - loss: 1.1591 - dense_5_loss: 0.0016 - dense_5_acc: 0.9348 - dense_5_acc_1: 0.8974 - dense_5_acc_2: 0.8898 - dense_5_acc_3: 0.9403 - dense_5_acc_4: 0.9931 - dense_5_acc_5: 0.9998\n",
      "Epoch 310/500\n",
      " - 20s - loss: 1.1598 - dense_5_loss: 0.0012 - dense_5_acc: 0.9348 - dense_5_acc_1: 0.8970 - dense_5_acc_2: 0.8925 - dense_5_acc_3: 0.9386 - dense_5_acc_4: 0.9923 - dense_5_acc_5: 0.9999\n",
      "Epoch 311/500\n",
      " - 20s - loss: 1.1663 - dense_5_loss: 0.0016 - dense_5_acc: 0.9341 - dense_5_acc_1: 0.8998 - dense_5_acc_2: 0.8884 - dense_5_acc_3: 0.9384 - dense_5_acc_4: 0.9932 - dense_5_acc_5: 0.9998\n",
      "Epoch 312/500\n",
      " - 20s - loss: 1.1645 - dense_5_loss: 0.0026 - dense_5_acc: 0.9324 - dense_5_acc_1: 0.8967 - dense_5_acc_2: 0.8888 - dense_5_acc_3: 0.9402 - dense_5_acc_4: 0.9928 - dense_5_acc_5: 0.9997\n",
      "Epoch 313/500\n",
      " - 20s - loss: 1.1466 - dense_5_loss: 0.0025 - dense_5_acc: 0.9349 - dense_5_acc_1: 0.8969 - dense_5_acc_2: 0.8915 - dense_5_acc_3: 0.9411 - dense_5_acc_4: 0.9934 - dense_5_acc_5: 0.9996\n",
      "Epoch 314/500\n",
      " - 20s - loss: 1.1332 - dense_5_loss: 9.6344e-04 - dense_5_acc: 0.9345 - dense_5_acc_1: 0.8993 - dense_5_acc_2: 0.8910 - dense_5_acc_3: 0.9420 - dense_5_acc_4: 0.9927 - dense_5_acc_5: 0.9999\n",
      "Epoch 315/500\n",
      " - 20s - loss: 1.1288 - dense_5_loss: 0.0022 - dense_5_acc: 0.9362 - dense_5_acc_1: 0.8993 - dense_5_acc_2: 0.8912 - dense_5_acc_3: 0.9418 - dense_5_acc_4: 0.9931 - dense_5_acc_5: 0.9998\n",
      "Epoch 316/500\n",
      " - 20s - loss: 1.1276 - dense_5_loss: 0.0021 - dense_5_acc: 0.9343 - dense_5_acc_1: 0.8993 - dense_5_acc_2: 0.8914 - dense_5_acc_3: 0.9421 - dense_5_acc_4: 0.9937 - dense_5_acc_5: 0.9998\n",
      "Epoch 317/500\n",
      " - 20s - loss: 1.1181 - dense_5_loss: 0.0020 - dense_5_acc: 0.9351 - dense_5_acc_1: 0.8993 - dense_5_acc_2: 0.8913 - dense_5_acc_3: 0.9437 - dense_5_acc_4: 0.9928 - dense_5_acc_5: 0.9997\n",
      "Epoch 318/500\n",
      " - 20s - loss: 1.1166 - dense_5_loss: 0.0026 - dense_5_acc: 0.9354 - dense_5_acc_1: 0.9027 - dense_5_acc_2: 0.8926 - dense_5_acc_3: 0.9417 - dense_5_acc_4: 0.9932 - dense_5_acc_5: 0.9996\n",
      "Epoch 319/500\n",
      " - 20s - loss: 1.1590 - dense_5_loss: 0.0013 - dense_5_acc: 0.9339 - dense_5_acc_1: 0.8975 - dense_5_acc_2: 0.8896 - dense_5_acc_3: 0.9383 - dense_5_acc_4: 0.9925 - dense_5_acc_5: 0.9998\n",
      "Epoch 320/500\n",
      " - 20s - loss: 1.1096 - dense_5_loss: 0.0016 - dense_5_acc: 0.9367 - dense_5_acc_1: 0.9002 - dense_5_acc_2: 0.8916 - dense_5_acc_3: 0.9444 - dense_5_acc_4: 0.9935 - dense_5_acc_5: 0.9998\n",
      "Epoch 321/500\n",
      " - 20s - loss: 1.1213 - dense_5_loss: 0.0021 - dense_5_acc: 0.9350 - dense_5_acc_1: 0.8994 - dense_5_acc_2: 0.8924 - dense_5_acc_3: 0.9412 - dense_5_acc_4: 0.9928 - dense_5_acc_5: 0.9997\n",
      "Epoch 322/500\n",
      " - 20s - loss: 1.1097 - dense_5_loss: 0.0024 - dense_5_acc: 0.9363 - dense_5_acc_1: 0.9015 - dense_5_acc_2: 0.8910 - dense_5_acc_3: 0.9413 - dense_5_acc_4: 0.9934 - dense_5_acc_5: 0.9997\n",
      "Epoch 323/500\n",
      " - 20s - loss: 1.1049 - dense_5_loss: 0.0027 - dense_5_acc: 0.9376 - dense_5_acc_1: 0.9015 - dense_5_acc_2: 0.8943 - dense_5_acc_3: 0.9428 - dense_5_acc_4: 0.9939 - dense_5_acc_5: 0.9996\n",
      "Epoch 324/500\n",
      " - 20s - loss: 1.1110 - dense_5_loss: 0.0019 - dense_5_acc: 0.9368 - dense_5_acc_1: 0.8998 - dense_5_acc_2: 0.8941 - dense_5_acc_3: 0.9427 - dense_5_acc_4: 0.9926 - dense_5_acc_5: 0.9997\n",
      "Epoch 325/500\n",
      " - 20s - loss: 1.1090 - dense_5_loss: 0.0019 - dense_5_acc: 0.9354 - dense_5_acc_1: 0.9012 - dense_5_acc_2: 0.8936 - dense_5_acc_3: 0.9410 - dense_5_acc_4: 0.9928 - dense_5_acc_5: 0.9996\n",
      "Epoch 326/500\n",
      " - 20s - loss: 1.0809 - dense_5_loss: 0.0018 - dense_5_acc: 0.9370 - dense_5_acc_1: 0.9011 - dense_5_acc_2: 0.8938 - dense_5_acc_3: 0.9442 - dense_5_acc_4: 0.9935 - dense_5_acc_5: 0.9997\n",
      "Epoch 327/500\n",
      " - 20s - loss: 1.0669 - dense_5_loss: 0.0017 - dense_5_acc: 0.9381 - dense_5_acc_1: 0.9038 - dense_5_acc_2: 0.8963 - dense_5_acc_3: 0.9458 - dense_5_acc_4: 0.9944 - dense_5_acc_5: 0.9997\n",
      "Epoch 328/500\n",
      " - 20s - loss: 1.0831 - dense_5_loss: 0.0016 - dense_5_acc: 0.9365 - dense_5_acc_1: 0.9025 - dense_5_acc_2: 0.8969 - dense_5_acc_3: 0.9446 - dense_5_acc_4: 0.9931 - dense_5_acc_5: 0.9997\n",
      "Epoch 329/500\n",
      " - 20s - loss: 1.0840 - dense_5_loss: 0.0021 - dense_5_acc: 0.9358 - dense_5_acc_1: 0.9034 - dense_5_acc_2: 0.8934 - dense_5_acc_3: 0.9440 - dense_5_acc_4: 0.9934 - dense_5_acc_5: 0.9997\n",
      "Epoch 330/500\n",
      " - 20s - loss: 1.0833 - dense_5_loss: 0.0021 - dense_5_acc: 0.9374 - dense_5_acc_1: 0.9014 - dense_5_acc_2: 0.8946 - dense_5_acc_3: 0.9416 - dense_5_acc_4: 0.9927 - dense_5_acc_5: 0.9996\n",
      "Epoch 331/500\n",
      " - 20s - loss: 1.0745 - dense_5_loss: 0.0017 - dense_5_acc: 0.9369 - dense_5_acc_1: 0.9033 - dense_5_acc_2: 0.8934 - dense_5_acc_3: 0.9438 - dense_5_acc_4: 0.9933 - dense_5_acc_5: 0.9997\n",
      "Epoch 332/500\n",
      " - 21s - loss: 1.0570 - dense_5_loss: 0.0018 - dense_5_acc: 0.9367 - dense_5_acc_1: 0.9034 - dense_5_acc_2: 0.8968 - dense_5_acc_3: 0.9448 - dense_5_acc_4: 0.9934 - dense_5_acc_5: 0.9998\n",
      "Epoch 333/500\n",
      " - 21s - loss: 1.0483 - dense_5_loss: 0.0016 - dense_5_acc: 0.9381 - dense_5_acc_1: 0.9037 - dense_5_acc_2: 0.8964 - dense_5_acc_3: 0.9454 - dense_5_acc_4: 0.9936 - dense_5_acc_5: 0.9998\n",
      "Epoch 334/500\n",
      " - 21s - loss: 1.0497 - dense_5_loss: 0.0013 - dense_5_acc: 0.9375 - dense_5_acc_1: 0.9052 - dense_5_acc_2: 0.8978 - dense_5_acc_3: 0.9440 - dense_5_acc_4: 0.9935 - dense_5_acc_5: 0.9999\n",
      "Epoch 335/500\n",
      " - 20s - loss: 1.0451 - dense_5_loss: 0.0013 - dense_5_acc: 0.9373 - dense_5_acc_1: 0.9034 - dense_5_acc_2: 0.8967 - dense_5_acc_3: 0.9449 - dense_5_acc_4: 0.9936 - dense_5_acc_5: 0.9998\n",
      "Epoch 336/500\n",
      " - 20s - loss: 1.0498 - dense_5_loss: 0.0021 - dense_5_acc: 0.9356 - dense_5_acc_1: 0.9043 - dense_5_acc_2: 0.8959 - dense_5_acc_3: 0.9441 - dense_5_acc_4: 0.9933 - dense_5_acc_5: 0.9995\n",
      "Epoch 337/500\n",
      " - 20s - loss: 1.0556 - dense_5_loss: 0.0016 - dense_5_acc: 0.9363 - dense_5_acc_1: 0.9037 - dense_5_acc_2: 0.8966 - dense_5_acc_3: 0.9438 - dense_5_acc_4: 0.9930 - dense_5_acc_5: 0.9997\n",
      "Epoch 338/500\n",
      " - 20s - loss: 1.0352 - dense_5_loss: 0.0013 - dense_5_acc: 0.9362 - dense_5_acc_1: 0.9053 - dense_5_acc_2: 0.8966 - dense_5_acc_3: 0.9471 - dense_5_acc_4: 0.9937 - dense_5_acc_5: 0.9999\n",
      "Epoch 339/500\n",
      " - 20s - loss: 1.0383 - dense_5_loss: 0.0018 - dense_5_acc: 0.9377 - dense_5_acc_1: 0.9012 - dense_5_acc_2: 0.8959 - dense_5_acc_3: 0.9453 - dense_5_acc_4: 0.9933 - dense_5_acc_5: 0.9997\n",
      "Epoch 340/500\n",
      " - 20s - loss: 1.0420 - dense_5_loss: 0.0018 - dense_5_acc: 0.9377 - dense_5_acc_1: 0.9047 - dense_5_acc_2: 0.8954 - dense_5_acc_3: 0.9459 - dense_5_acc_4: 0.9932 - dense_5_acc_5: 0.9997\n",
      "Epoch 341/500\n",
      " - 21s - loss: 1.0280 - dense_5_loss: 0.0016 - dense_5_acc: 0.9384 - dense_5_acc_1: 0.9058 - dense_5_acc_2: 0.8979 - dense_5_acc_3: 0.9456 - dense_5_acc_4: 0.9937 - dense_5_acc_5: 0.9997\n",
      "Epoch 342/500\n",
      " - 21s - loss: 1.0414 - dense_5_loss: 0.0019 - dense_5_acc: 0.9376 - dense_5_acc_1: 0.9055 - dense_5_acc_2: 0.8965 - dense_5_acc_3: 0.9442 - dense_5_acc_4: 0.9930 - dense_5_acc_5: 0.9997\n",
      "Epoch 343/500\n",
      " - 20s - loss: 1.0130 - dense_5_loss: 0.0017 - dense_5_acc: 0.9379 - dense_5_acc_1: 0.9056 - dense_5_acc_2: 0.9000 - dense_5_acc_3: 0.9484 - dense_5_acc_4: 0.9940 - dense_5_acc_5: 0.9998\n",
      "Epoch 344/500\n",
      " - 20s - loss: 1.0121 - dense_5_loss: 0.0021 - dense_5_acc: 0.9388 - dense_5_acc_1: 0.9060 - dense_5_acc_2: 0.8993 - dense_5_acc_3: 0.9466 - dense_5_acc_4: 0.9939 - dense_5_acc_5: 0.9996\n",
      "Epoch 345/500\n",
      " - 20s - loss: 1.0092 - dense_5_loss: 0.0025 - dense_5_acc: 0.9398 - dense_5_acc_1: 0.9073 - dense_5_acc_2: 0.9002 - dense_5_acc_3: 0.9468 - dense_5_acc_4: 0.9940 - dense_5_acc_5: 0.9996\n",
      "Epoch 346/500\n",
      " - 20s - loss: 1.0240 - dense_5_loss: 0.0016 - dense_5_acc: 0.9393 - dense_5_acc_1: 0.9062 - dense_5_acc_2: 0.8991 - dense_5_acc_3: 0.9454 - dense_5_acc_4: 0.9933 - dense_5_acc_5: 0.9997\n",
      "Epoch 347/500\n",
      " - 20s - loss: 1.0124 - dense_5_loss: 0.0017 - dense_5_acc: 0.9397 - dense_5_acc_1: 0.9067 - dense_5_acc_2: 0.8981 - dense_5_acc_3: 0.9467 - dense_5_acc_4: 0.9935 - dense_5_acc_5: 0.9998\n",
      "Epoch 348/500\n",
      " - 20s - loss: 0.9967 - dense_5_loss: 0.0012 - dense_5_acc: 0.9403 - dense_5_acc_1: 0.9058 - dense_5_acc_2: 0.9000 - dense_5_acc_3: 0.9479 - dense_5_acc_4: 0.9937 - dense_5_acc_5: 0.9998\n",
      "Epoch 349/500\n",
      " - 20s - loss: 0.9914 - dense_5_loss: 0.0017 - dense_5_acc: 0.9402 - dense_5_acc_1: 0.9076 - dense_5_acc_2: 0.8998 - dense_5_acc_3: 0.9481 - dense_5_acc_4: 0.9945 - dense_5_acc_5: 0.9998\n",
      "Epoch 350/500\n",
      " - 20s - loss: 0.9910 - dense_5_loss: 0.0020 - dense_5_acc: 0.9399 - dense_5_acc_1: 0.9059 - dense_5_acc_2: 0.9004 - dense_5_acc_3: 0.9481 - dense_5_acc_4: 0.9943 - dense_5_acc_5: 0.9997\n",
      "Epoch 351/500\n",
      " - 20s - loss: 0.9894 - dense_5_loss: 0.0015 - dense_5_acc: 0.9392 - dense_5_acc_1: 0.9088 - dense_5_acc_2: 0.9003 - dense_5_acc_3: 0.9466 - dense_5_acc_4: 0.9941 - dense_5_acc_5: 0.9999\n",
      "Epoch 352/500\n",
      " - 20s - loss: 0.9772 - dense_5_loss: 0.0015 - dense_5_acc: 0.9406 - dense_5_acc_1: 0.9071 - dense_5_acc_2: 0.9018 - dense_5_acc_3: 0.9473 - dense_5_acc_4: 0.9936 - dense_5_acc_5: 0.9999\n",
      "Epoch 353/500\n",
      " - 20s - loss: 0.9879 - dense_5_loss: 0.0017 - dense_5_acc: 0.9406 - dense_5_acc_1: 0.9084 - dense_5_acc_2: 0.9016 - dense_5_acc_3: 0.9474 - dense_5_acc_4: 0.9933 - dense_5_acc_5: 0.9998\n",
      "Epoch 354/500\n",
      " - 20s - loss: 0.9840 - dense_5_loss: 0.0017 - dense_5_acc: 0.9393 - dense_5_acc_1: 0.9103 - dense_5_acc_2: 0.8994 - dense_5_acc_3: 0.9464 - dense_5_acc_4: 0.9942 - dense_5_acc_5: 0.9997\n",
      "Epoch 355/500\n",
      " - 20s - loss: 0.9694 - dense_5_loss: 0.0012 - dense_5_acc: 0.9394 - dense_5_acc_1: 0.9101 - dense_5_acc_2: 0.9001 - dense_5_acc_3: 0.9472 - dense_5_acc_4: 0.9942 - dense_5_acc_5: 0.9998\n",
      "Epoch 356/500\n",
      " - 20s - loss: 0.9697 - dense_5_loss: 0.0016 - dense_5_acc: 0.9392 - dense_5_acc_1: 0.9086 - dense_5_acc_2: 0.9020 - dense_5_acc_3: 0.9477 - dense_5_acc_4: 0.9943 - dense_5_acc_5: 0.9997\n",
      "Epoch 357/500\n",
      " - 20s - loss: 1.0032 - dense_5_loss: 0.0019 - dense_5_acc: 0.9396 - dense_5_acc_1: 0.9082 - dense_5_acc_2: 0.8985 - dense_5_acc_3: 0.9452 - dense_5_acc_4: 0.9932 - dense_5_acc_5: 0.9997\n",
      "Epoch 358/500\n",
      " - 20s - loss: 0.9943 - dense_5_loss: 0.0018 - dense_5_acc: 0.9399 - dense_5_acc_1: 0.9083 - dense_5_acc_2: 0.8991 - dense_5_acc_3: 0.9459 - dense_5_acc_4: 0.9932 - dense_5_acc_5: 0.9998\n",
      "Epoch 359/500\n",
      " - 20s - loss: 0.9777 - dense_5_loss: 0.0019 - dense_5_acc: 0.9392 - dense_5_acc_1: 0.9083 - dense_5_acc_2: 0.9013 - dense_5_acc_3: 0.9469 - dense_5_acc_4: 0.9936 - dense_5_acc_5: 0.9997\n",
      "Epoch 360/500\n",
      " - 20s - loss: 0.9580 - dense_5_loss: 0.0011 - dense_5_acc: 0.9416 - dense_5_acc_1: 0.9079 - dense_5_acc_2: 0.9023 - dense_5_acc_3: 0.9477 - dense_5_acc_4: 0.9938 - dense_5_acc_5: 0.9999\n",
      "Epoch 361/500\n",
      " - 20s - loss: 0.9512 - dense_5_loss: 0.0012 - dense_5_acc: 0.9409 - dense_5_acc_1: 0.9106 - dense_5_acc_2: 0.9037 - dense_5_acc_3: 0.9487 - dense_5_acc_4: 0.9946 - dense_5_acc_5: 0.9998\n",
      "Epoch 362/500\n",
      " - 20s - loss: 0.9495 - dense_5_loss: 0.0011 - dense_5_acc: 0.9399 - dense_5_acc_1: 0.9102 - dense_5_acc_2: 0.9024 - dense_5_acc_3: 0.9488 - dense_5_acc_4: 0.9939 - dense_5_acc_5: 0.9999\n",
      "Epoch 363/500\n",
      " - 20s - loss: 0.9580 - dense_5_loss: 0.0014 - dense_5_acc: 0.9397 - dense_5_acc_1: 0.9076 - dense_5_acc_2: 0.9038 - dense_5_acc_3: 0.9468 - dense_5_acc_4: 0.9941 - dense_5_acc_5: 0.9997\n",
      "Epoch 364/500\n",
      " - 20s - loss: 0.9593 - dense_5_loss: 0.0019 - dense_5_acc: 0.9412 - dense_5_acc_1: 0.9101 - dense_5_acc_2: 0.9027 - dense_5_acc_3: 0.9477 - dense_5_acc_4: 0.9942 - dense_5_acc_5: 0.9997\n",
      "Epoch 365/500\n",
      " - 20s - loss: 0.9364 - dense_5_loss: 0.0014 - dense_5_acc: 0.9412 - dense_5_acc_1: 0.9093 - dense_5_acc_2: 0.9029 - dense_5_acc_3: 0.9506 - dense_5_acc_4: 0.9941 - dense_5_acc_5: 0.9997\n",
      "Epoch 366/500\n",
      " - 20s - loss: 0.9397 - dense_5_loss: 0.0018 - dense_5_acc: 0.9409 - dense_5_acc_1: 0.9112 - dense_5_acc_2: 0.9043 - dense_5_acc_3: 0.9491 - dense_5_acc_4: 0.9949 - dense_5_acc_5: 0.9997\n",
      "Epoch 367/500\n",
      " - 20s - loss: 0.9391 - dense_5_loss: 0.0017 - dense_5_acc: 0.9430 - dense_5_acc_1: 0.9089 - dense_5_acc_2: 0.9032 - dense_5_acc_3: 0.9508 - dense_5_acc_4: 0.9942 - dense_5_acc_5: 0.9996\n",
      "Epoch 368/500\n",
      " - 20s - loss: 0.9338 - dense_5_loss: 0.0013 - dense_5_acc: 0.9417 - dense_5_acc_1: 0.9106 - dense_5_acc_2: 0.9039 - dense_5_acc_3: 0.9503 - dense_5_acc_4: 0.9932 - dense_5_acc_5: 0.9998\n",
      "Epoch 369/500\n",
      " - 20s - loss: 0.9211 - dense_5_loss: 0.0012 - dense_5_acc: 0.9427 - dense_5_acc_1: 0.9111 - dense_5_acc_2: 0.9033 - dense_5_acc_3: 0.9507 - dense_5_acc_4: 0.9942 - dense_5_acc_5: 0.9998\n",
      "Epoch 370/500\n",
      " - 20s - loss: 0.9560 - dense_5_loss: 0.0022 - dense_5_acc: 0.9411 - dense_5_acc_1: 0.9083 - dense_5_acc_2: 0.9019 - dense_5_acc_3: 0.9483 - dense_5_acc_4: 0.9934 - dense_5_acc_5: 0.9997\n",
      "Epoch 371/500\n",
      " - 20s - loss: 0.9455 - dense_5_loss: 0.0020 - dense_5_acc: 0.9421 - dense_5_acc_1: 0.9093 - dense_5_acc_2: 0.9018 - dense_5_acc_3: 0.9476 - dense_5_acc_4: 0.9942 - dense_5_acc_5: 0.9998\n",
      "Epoch 372/500\n",
      " - 20s - loss: 0.9333 - dense_5_loss: 0.0016 - dense_5_acc: 0.9408 - dense_5_acc_1: 0.9131 - dense_5_acc_2: 0.9038 - dense_5_acc_3: 0.9495 - dense_5_acc_4: 0.9943 - dense_5_acc_5: 0.9997\n",
      "Epoch 373/500\n",
      " - 20s - loss: 0.9229 - dense_5_loss: 0.0018 - dense_5_acc: 0.9416 - dense_5_acc_1: 0.9105 - dense_5_acc_2: 0.9037 - dense_5_acc_3: 0.9504 - dense_5_acc_4: 0.9940 - dense_5_acc_5: 0.9998\n",
      "Epoch 374/500\n",
      " - 20s - loss: 0.9131 - dense_5_loss: 0.0015 - dense_5_acc: 0.9422 - dense_5_acc_1: 0.9116 - dense_5_acc_2: 0.9037 - dense_5_acc_3: 0.9508 - dense_5_acc_4: 0.9943 - dense_5_acc_5: 0.9998\n",
      "Epoch 375/500\n",
      " - 20s - loss: 0.9159 - dense_5_loss: 0.0014 - dense_5_acc: 0.9422 - dense_5_acc_1: 0.9110 - dense_5_acc_2: 0.9051 - dense_5_acc_3: 0.9511 - dense_5_acc_4: 0.9939 - dense_5_acc_5: 0.9998\n",
      "Epoch 376/500\n",
      " - 20s - loss: 0.9393 - dense_5_loss: 0.0020 - dense_5_acc: 0.9409 - dense_5_acc_1: 0.9093 - dense_5_acc_2: 0.9029 - dense_5_acc_3: 0.9482 - dense_5_acc_4: 0.9937 - dense_5_acc_5: 0.9997\n",
      "Epoch 377/500\n",
      " - 20s - loss: 0.9335 - dense_5_loss: 0.0025 - dense_5_acc: 0.9397 - dense_5_acc_1: 0.9107 - dense_5_acc_2: 0.9044 - dense_5_acc_3: 0.9492 - dense_5_acc_4: 0.9942 - dense_5_acc_5: 0.9995\n",
      "Epoch 378/500\n",
      " - 20s - loss: 0.9320 - dense_5_loss: 0.0019 - dense_5_acc: 0.9406 - dense_5_acc_1: 0.9112 - dense_5_acc_2: 0.9050 - dense_5_acc_3: 0.9494 - dense_5_acc_4: 0.9937 - dense_5_acc_5: 0.9996\n",
      "Epoch 379/500\n",
      " - 20s - loss: 0.8977 - dense_5_loss: 0.0012 - dense_5_acc: 0.9432 - dense_5_acc_1: 0.9134 - dense_5_acc_2: 0.9067 - dense_5_acc_3: 0.9516 - dense_5_acc_4: 0.9941 - dense_5_acc_5: 0.9998\n",
      "Epoch 380/500\n",
      " - 20s - loss: 0.8816 - dense_5_loss: 0.0015 - dense_5_acc: 0.9438 - dense_5_acc_1: 0.9139 - dense_5_acc_2: 0.9061 - dense_5_acc_3: 0.9543 - dense_5_acc_4: 0.9948 - dense_5_acc_5: 0.9999\n",
      "Epoch 381/500\n",
      " - 20s - loss: 0.8859 - dense_5_loss: 0.0015 - dense_5_acc: 0.9404 - dense_5_acc_1: 0.9126 - dense_5_acc_2: 0.9072 - dense_5_acc_3: 0.9519 - dense_5_acc_4: 0.9939 - dense_5_acc_5: 0.9998\n",
      "Epoch 382/500\n",
      " - 20s - loss: 0.8771 - dense_5_loss: 0.0015 - dense_5_acc: 0.9452 - dense_5_acc_1: 0.9147 - dense_5_acc_2: 0.9067 - dense_5_acc_3: 0.9536 - dense_5_acc_4: 0.9949 - dense_5_acc_5: 0.9998\n",
      "Epoch 383/500\n",
      " - 20s - loss: 0.8810 - dense_5_loss: 0.0013 - dense_5_acc: 0.9423 - dense_5_acc_1: 0.9124 - dense_5_acc_2: 0.9058 - dense_5_acc_3: 0.9516 - dense_5_acc_4: 0.9945 - dense_5_acc_5: 0.9998\n",
      "Epoch 384/500\n",
      " - 20s - loss: 0.8870 - dense_5_loss: 0.0012 - dense_5_acc: 0.9420 - dense_5_acc_1: 0.9140 - dense_5_acc_2: 0.9063 - dense_5_acc_3: 0.9518 - dense_5_acc_4: 0.9943 - dense_5_acc_5: 0.9999\n",
      "Epoch 385/500\n",
      " - 20s - loss: 0.8931 - dense_5_loss: 0.0019 - dense_5_acc: 0.9430 - dense_5_acc_1: 0.9123 - dense_5_acc_2: 0.9064 - dense_5_acc_3: 0.9483 - dense_5_acc_4: 0.9948 - dense_5_acc_5: 0.9997\n",
      "Epoch 386/500\n",
      " - 22s - loss: 0.8818 - dense_5_loss: 0.0016 - dense_5_acc: 0.9439 - dense_5_acc_1: 0.9126 - dense_5_acc_2: 0.9071 - dense_5_acc_3: 0.9536 - dense_5_acc_4: 0.9942 - dense_5_acc_5: 0.9998\n",
      "Epoch 387/500\n",
      " - 20s - loss: 0.8916 - dense_5_loss: 0.0018 - dense_5_acc: 0.9421 - dense_5_acc_1: 0.9122 - dense_5_acc_2: 0.9082 - dense_5_acc_3: 0.9503 - dense_5_acc_4: 0.9944 - dense_5_acc_5: 0.9996\n",
      "Epoch 388/500\n",
      " - 20s - loss: 0.8898 - dense_5_loss: 0.0026 - dense_5_acc: 0.9437 - dense_5_acc_1: 0.9135 - dense_5_acc_2: 0.9056 - dense_5_acc_3: 0.9518 - dense_5_acc_4: 0.9941 - dense_5_acc_5: 0.9994\n",
      "Epoch 389/500\n",
      " - 20s - loss: 0.8730 - dense_5_loss: 0.0011 - dense_5_acc: 0.9425 - dense_5_acc_1: 0.9156 - dense_5_acc_2: 0.9079 - dense_5_acc_3: 0.9518 - dense_5_acc_4: 0.9946 - dense_5_acc_5: 0.9998\n",
      "Epoch 390/500\n",
      " - 20s - loss: 0.8756 - dense_5_loss: 0.0016 - dense_5_acc: 0.9434 - dense_5_acc_1: 0.9134 - dense_5_acc_2: 0.9067 - dense_5_acc_3: 0.9521 - dense_5_acc_4: 0.9939 - dense_5_acc_5: 0.9996\n",
      "Epoch 391/500\n",
      " - 20s - loss: 0.8713 - dense_5_loss: 0.0011 - dense_5_acc: 0.9421 - dense_5_acc_1: 0.9120 - dense_5_acc_2: 0.9078 - dense_5_acc_3: 0.9517 - dense_5_acc_4: 0.9946 - dense_5_acc_5: 0.9999\n",
      "Epoch 392/500\n",
      " - 20s - loss: 0.8835 - dense_5_loss: 0.0029 - dense_5_acc: 0.9432 - dense_5_acc_1: 0.9128 - dense_5_acc_2: 0.9048 - dense_5_acc_3: 0.9511 - dense_5_acc_4: 0.9940 - dense_5_acc_5: 0.9994\n",
      "Epoch 393/500\n",
      " - 20s - loss: 0.9173 - dense_5_loss: 0.0033 - dense_5_acc: 0.9425 - dense_5_acc_1: 0.9121 - dense_5_acc_2: 0.9052 - dense_5_acc_3: 0.9490 - dense_5_acc_4: 0.9924 - dense_5_acc_5: 0.9994\n",
      "Epoch 394/500\n",
      " - 20s - loss: 0.8804 - dense_5_loss: 0.0025 - dense_5_acc: 0.9436 - dense_5_acc_1: 0.9125 - dense_5_acc_2: 0.9066 - dense_5_acc_3: 0.9522 - dense_5_acc_4: 0.9939 - dense_5_acc_5: 0.9995\n",
      "Epoch 395/500\n",
      " - 20s - loss: 0.8565 - dense_5_loss: 0.0016 - dense_5_acc: 0.9427 - dense_5_acc_1: 0.9165 - dense_5_acc_2: 0.9115 - dense_5_acc_3: 0.9542 - dense_5_acc_4: 0.9946 - dense_5_acc_5: 0.9997\n",
      "Epoch 396/500\n",
      " - 20s - loss: 0.8470 - dense_5_loss: 0.0013 - dense_5_acc: 0.9429 - dense_5_acc_1: 0.9156 - dense_5_acc_2: 0.9079 - dense_5_acc_3: 0.9523 - dense_5_acc_4: 0.9954 - dense_5_acc_5: 0.9999\n",
      "Epoch 397/500\n",
      " - 20s - loss: 0.8566 - dense_5_loss: 0.0021 - dense_5_acc: 0.9429 - dense_5_acc_1: 0.9132 - dense_5_acc_2: 0.9074 - dense_5_acc_3: 0.9539 - dense_5_acc_4: 0.9943 - dense_5_acc_5: 0.9994\n",
      "Epoch 398/500\n",
      " - 20s - loss: 0.8446 - dense_5_loss: 0.0012 - dense_5_acc: 0.9449 - dense_5_acc_1: 0.9163 - dense_5_acc_2: 0.9093 - dense_5_acc_3: 0.9541 - dense_5_acc_4: 0.9951 - dense_5_acc_5: 0.9999\n",
      "Epoch 399/500\n",
      " - 20s - loss: 0.8472 - dense_5_loss: 0.0013 - dense_5_acc: 0.9433 - dense_5_acc_1: 0.9149 - dense_5_acc_2: 0.9086 - dense_5_acc_3: 0.9537 - dense_5_acc_4: 0.9947 - dense_5_acc_5: 0.9998\n",
      "Epoch 400/500\n",
      " - 20s - loss: 0.8463 - dense_5_loss: 0.0014 - dense_5_acc: 0.9436 - dense_5_acc_1: 0.9133 - dense_5_acc_2: 0.9103 - dense_5_acc_3: 0.9531 - dense_5_acc_4: 0.9944 - dense_5_acc_5: 0.9997\n",
      "Epoch 401/500\n",
      " - 20s - loss: 0.8644 - dense_5_loss: 0.0018 - dense_5_acc: 0.9438 - dense_5_acc_1: 0.9139 - dense_5_acc_2: 0.9096 - dense_5_acc_3: 0.9499 - dense_5_acc_4: 0.9943 - dense_5_acc_5: 0.9998\n",
      "Epoch 402/500\n",
      " - 20s - loss: 0.8681 - dense_5_loss: 0.0020 - dense_5_acc: 0.9442 - dense_5_acc_1: 0.9133 - dense_5_acc_2: 0.9046 - dense_5_acc_3: 0.9511 - dense_5_acc_4: 0.9944 - dense_5_acc_5: 0.9996\n",
      "Epoch 403/500\n",
      " - 20s - loss: 0.8451 - dense_5_loss: 0.0014 - dense_5_acc: 0.9436 - dense_5_acc_1: 0.9151 - dense_5_acc_2: 0.9089 - dense_5_acc_3: 0.9523 - dense_5_acc_4: 0.9946 - dense_5_acc_5: 0.9999\n",
      "Epoch 404/500\n",
      " - 20s - loss: 0.8466 - dense_5_loss: 0.0013 - dense_5_acc: 0.9441 - dense_5_acc_1: 0.9150 - dense_5_acc_2: 0.9082 - dense_5_acc_3: 0.9522 - dense_5_acc_4: 0.9946 - dense_5_acc_5: 0.9999\n",
      "Epoch 405/500\n",
      " - 20s - loss: 0.8344 - dense_5_loss: 0.0016 - dense_5_acc: 0.9448 - dense_5_acc_1: 0.9152 - dense_5_acc_2: 0.9086 - dense_5_acc_3: 0.9533 - dense_5_acc_4: 0.9947 - dense_5_acc_5: 0.9997\n",
      "Epoch 406/500\n",
      " - 20s - loss: 0.8341 - dense_5_loss: 0.0013 - dense_5_acc: 0.9446 - dense_5_acc_1: 0.9156 - dense_5_acc_2: 0.9101 - dense_5_acc_3: 0.9547 - dense_5_acc_4: 0.9942 - dense_5_acc_5: 0.9999\n",
      "Epoch 407/500\n",
      " - 20s - loss: 0.8348 - dense_5_loss: 0.0018 - dense_5_acc: 0.9436 - dense_5_acc_1: 0.9143 - dense_5_acc_2: 0.9112 - dense_5_acc_3: 0.9540 - dense_5_acc_4: 0.9943 - dense_5_acc_5: 0.9997\n",
      "Epoch 408/500\n",
      " - 20s - loss: 0.8302 - dense_5_loss: 0.0015 - dense_5_acc: 0.9434 - dense_5_acc_1: 0.9142 - dense_5_acc_2: 0.9109 - dense_5_acc_3: 0.9539 - dense_5_acc_4: 0.9947 - dense_5_acc_5: 0.9997\n",
      "Epoch 409/500\n",
      " - 20s - loss: 0.8325 - dense_5_loss: 0.0013 - dense_5_acc: 0.9426 - dense_5_acc_1: 0.9146 - dense_5_acc_2: 0.9097 - dense_5_acc_3: 0.9537 - dense_5_acc_4: 0.9946 - dense_5_acc_5: 0.9999\n",
      "Epoch 410/500\n",
      " - 20s - loss: 0.8278 - dense_5_loss: 9.1876e-04 - dense_5_acc: 0.9441 - dense_5_acc_1: 0.9159 - dense_5_acc_2: 0.9109 - dense_5_acc_3: 0.9554 - dense_5_acc_4: 0.9951 - dense_5_acc_5: 0.9999\n",
      "Epoch 411/500\n",
      " - 20s - loss: 0.8324 - dense_5_loss: 0.0020 - dense_5_acc: 0.9411 - dense_5_acc_1: 0.9150 - dense_5_acc_2: 0.9108 - dense_5_acc_3: 0.9535 - dense_5_acc_4: 0.9948 - dense_5_acc_5: 0.9996\n",
      "Epoch 412/500\n",
      " - 20s - loss: 0.8167 - dense_5_loss: 0.0019 - dense_5_acc: 0.9464 - dense_5_acc_1: 0.9174 - dense_5_acc_2: 0.9113 - dense_5_acc_3: 0.9528 - dense_5_acc_4: 0.9946 - dense_5_acc_5: 0.9997\n",
      "Epoch 413/500\n",
      " - 20s - loss: 0.8162 - dense_5_loss: 0.0018 - dense_5_acc: 0.9438 - dense_5_acc_1: 0.9172 - dense_5_acc_2: 0.9108 - dense_5_acc_3: 0.9558 - dense_5_acc_4: 0.9948 - dense_5_acc_5: 0.9997\n",
      "Epoch 414/500\n",
      " - 20s - loss: 0.8327 - dense_5_loss: 0.0019 - dense_5_acc: 0.9444 - dense_5_acc_1: 0.9164 - dense_5_acc_2: 0.9098 - dense_5_acc_3: 0.9521 - dense_5_acc_4: 0.9939 - dense_5_acc_5: 0.9997\n",
      "Epoch 415/500\n",
      " - 20s - loss: 0.8039 - dense_5_loss: 0.0015 - dense_5_acc: 0.9434 - dense_5_acc_1: 0.9171 - dense_5_acc_2: 0.9115 - dense_5_acc_3: 0.9553 - dense_5_acc_4: 0.9946 - dense_5_acc_5: 0.9998\n",
      "Epoch 416/500\n",
      " - 20s - loss: 0.7976 - dense_5_loss: 0.0011 - dense_5_acc: 0.9451 - dense_5_acc_1: 0.9156 - dense_5_acc_2: 0.9117 - dense_5_acc_3: 0.9567 - dense_5_acc_4: 0.9952 - dense_5_acc_5: 0.9998\n",
      "Epoch 417/500\n",
      " - 20s - loss: 0.8186 - dense_5_loss: 0.0015 - dense_5_acc: 0.9441 - dense_5_acc_1: 0.9158 - dense_5_acc_2: 0.9103 - dense_5_acc_3: 0.9547 - dense_5_acc_4: 0.9945 - dense_5_acc_5: 0.9997\n",
      "Epoch 418/500\n",
      " - 20s - loss: 0.8082 - dense_5_loss: 0.0014 - dense_5_acc: 0.9448 - dense_5_acc_1: 0.9197 - dense_5_acc_2: 0.9109 - dense_5_acc_3: 0.9541 - dense_5_acc_4: 0.9945 - dense_5_acc_5: 0.9998\n",
      "Epoch 419/500\n",
      " - 20s - loss: 0.8232 - dense_5_loss: 0.0012 - dense_5_acc: 0.9435 - dense_5_acc_1: 0.9174 - dense_5_acc_2: 0.9079 - dense_5_acc_3: 0.9536 - dense_5_acc_4: 0.9943 - dense_5_acc_5: 0.9999\n",
      "Epoch 420/500\n",
      " - 20s - loss: 0.8280 - dense_5_loss: 0.0017 - dense_5_acc: 0.9454 - dense_5_acc_1: 0.9151 - dense_5_acc_2: 0.9082 - dense_5_acc_3: 0.9537 - dense_5_acc_4: 0.9945 - dense_5_acc_5: 0.9997\n",
      "Epoch 421/500\n",
      " - 20s - loss: 0.8232 - dense_5_loss: 0.0013 - dense_5_acc: 0.9432 - dense_5_acc_1: 0.9178 - dense_5_acc_2: 0.9107 - dense_5_acc_3: 0.9526 - dense_5_acc_4: 0.9951 - dense_5_acc_5: 0.9999\n",
      "Epoch 422/500\n",
      " - 20s - loss: 0.8127 - dense_5_loss: 0.0015 - dense_5_acc: 0.9437 - dense_5_acc_1: 0.9164 - dense_5_acc_2: 0.9092 - dense_5_acc_3: 0.9548 - dense_5_acc_4: 0.9947 - dense_5_acc_5: 0.9998\n",
      "Epoch 423/500\n",
      " - 20s - loss: 0.7986 - dense_5_loss: 0.0021 - dense_5_acc: 0.9463 - dense_5_acc_1: 0.9156 - dense_5_acc_2: 0.9137 - dense_5_acc_3: 0.9553 - dense_5_acc_4: 0.9943 - dense_5_acc_5: 0.9997\n",
      "Epoch 424/500\n",
      " - 20s - loss: 0.7924 - dense_5_loss: 0.0014 - dense_5_acc: 0.9456 - dense_5_acc_1: 0.9187 - dense_5_acc_2: 0.9134 - dense_5_acc_3: 0.9533 - dense_5_acc_4: 0.9954 - dense_5_acc_5: 0.9999\n",
      "Epoch 425/500\n",
      " - 20s - loss: 0.7770 - dense_5_loss: 0.0014 - dense_5_acc: 0.9438 - dense_5_acc_1: 0.9173 - dense_5_acc_2: 0.9134 - dense_5_acc_3: 0.9570 - dense_5_acc_4: 0.9953 - dense_5_acc_5: 0.9999\n",
      "Epoch 426/500\n",
      " - 20s - loss: 0.7780 - dense_5_loss: 0.0013 - dense_5_acc: 0.9447 - dense_5_acc_1: 0.9191 - dense_5_acc_2: 0.9118 - dense_5_acc_3: 0.9558 - dense_5_acc_4: 0.9954 - dense_5_acc_5: 0.9998\n",
      "Epoch 427/500\n",
      " - 20s - loss: 0.7945 - dense_5_loss: 0.0010 - dense_5_acc: 0.9463 - dense_5_acc_1: 0.9159 - dense_5_acc_2: 0.9120 - dense_5_acc_3: 0.9533 - dense_5_acc_4: 0.9951 - dense_5_acc_5: 0.9998\n",
      "Epoch 428/500\n",
      " - 20s - loss: 0.8169 - dense_5_loss: 0.0014 - dense_5_acc: 0.9436 - dense_5_acc_1: 0.9176 - dense_5_acc_2: 0.9097 - dense_5_acc_3: 0.9527 - dense_5_acc_4: 0.9941 - dense_5_acc_5: 0.9999\n",
      "Epoch 429/500\n",
      " - 20s - loss: 0.7965 - dense_5_loss: 0.0013 - dense_5_acc: 0.9459 - dense_5_acc_1: 0.9149 - dense_5_acc_2: 0.9089 - dense_5_acc_3: 0.9545 - dense_5_acc_4: 0.9947 - dense_5_acc_5: 0.9998\n",
      "Epoch 430/500\n",
      " - 21s - loss: 0.7836 - dense_5_loss: 0.0012 - dense_5_acc: 0.9457 - dense_5_acc_1: 0.9186 - dense_5_acc_2: 0.9121 - dense_5_acc_3: 0.9551 - dense_5_acc_4: 0.9953 - dense_5_acc_5: 0.9998\n",
      "Epoch 431/500\n",
      " - 22s - loss: 0.7851 - dense_5_loss: 0.0015 - dense_5_acc: 0.9445 - dense_5_acc_1: 0.9180 - dense_5_acc_2: 0.9106 - dense_5_acc_3: 0.9541 - dense_5_acc_4: 0.9952 - dense_5_acc_5: 0.9998\n",
      "Epoch 432/500\n",
      " - 20s - loss: 0.7948 - dense_5_loss: 0.0011 - dense_5_acc: 0.9443 - dense_5_acc_1: 0.9166 - dense_5_acc_2: 0.9126 - dense_5_acc_3: 0.9554 - dense_5_acc_4: 0.9946 - dense_5_acc_5: 0.9998\n",
      "Epoch 433/500\n",
      " - 20s - loss: 0.7806 - dense_5_loss: 0.0019 - dense_5_acc: 0.9452 - dense_5_acc_1: 0.9176 - dense_5_acc_2: 0.9127 - dense_5_acc_3: 0.9549 - dense_5_acc_4: 0.9952 - dense_5_acc_5: 0.9997\n",
      "Epoch 434/500\n",
      " - 20s - loss: 0.7819 - dense_5_loss: 0.0016 - dense_5_acc: 0.9464 - dense_5_acc_1: 0.9185 - dense_5_acc_2: 0.9114 - dense_5_acc_3: 0.9553 - dense_5_acc_4: 0.9945 - dense_5_acc_5: 0.9998\n",
      "Epoch 435/500\n",
      " - 20s - loss: 0.7600 - dense_5_loss: 0.0015 - dense_5_acc: 0.9469 - dense_5_acc_1: 0.9188 - dense_5_acc_2: 0.9139 - dense_5_acc_3: 0.9570 - dense_5_acc_4: 0.9952 - dense_5_acc_5: 0.9997\n",
      "Epoch 436/500\n",
      " - 20s - loss: 0.7651 - dense_5_loss: 0.0013 - dense_5_acc: 0.9474 - dense_5_acc_1: 0.9198 - dense_5_acc_2: 0.9126 - dense_5_acc_3: 0.9556 - dense_5_acc_4: 0.9956 - dense_5_acc_5: 0.9997\n",
      "Epoch 437/500\n",
      " - 20s - loss: 0.8142 - dense_5_loss: 0.0025 - dense_5_acc: 0.9443 - dense_5_acc_1: 0.9167 - dense_5_acc_2: 0.9127 - dense_5_acc_3: 0.9532 - dense_5_acc_4: 0.9935 - dense_5_acc_5: 0.9993\n",
      "Epoch 438/500\n",
      " - 20s - loss: 0.7892 - dense_5_loss: 0.0018 - dense_5_acc: 0.9462 - dense_5_acc_1: 0.9181 - dense_5_acc_2: 0.9138 - dense_5_acc_3: 0.9553 - dense_5_acc_4: 0.9951 - dense_5_acc_5: 0.9997\n",
      "Epoch 439/500\n",
      " - 20s - loss: 0.7600 - dense_5_loss: 0.0015 - dense_5_acc: 0.9473 - dense_5_acc_1: 0.9169 - dense_5_acc_2: 0.9126 - dense_5_acc_3: 0.9568 - dense_5_acc_4: 0.9954 - dense_5_acc_5: 0.9998\n",
      "Epoch 440/500\n",
      " - 20s - loss: 0.7490 - dense_5_loss: 0.0010 - dense_5_acc: 0.9463 - dense_5_acc_1: 0.9180 - dense_5_acc_2: 0.9141 - dense_5_acc_3: 0.9582 - dense_5_acc_4: 0.9955 - dense_5_acc_5: 0.9998\n",
      "Epoch 441/500\n",
      " - 20s - loss: 0.7382 - dense_5_loss: 8.9370e-04 - dense_5_acc: 0.9459 - dense_5_acc_1: 0.9191 - dense_5_acc_2: 0.9152 - dense_5_acc_3: 0.9586 - dense_5_acc_4: 0.9958 - dense_5_acc_5: 0.9999\n",
      "Epoch 442/500\n",
      " - 20s - loss: 0.7607 - dense_5_loss: 0.0015 - dense_5_acc: 0.9458 - dense_5_acc_1: 0.9183 - dense_5_acc_2: 0.9143 - dense_5_acc_3: 0.9564 - dense_5_acc_4: 0.9952 - dense_5_acc_5: 0.9996\n",
      "Epoch 443/500\n",
      " - 20s - loss: 0.7643 - dense_5_loss: 0.0016 - dense_5_acc: 0.9458 - dense_5_acc_1: 0.9190 - dense_5_acc_2: 0.9128 - dense_5_acc_3: 0.9564 - dense_5_acc_4: 0.9944 - dense_5_acc_5: 0.9998\n",
      "Epoch 444/500\n",
      " - 20s - loss: 0.7564 - dense_5_loss: 9.5662e-04 - dense_5_acc: 0.9469 - dense_5_acc_1: 0.9190 - dense_5_acc_2: 0.9136 - dense_5_acc_3: 0.9557 - dense_5_acc_4: 0.9952 - dense_5_acc_5: 0.9999\n",
      "Epoch 445/500\n",
      " - 20s - loss: 0.7469 - dense_5_loss: 0.0015 - dense_5_acc: 0.9467 - dense_5_acc_1: 0.9186 - dense_5_acc_2: 0.9142 - dense_5_acc_3: 0.9571 - dense_5_acc_4: 0.9954 - dense_5_acc_5: 0.9997\n",
      "Epoch 446/500\n",
      " - 20s - loss: 0.7517 - dense_5_loss: 0.0018 - dense_5_acc: 0.9463 - dense_5_acc_1: 0.9199 - dense_5_acc_2: 0.9139 - dense_5_acc_3: 0.9574 - dense_5_acc_4: 0.9954 - dense_5_acc_5: 0.9997\n",
      "Epoch 447/500\n",
      " - 20s - loss: 0.7619 - dense_5_loss: 0.0017 - dense_5_acc: 0.9458 - dense_5_acc_1: 0.9188 - dense_5_acc_2: 0.9153 - dense_5_acc_3: 0.9572 - dense_5_acc_4: 0.9952 - dense_5_acc_5: 0.9998\n",
      "Epoch 448/500\n",
      " - 20s - loss: 0.7795 - dense_5_loss: 0.0024 - dense_5_acc: 0.9453 - dense_5_acc_1: 0.9186 - dense_5_acc_2: 0.9146 - dense_5_acc_3: 0.9554 - dense_5_acc_4: 0.9944 - dense_5_acc_5: 0.9996\n",
      "Epoch 449/500\n",
      " - 20s - loss: 0.7472 - dense_5_loss: 0.0011 - dense_5_acc: 0.9484 - dense_5_acc_1: 0.9186 - dense_5_acc_2: 0.9154 - dense_5_acc_3: 0.9567 - dense_5_acc_4: 0.9957 - dense_5_acc_5: 0.9999\n",
      "Epoch 450/500\n",
      " - 20s - loss: 0.7626 - dense_5_loss: 0.0010 - dense_5_acc: 0.9445 - dense_5_acc_1: 0.9197 - dense_5_acc_2: 0.9149 - dense_5_acc_3: 0.9560 - dense_5_acc_4: 0.9949 - dense_5_acc_5: 0.9999\n",
      "Epoch 451/500\n",
      " - 20s - loss: 0.7498 - dense_5_loss: 0.0017 - dense_5_acc: 0.9457 - dense_5_acc_1: 0.9220 - dense_5_acc_2: 0.9168 - dense_5_acc_3: 0.9558 - dense_5_acc_4: 0.9945 - dense_5_acc_5: 0.9996\n",
      "Epoch 452/500\n",
      " - 20s - loss: 0.7523 - dense_5_loss: 0.0015 - dense_5_acc: 0.9478 - dense_5_acc_1: 0.9200 - dense_5_acc_2: 0.9149 - dense_5_acc_3: 0.9568 - dense_5_acc_4: 0.9955 - dense_5_acc_5: 0.9998\n",
      "Epoch 453/500\n",
      " - 20s - loss: 0.7370 - dense_5_loss: 0.0012 - dense_5_acc: 0.9456 - dense_5_acc_1: 0.9209 - dense_5_acc_2: 0.9139 - dense_5_acc_3: 0.9578 - dense_5_acc_4: 0.9950 - dense_5_acc_5: 0.9998\n",
      "Epoch 454/500\n",
      " - 20s - loss: 0.7438 - dense_5_loss: 0.0013 - dense_5_acc: 0.9471 - dense_5_acc_1: 0.9200 - dense_5_acc_2: 0.9164 - dense_5_acc_3: 0.9566 - dense_5_acc_4: 0.9943 - dense_5_acc_5: 0.9998\n",
      "Epoch 455/500\n",
      " - 20s - loss: 0.7478 - dense_5_loss: 0.0013 - dense_5_acc: 0.9460 - dense_5_acc_1: 0.9214 - dense_5_acc_2: 0.9168 - dense_5_acc_3: 0.9563 - dense_5_acc_4: 0.9949 - dense_5_acc_5: 0.9997\n",
      "Epoch 456/500\n",
      " - 20s - loss: 0.7348 - dense_5_loss: 0.0011 - dense_5_acc: 0.9468 - dense_5_acc_1: 0.9204 - dense_5_acc_2: 0.9142 - dense_5_acc_3: 0.9572 - dense_5_acc_4: 0.9956 - dense_5_acc_5: 0.9999\n",
      "Epoch 457/500\n",
      " - 20s - loss: 0.7235 - dense_5_loss: 8.3068e-04 - dense_5_acc: 0.9468 - dense_5_acc_1: 0.9199 - dense_5_acc_2: 0.9154 - dense_5_acc_3: 0.9608 - dense_5_acc_4: 0.9956 - dense_5_acc_5: 0.9999\n",
      "Epoch 458/500\n",
      " - 20s - loss: 0.7297 - dense_5_loss: 0.0016 - dense_5_acc: 0.9475 - dense_5_acc_1: 0.9206 - dense_5_acc_2: 0.9154 - dense_5_acc_3: 0.9578 - dense_5_acc_4: 0.9955 - dense_5_acc_5: 0.9997\n",
      "Epoch 459/500\n",
      " - 20s - loss: 0.7552 - dense_5_loss: 0.0033 - dense_5_acc: 0.9454 - dense_5_acc_1: 0.9184 - dense_5_acc_2: 0.9134 - dense_5_acc_3: 0.9571 - dense_5_acc_4: 0.9949 - dense_5_acc_5: 0.9995\n",
      "Epoch 460/500\n",
      " - 20s - loss: 0.7201 - dense_5_loss: 0.0013 - dense_5_acc: 0.9482 - dense_5_acc_1: 0.9209 - dense_5_acc_2: 0.9176 - dense_5_acc_3: 0.9582 - dense_5_acc_4: 0.9956 - dense_5_acc_5: 0.9998\n",
      "Epoch 461/500\n",
      " - 20s - loss: 0.7173 - dense_5_loss: 0.0015 - dense_5_acc: 0.9468 - dense_5_acc_1: 0.9232 - dense_5_acc_2: 0.9151 - dense_5_acc_3: 0.9579 - dense_5_acc_4: 0.9957 - dense_5_acc_5: 0.9998\n",
      "Epoch 462/500\n",
      " - 20s - loss: 0.7288 - dense_5_loss: 8.9899e-04 - dense_5_acc: 0.9482 - dense_5_acc_1: 0.9211 - dense_5_acc_2: 0.9146 - dense_5_acc_3: 0.9564 - dense_5_acc_4: 0.9955 - dense_5_acc_5: 0.9999\n",
      "Epoch 463/500\n",
      " - 20s - loss: 0.7228 - dense_5_loss: 0.0012 - dense_5_acc: 0.9471 - dense_5_acc_1: 0.9216 - dense_5_acc_2: 0.9157 - dense_5_acc_3: 0.9579 - dense_5_acc_4: 0.9952 - dense_5_acc_5: 0.9999\n",
      "Epoch 464/500\n",
      " - 20s - loss: 0.7140 - dense_5_loss: 7.7405e-04 - dense_5_acc: 0.9472 - dense_5_acc_1: 0.9220 - dense_5_acc_2: 0.9157 - dense_5_acc_3: 0.9586 - dense_5_acc_4: 0.9957 - dense_5_acc_5: 1.0000\n",
      "Epoch 465/500\n",
      " - 20s - loss: 0.7288 - dense_5_loss: 0.0010 - dense_5_acc: 0.9447 - dense_5_acc_1: 0.9216 - dense_5_acc_2: 0.9176 - dense_5_acc_3: 0.9571 - dense_5_acc_4: 0.9957 - dense_5_acc_5: 0.9998\n",
      "Epoch 466/500\n",
      " - 20s - loss: 0.7461 - dense_5_loss: 0.0011 - dense_5_acc: 0.9463 - dense_5_acc_1: 0.9203 - dense_5_acc_2: 0.9134 - dense_5_acc_3: 0.9563 - dense_5_acc_4: 0.9951 - dense_5_acc_5: 0.9998\n",
      "Epoch 467/500\n",
      " - 20s - loss: 0.7165 - dense_5_loss: 0.0013 - dense_5_acc: 0.9468 - dense_5_acc_1: 0.9226 - dense_5_acc_2: 0.9161 - dense_5_acc_3: 0.9576 - dense_5_acc_4: 0.9962 - dense_5_acc_5: 0.9998\n",
      "Epoch 468/500\n",
      " - 20s - loss: 0.7100 - dense_5_loss: 7.6509e-04 - dense_5_acc: 0.9484 - dense_5_acc_1: 0.9208 - dense_5_acc_2: 0.9161 - dense_5_acc_3: 0.9587 - dense_5_acc_4: 0.9960 - dense_5_acc_5: 0.9999\n",
      "Epoch 469/500\n",
      " - 20s - loss: 0.7395 - dense_5_loss: 0.0021 - dense_5_acc: 0.9466 - dense_5_acc_1: 0.9221 - dense_5_acc_2: 0.9161 - dense_5_acc_3: 0.9569 - dense_5_acc_4: 0.9948 - dense_5_acc_5: 0.9996\n",
      "Epoch 470/500\n",
      " - 20s - loss: 0.7591 - dense_5_loss: 0.0015 - dense_5_acc: 0.9447 - dense_5_acc_1: 0.9191 - dense_5_acc_2: 0.9120 - dense_5_acc_3: 0.9542 - dense_5_acc_4: 0.9949 - dense_5_acc_5: 0.9997\n",
      "Epoch 471/500\n",
      " - 20s - loss: 0.7198 - dense_5_loss: 0.0010 - dense_5_acc: 0.9464 - dense_5_acc_1: 0.9213 - dense_5_acc_2: 0.9168 - dense_5_acc_3: 0.9571 - dense_5_acc_4: 0.9947 - dense_5_acc_5: 0.9999\n",
      "Epoch 472/500\n",
      " - 20s - loss: 0.7035 - dense_5_loss: 9.7654e-04 - dense_5_acc: 0.9472 - dense_5_acc_1: 0.9187 - dense_5_acc_2: 0.9184 - dense_5_acc_3: 0.9603 - dense_5_acc_4: 0.9961 - dense_5_acc_5: 0.9998\n",
      "Epoch 473/500\n",
      " - 20s - loss: 0.6992 - dense_5_loss: 0.0014 - dense_5_acc: 0.9462 - dense_5_acc_1: 0.9221 - dense_5_acc_2: 0.9169 - dense_5_acc_3: 0.9600 - dense_5_acc_4: 0.9957 - dense_5_acc_5: 0.9997\n",
      "Epoch 474/500\n",
      " - 20s - loss: 0.6924 - dense_5_loss: 9.0443e-04 - dense_5_acc: 0.9474 - dense_5_acc_1: 0.9222 - dense_5_acc_2: 0.9179 - dense_5_acc_3: 0.9581 - dense_5_acc_4: 0.9961 - dense_5_acc_5: 0.9999\n",
      "Epoch 475/500\n",
      " - 21s - loss: 0.7129 - dense_5_loss: 0.0011 - dense_5_acc: 0.9485 - dense_5_acc_1: 0.9207 - dense_5_acc_2: 0.9152 - dense_5_acc_3: 0.9575 - dense_5_acc_4: 0.9952 - dense_5_acc_5: 0.9998\n",
      "Epoch 476/500\n",
      " - 21s - loss: 0.7173 - dense_5_loss: 0.0021 - dense_5_acc: 0.9454 - dense_5_acc_1: 0.9211 - dense_5_acc_2: 0.9173 - dense_5_acc_3: 0.9588 - dense_5_acc_4: 0.9946 - dense_5_acc_5: 0.9996\n",
      "Epoch 477/500\n",
      " - 20s - loss: 0.7027 - dense_5_loss: 0.0014 - dense_5_acc: 0.9453 - dense_5_acc_1: 0.9210 - dense_5_acc_2: 0.9176 - dense_5_acc_3: 0.9587 - dense_5_acc_4: 0.9953 - dense_5_acc_5: 0.9998\n",
      "Epoch 478/500\n",
      " - 20s - loss: 0.7048 - dense_5_loss: 0.0011 - dense_5_acc: 0.9472 - dense_5_acc_1: 0.9227 - dense_5_acc_2: 0.9165 - dense_5_acc_3: 0.9569 - dense_5_acc_4: 0.9954 - dense_5_acc_5: 0.9998\n",
      "Epoch 479/500\n",
      " - 20s - loss: 0.7187 - dense_5_loss: 0.0012 - dense_5_acc: 0.9452 - dense_5_acc_1: 0.9221 - dense_5_acc_2: 0.9182 - dense_5_acc_3: 0.9588 - dense_5_acc_4: 0.9954 - dense_5_acc_5: 0.9998\n",
      "Epoch 480/500\n",
      " - 20s - loss: 0.7078 - dense_5_loss: 0.0011 - dense_5_acc: 0.9470 - dense_5_acc_1: 0.9197 - dense_5_acc_2: 0.9167 - dense_5_acc_3: 0.9570 - dense_5_acc_4: 0.9952 - dense_5_acc_5: 0.9999\n",
      "Epoch 481/500\n",
      " - 20s - loss: 0.6978 - dense_5_loss: 8.4091e-04 - dense_5_acc: 0.9481 - dense_5_acc_1: 0.9220 - dense_5_acc_2: 0.9163 - dense_5_acc_3: 0.9585 - dense_5_acc_4: 0.9956 - dense_5_acc_5: 0.9999\n",
      "Epoch 482/500\n",
      " - 20s - loss: 0.6993 - dense_5_loss: 9.6517e-04 - dense_5_acc: 0.9476 - dense_5_acc_1: 0.9228 - dense_5_acc_2: 0.9160 - dense_5_acc_3: 0.9568 - dense_5_acc_4: 0.9957 - dense_5_acc_5: 0.9999\n",
      "Epoch 483/500\n",
      " - 20s - loss: 0.6872 - dense_5_loss: 0.0020 - dense_5_acc: 0.9438 - dense_5_acc_1: 0.9237 - dense_5_acc_2: 0.9194 - dense_5_acc_3: 0.9594 - dense_5_acc_4: 0.9958 - dense_5_acc_5: 0.9996\n",
      "Epoch 484/500\n",
      " - 20s - loss: 0.6822 - dense_5_loss: 9.0266e-04 - dense_5_acc: 0.9486 - dense_5_acc_1: 0.9246 - dense_5_acc_2: 0.9173 - dense_5_acc_3: 0.9589 - dense_5_acc_4: 0.9956 - dense_5_acc_5: 0.9998\n",
      "Epoch 485/500\n",
      " - 20s - loss: 0.6893 - dense_5_loss: 8.9824e-04 - dense_5_acc: 0.9496 - dense_5_acc_1: 0.9240 - dense_5_acc_2: 0.9168 - dense_5_acc_3: 0.9589 - dense_5_acc_4: 0.9956 - dense_5_acc_5: 0.9998\n",
      "Epoch 486/500\n",
      " - 20s - loss: 0.6943 - dense_5_loss: 0.0013 - dense_5_acc: 0.9463 - dense_5_acc_1: 0.9214 - dense_5_acc_2: 0.9179 - dense_5_acc_3: 0.9579 - dense_5_acc_4: 0.9950 - dense_5_acc_5: 0.9998\n",
      "Epoch 487/500\n",
      " - 20s - loss: 0.6809 - dense_5_loss: 0.0019 - dense_5_acc: 0.9488 - dense_5_acc_1: 0.9239 - dense_5_acc_2: 0.9172 - dense_5_acc_3: 0.9601 - dense_5_acc_4: 0.9955 - dense_5_acc_5: 0.9997\n",
      "Epoch 488/500\n",
      " - 20s - loss: 0.6786 - dense_5_loss: 0.0011 - dense_5_acc: 0.9490 - dense_5_acc_1: 0.9243 - dense_5_acc_2: 0.9192 - dense_5_acc_3: 0.9600 - dense_5_acc_4: 0.9959 - dense_5_acc_5: 0.9998\n",
      "Epoch 489/500\n",
      " - 20s - loss: 0.6726 - dense_5_loss: 0.0013 - dense_5_acc: 0.9489 - dense_5_acc_1: 0.9223 - dense_5_acc_2: 0.9186 - dense_5_acc_3: 0.9606 - dense_5_acc_4: 0.9961 - dense_5_acc_5: 0.9998\n",
      "Epoch 490/500\n",
      " - 20s - loss: 0.6926 - dense_5_loss: 0.0021 - dense_5_acc: 0.9474 - dense_5_acc_1: 0.9234 - dense_5_acc_2: 0.9195 - dense_5_acc_3: 0.9579 - dense_5_acc_4: 0.9954 - dense_5_acc_5: 0.9997\n",
      "Epoch 491/500\n",
      " - 20s - loss: 0.7137 - dense_5_loss: 0.0019 - dense_5_acc: 0.9469 - dense_5_acc_1: 0.9230 - dense_5_acc_2: 0.9168 - dense_5_acc_3: 0.9563 - dense_5_acc_4: 0.9952 - dense_5_acc_5: 0.9996\n",
      "Epoch 492/500\n",
      " - 20s - loss: 0.7421 - dense_5_loss: 0.0019 - dense_5_acc: 0.9468 - dense_5_acc_1: 0.9175 - dense_5_acc_2: 0.9141 - dense_5_acc_3: 0.9542 - dense_5_acc_4: 0.9939 - dense_5_acc_5: 0.9997\n",
      "Epoch 493/500\n",
      " - 20s - loss: 0.6926 - dense_5_loss: 0.0015 - dense_5_acc: 0.9463 - dense_5_acc_1: 0.9218 - dense_5_acc_2: 0.9170 - dense_5_acc_3: 0.9582 - dense_5_acc_4: 0.9959 - dense_5_acc_5: 0.9997\n",
      "Epoch 494/500\n",
      " - 20s - loss: 0.6676 - dense_5_loss: 7.8652e-04 - dense_5_acc: 0.9475 - dense_5_acc_1: 0.9244 - dense_5_acc_2: 0.9187 - dense_5_acc_3: 0.9596 - dense_5_acc_4: 0.9963 - dense_5_acc_5: 0.9999\n",
      "Epoch 495/500\n",
      " - 20s - loss: 0.6644 - dense_5_loss: 0.0018 - dense_5_acc: 0.9489 - dense_5_acc_1: 0.9234 - dense_5_acc_2: 0.9191 - dense_5_acc_3: 0.9601 - dense_5_acc_4: 0.9956 - dense_5_acc_5: 0.9997\n",
      "Epoch 496/500\n",
      " - 20s - loss: 0.6581 - dense_5_loss: 7.7791e-04 - dense_5_acc: 0.9497 - dense_5_acc_1: 0.9254 - dense_5_acc_2: 0.9199 - dense_5_acc_3: 0.9621 - dense_5_acc_4: 0.9958 - dense_5_acc_5: 0.9999\n",
      "Epoch 497/500\n",
      " - 20s - loss: 0.6507 - dense_5_loss: 6.7732e-04 - dense_5_acc: 0.9489 - dense_5_acc_1: 0.9246 - dense_5_acc_2: 0.9212 - dense_5_acc_3: 0.9616 - dense_5_acc_4: 0.9962 - dense_5_acc_5: 0.9999\n",
      "Epoch 498/500\n",
      " - 20s - loss: 0.6659 - dense_5_loss: 0.0012 - dense_5_acc: 0.9474 - dense_5_acc_1: 0.9248 - dense_5_acc_2: 0.9197 - dense_5_acc_3: 0.9605 - dense_5_acc_4: 0.9957 - dense_5_acc_5: 0.9999\n",
      "Epoch 499/500\n",
      " - 20s - loss: 0.6970 - dense_5_loss: 0.0029 - dense_5_acc: 0.9470 - dense_5_acc_1: 0.9216 - dense_5_acc_2: 0.9169 - dense_5_acc_3: 0.9589 - dense_5_acc_4: 0.9948 - dense_5_acc_5: 0.9995\n",
      "Epoch 500/500\n",
      " - 20s - loss: 0.6841 - dense_5_loss: 0.0025 - dense_5_acc: 0.9469 - dense_5_acc_1: 0.9217 - dense_5_acc_2: 0.9203 - dense_5_acc_3: 0.9586 - dense_5_acc_4: 0.9947 - dense_5_acc_5: 0.9997\n"
     ]
    },
    {
     "data": {
      "text/plain": [
       "<keras.callbacks.History at 0x1c7563a4eb8>"
      ]
     },
     "execution_count": 41,
     "metadata": {},
     "output_type": "execute_result"
    }
   ],
   "source": [
    "model1.fit([trainXoh,s0,c0],outputs,epochs=500,verbose=2,batch_size=100)"
   ]
  },
  {
   "cell_type": "code",
   "execution_count": 42,
   "metadata": {
    "collapsed": true
   },
   "outputs": [],
   "source": [
    "def inv_dict(tokenizer):\n",
    "    inv_dict1={v:k for k,v in tokenizer.word_index.items()}\n",
    "    inv_dict1[0]='<EOS>'\n",
    "    return inv_dict1"
   ]
  },
  {
   "cell_type": "code",
   "execution_count": 43,
   "metadata": {
    "collapsed": true
   },
   "outputs": [],
   "source": [
    "def decode_seq_sent(inv_dict,seq):\n",
    "    x=np.argmax(seq,axis=-1)\n",
    "    outputs=[]\n",
    "    for i in range(len(x)):\n",
    "        seq=[inv_dict[ind] for ind in x[i,:]]\n",
    "        outputs.append(seq)\n",
    "    return outputs"
   ]
  },
  {
   "cell_type": "code",
   "execution_count": 124,
   "metadata": {
    "collapsed": true
   },
   "outputs": [],
   "source": [
    "def decode_seq_ref(inv_dict,seq):\n",
    "    x=np.argmax(seq,axis=-1)\n",
    "    outputs=[]\n",
    "    for i in range(len(x)):\n",
    "        seq=[inv_dict[ind] for ind in x[i,:]]\n",
    "        outputs.append([seq])\n",
    "    return outputs"
   ]
  },
  {
   "cell_type": "code",
   "execution_count": 44,
   "metadata": {
    "collapsed": true
   },
   "outputs": [],
   "source": [
    "eng_inv_dict=inv_dict(eng_tokenizer)\n",
    "ger_inv_dict=inv_dict(ger_tokenizer)"
   ]
  },
  {
   "cell_type": "code",
   "execution_count": 45,
   "metadata": {
    "collapsed": true
   },
   "outputs": [],
   "source": [
    "def predict_sequence(model,inv_dict,text):\n",
    "    ypred=model.predict([text,s0,c0])\n",
    "    y=np.argmax(ypred,axis=-1)\n",
    "    y=y.swapaxes(0,1)\n",
    "    outputs=[]\n",
    "    for i in range(len(y)):\n",
    "        seq=[inv_dict[ind] for ind in y[i,:]]\n",
    "        outputs.append(seq)\n",
    "    return outputs"
   ]
  },
  {
   "cell_type": "code",
   "execution_count": 125,
   "metadata": {
    "collapsed": true
   },
   "outputs": [],
   "source": [
    "from nltk.translate.bleu_score import corpus_bleu\n",
    "def evaluate_model(model,inv_dict,textX,textY):\n",
    "    ypred=predict_sequence(model,inv_dict,textX)\n",
    "    yact=decode_seq_ref(inv_dict,textY)\n",
    "    print(\"score is %f\"%(corpus_bleu(yact,ypred)))"
   ]
  },
  {
   "cell_type": "code",
   "execution_count": 126,
   "metadata": {
    "collapsed": false
   },
   "outputs": [
    {
     "name": "stdout",
     "output_type": "stream",
     "text": [
      "score is 0.351035\n"
     ]
    }
   ],
   "source": [
    "evaluate_model(model1,eng_inv_dict,testXoh,testYoh)"
   ]
  },
  {
   "cell_type": "code",
   "execution_count": 127,
   "metadata": {
    "collapsed": false
   },
   "outputs": [
    {
     "name": "stdout",
     "output_type": "stream",
     "text": [
      "score is 0.918848\n"
     ]
    }
   ],
   "source": [
    "#evaluating on train data\n",
    "evaluate_model(model1,eng_inv_dict,trainXoh,trainYoh)"
   ]
  },
  {
   "cell_type": "code",
   "execution_count": 110,
   "metadata": {
    "collapsed": false
   },
   "outputs": [],
   "source": [
    "def decode_seq_ind(inv_dict,seq):\n",
    "    x=np.argmax(seq,axis=-1)\n",
    "    words=[inv_dict[ind] for ind in x]\n",
    "    lst=' '.join(words)\n",
    "    return lst"
   ]
  },
  {
   "cell_type": "code",
   "execution_count": 118,
   "metadata": {
    "collapsed": true
   },
   "outputs": [],
   "source": [
    "from nltk.translate.bleu_score import sentence_bleu\n",
    "def evaluate_model2(model,inv_dict,textX,textY):\n",
    "    ypred=predict_sequence(model,inv_dict,textX)\n",
    "    yact=decode_seq(inv_dict,textY)\n",
    "    bleu_score=0\n",
    "    for i in range(len(ypred)):\n",
    "        bleu_score+=sentence_bleu([yact[i]],ypred[i])\n",
    "    print(\"score is %f\"%(bleu_score/float(len(ypred))))"
   ]
  },
  {
   "cell_type": "code",
   "execution_count": 119,
   "metadata": {
    "collapsed": false
   },
   "outputs": [
    {
     "name": "stdout",
     "output_type": "stream",
     "text": [
      "score is 0.589757\n"
     ]
    }
   ],
   "source": [
    "evaluate_model2(model1,eng_inv_dict,testXoh,testYoh)"
   ]
  },
  {
   "cell_type": "code",
   "execution_count": 128,
   "metadata": {
    "collapsed": false
   },
   "outputs": [
    {
     "name": "stdout",
     "output_type": "stream",
     "text": [
      "score is 0.936413\n"
     ]
    }
   ],
   "source": [
    "evaluate_model2(model1,eng_inv_dict,trainXoh,trainYoh)"
   ]
  },
  {
   "cell_type": "code",
   "execution_count": null,
   "metadata": {
    "collapsed": true
   },
   "outputs": [],
   "source": []
  }
 ],
 "metadata": {
  "anaconda-cloud": {},
  "kernelspec": {
   "display_name": "Python [conda root]",
   "language": "python",
   "name": "conda-root-py"
  },
  "language_info": {
   "codemirror_mode": {
    "name": "ipython",
    "version": 3
   },
   "file_extension": ".py",
   "mimetype": "text/x-python",
   "name": "python",
   "nbconvert_exporter": "python",
   "pygments_lexer": "ipython3",
   "version": "3.5.2"
  }
 },
 "nbformat": 4,
 "nbformat_minor": 1
}
